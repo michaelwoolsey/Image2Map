{
  "nbformat": 4,
  "nbformat_minor": 0,
  "metadata": {
    "colab": {
      "name": "pokemon_classification.ipynb",
      "provenance": [],
      "collapsed_sections": [
        "_Fx8wqhoJy6m",
        "mQ5LUd_Z1xcb"
      ],
      "include_colab_link": true
    },
    "kernelspec": {
      "name": "python3",
      "display_name": "Python 3"
    }
  },
  "cells": [
    {
      "cell_type": "markdown",
      "metadata": {
        "id": "view-in-github",
        "colab_type": "text"
      },
      "source": [
        "<a href=\"https://colab.research.google.com/github/michaelwoolsey/Image2Map/blob/master/pokemon_classification_chally.ipynb\" target=\"_parent\"><img src=\"https://colab.research.google.com/assets/colab-badge.svg\" alt=\"Open In Colab\"/></a>"
      ]
    },
    {
      "cell_type": "markdown",
      "metadata": {
        "id": "08uUmpEb0aDK"
      },
      "source": [
        "# Pokemon Classification\n",
        "\n",
        "In this notebook we will explore classification supervised learning by classifying the types of different Pokemon based on their stats."
      ]
    },
    {
      "cell_type": "markdown",
      "metadata": {
        "id": "HHGjFutF02MJ"
      },
      "source": [
        "First we'll make sure the correct version of SciKit Learn is installed."
      ]
    },
    {
      "cell_type": "code",
      "metadata": {
        "id": "A5pTnpwYZRCY",
        "colab": {
          "base_uri": "https://localhost:8080/"
        },
        "outputId": "20d34bc7-249a-44cf-ce82-d4d160de6f25"
      },
      "source": [
        "if 'sklearn_installed' not in globals():\n",
        "  # Make sure a suitable version of sklearn is installed\n",
        "  !pip install scikit-learn~=0.23\n",
        "\n",
        "sklearn_installed = True"
      ],
      "execution_count": null,
      "outputs": [
        {
          "output_type": "stream",
          "text": [
            "Collecting scikit-learn~=0.23\n",
            "\u001b[?25l  Downloading https://files.pythonhosted.org/packages/f3/74/eb899f41d55f957e2591cde5528e75871f817d9fb46d4732423ecaca736d/scikit_learn-0.24.1-cp37-cp37m-manylinux2010_x86_64.whl (22.3MB)\n",
            "\u001b[K     |████████████████████████████████| 22.3MB 1.4MB/s \n",
            "\u001b[?25hRequirement already satisfied: joblib>=0.11 in /usr/local/lib/python3.7/dist-packages (from scikit-learn~=0.23) (1.0.1)\n",
            "Requirement already satisfied: numpy>=1.13.3 in /usr/local/lib/python3.7/dist-packages (from scikit-learn~=0.23) (1.19.5)\n",
            "Requirement already satisfied: scipy>=0.19.1 in /usr/local/lib/python3.7/dist-packages (from scikit-learn~=0.23) (1.4.1)\n",
            "Collecting threadpoolctl>=2.0.0\n",
            "  Downloading https://files.pythonhosted.org/packages/f7/12/ec3f2e203afa394a149911729357aa48affc59c20e2c1c8297a60f33f133/threadpoolctl-2.1.0-py3-none-any.whl\n",
            "Installing collected packages: threadpoolctl, scikit-learn\n",
            "  Found existing installation: scikit-learn 0.22.2.post1\n",
            "    Uninstalling scikit-learn-0.22.2.post1:\n",
            "      Successfully uninstalled scikit-learn-0.22.2.post1\n",
            "Successfully installed scikit-learn-0.24.1 threadpoolctl-2.1.0\n"
          ],
          "name": "stdout"
        }
      ]
    },
    {
      "cell_type": "markdown",
      "metadata": {
        "id": "Aq8U39Ge1B1l"
      },
      "source": [
        "We import the necessary modules and set sklearn to display diagrams as output."
      ]
    },
    {
      "cell_type": "code",
      "metadata": {
        "id": "YKR-O2mqiJlt"
      },
      "source": [
        "import numpy as np\n",
        "import pandas as pd\n",
        "import sklearn\n",
        "from sklearn.model_selection import train_test_split\n",
        "from sklearn.linear_model import LogisticRegressionCV\n",
        "from sklearn.preprocessing import StandardScaler\n",
        "from sklearn.pipeline import make_pipeline\n",
        "from sklearn.metrics import balanced_accuracy_score, accuracy_score, classification_report, plot_confusion_matrix\n",
        "\n",
        "sklearn.set_config(display='diagram')"
      ],
      "execution_count": null,
      "outputs": []
    },
    {
      "cell_type": "markdown",
      "metadata": {
        "id": "O0ZxN3Z4aE9j"
      },
      "source": [
        "## Data Exploration"
      ]
    },
    {
      "cell_type": "markdown",
      "metadata": {
        "id": "vKg30hp51M_i"
      },
      "source": [
        "We will be using a dataset containing Pokemon and their stats. See the references at the bottom of the notebook for the data source."
      ]
    },
    {
      "cell_type": "code",
      "metadata": {
        "colab": {
          "base_uri": "https://localhost:8080/",
          "height": 466
        },
        "id": "6UCsB2UNotjX",
        "outputId": "27a1b012-e75b-400c-842f-6cbecea50fd4"
      },
      "source": [
        "data = pd.read_csv('pokemon_alopez247.csv', index_col='Number')\n",
        "data"
      ],
      "execution_count": null,
      "outputs": [
        {
          "output_type": "execute_result",
          "data": {
            "text/html": [
              "<div>\n",
              "<style scoped>\n",
              "    .dataframe tbody tr th:only-of-type {\n",
              "        vertical-align: middle;\n",
              "    }\n",
              "\n",
              "    .dataframe tbody tr th {\n",
              "        vertical-align: top;\n",
              "    }\n",
              "\n",
              "    .dataframe thead th {\n",
              "        text-align: right;\n",
              "    }\n",
              "</style>\n",
              "<table border=\"1\" class=\"dataframe\">\n",
              "  <thead>\n",
              "    <tr style=\"text-align: right;\">\n",
              "      <th></th>\n",
              "      <th>Name</th>\n",
              "      <th>Type_1</th>\n",
              "      <th>Type_2</th>\n",
              "      <th>Total</th>\n",
              "      <th>HP</th>\n",
              "      <th>Attack</th>\n",
              "      <th>Defense</th>\n",
              "      <th>Sp_Atk</th>\n",
              "      <th>Sp_Def</th>\n",
              "      <th>Speed</th>\n",
              "      <th>Generation</th>\n",
              "      <th>isLegendary</th>\n",
              "      <th>Color</th>\n",
              "      <th>hasGender</th>\n",
              "      <th>Pr_Male</th>\n",
              "      <th>Egg_Group_1</th>\n",
              "      <th>Egg_Group_2</th>\n",
              "      <th>hasMegaEvolution</th>\n",
              "      <th>Height_m</th>\n",
              "      <th>Weight_kg</th>\n",
              "      <th>Catch_Rate</th>\n",
              "      <th>Body_Style</th>\n",
              "    </tr>\n",
              "    <tr>\n",
              "      <th>Number</th>\n",
              "      <th></th>\n",
              "      <th></th>\n",
              "      <th></th>\n",
              "      <th></th>\n",
              "      <th></th>\n",
              "      <th></th>\n",
              "      <th></th>\n",
              "      <th></th>\n",
              "      <th></th>\n",
              "      <th></th>\n",
              "      <th></th>\n",
              "      <th></th>\n",
              "      <th></th>\n",
              "      <th></th>\n",
              "      <th></th>\n",
              "      <th></th>\n",
              "      <th></th>\n",
              "      <th></th>\n",
              "      <th></th>\n",
              "      <th></th>\n",
              "      <th></th>\n",
              "      <th></th>\n",
              "    </tr>\n",
              "  </thead>\n",
              "  <tbody>\n",
              "    <tr>\n",
              "      <th>1</th>\n",
              "      <td>Bulbasaur</td>\n",
              "      <td>Grass</td>\n",
              "      <td>Poison</td>\n",
              "      <td>318</td>\n",
              "      <td>45</td>\n",
              "      <td>49</td>\n",
              "      <td>49</td>\n",
              "      <td>65</td>\n",
              "      <td>65</td>\n",
              "      <td>45</td>\n",
              "      <td>1</td>\n",
              "      <td>False</td>\n",
              "      <td>Green</td>\n",
              "      <td>True</td>\n",
              "      <td>0.875</td>\n",
              "      <td>Monster</td>\n",
              "      <td>Grass</td>\n",
              "      <td>False</td>\n",
              "      <td>0.71</td>\n",
              "      <td>6.9</td>\n",
              "      <td>45</td>\n",
              "      <td>quadruped</td>\n",
              "    </tr>\n",
              "    <tr>\n",
              "      <th>2</th>\n",
              "      <td>Ivysaur</td>\n",
              "      <td>Grass</td>\n",
              "      <td>Poison</td>\n",
              "      <td>405</td>\n",
              "      <td>60</td>\n",
              "      <td>62</td>\n",
              "      <td>63</td>\n",
              "      <td>80</td>\n",
              "      <td>80</td>\n",
              "      <td>60</td>\n",
              "      <td>1</td>\n",
              "      <td>False</td>\n",
              "      <td>Green</td>\n",
              "      <td>True</td>\n",
              "      <td>0.875</td>\n",
              "      <td>Monster</td>\n",
              "      <td>Grass</td>\n",
              "      <td>False</td>\n",
              "      <td>0.99</td>\n",
              "      <td>13.0</td>\n",
              "      <td>45</td>\n",
              "      <td>quadruped</td>\n",
              "    </tr>\n",
              "    <tr>\n",
              "      <th>3</th>\n",
              "      <td>Venusaur</td>\n",
              "      <td>Grass</td>\n",
              "      <td>Poison</td>\n",
              "      <td>525</td>\n",
              "      <td>80</td>\n",
              "      <td>82</td>\n",
              "      <td>83</td>\n",
              "      <td>100</td>\n",
              "      <td>100</td>\n",
              "      <td>80</td>\n",
              "      <td>1</td>\n",
              "      <td>False</td>\n",
              "      <td>Green</td>\n",
              "      <td>True</td>\n",
              "      <td>0.875</td>\n",
              "      <td>Monster</td>\n",
              "      <td>Grass</td>\n",
              "      <td>True</td>\n",
              "      <td>2.01</td>\n",
              "      <td>100.0</td>\n",
              "      <td>45</td>\n",
              "      <td>quadruped</td>\n",
              "    </tr>\n",
              "    <tr>\n",
              "      <th>4</th>\n",
              "      <td>Charmander</td>\n",
              "      <td>Fire</td>\n",
              "      <td>NaN</td>\n",
              "      <td>309</td>\n",
              "      <td>39</td>\n",
              "      <td>52</td>\n",
              "      <td>43</td>\n",
              "      <td>60</td>\n",
              "      <td>50</td>\n",
              "      <td>65</td>\n",
              "      <td>1</td>\n",
              "      <td>False</td>\n",
              "      <td>Red</td>\n",
              "      <td>True</td>\n",
              "      <td>0.875</td>\n",
              "      <td>Monster</td>\n",
              "      <td>Dragon</td>\n",
              "      <td>False</td>\n",
              "      <td>0.61</td>\n",
              "      <td>8.5</td>\n",
              "      <td>45</td>\n",
              "      <td>bipedal_tailed</td>\n",
              "    </tr>\n",
              "    <tr>\n",
              "      <th>5</th>\n",
              "      <td>Charmeleon</td>\n",
              "      <td>Fire</td>\n",
              "      <td>NaN</td>\n",
              "      <td>405</td>\n",
              "      <td>58</td>\n",
              "      <td>64</td>\n",
              "      <td>58</td>\n",
              "      <td>80</td>\n",
              "      <td>65</td>\n",
              "      <td>80</td>\n",
              "      <td>1</td>\n",
              "      <td>False</td>\n",
              "      <td>Red</td>\n",
              "      <td>True</td>\n",
              "      <td>0.875</td>\n",
              "      <td>Monster</td>\n",
              "      <td>Dragon</td>\n",
              "      <td>False</td>\n",
              "      <td>1.09</td>\n",
              "      <td>19.0</td>\n",
              "      <td>45</td>\n",
              "      <td>bipedal_tailed</td>\n",
              "    </tr>\n",
              "    <tr>\n",
              "      <th>...</th>\n",
              "      <td>...</td>\n",
              "      <td>...</td>\n",
              "      <td>...</td>\n",
              "      <td>...</td>\n",
              "      <td>...</td>\n",
              "      <td>...</td>\n",
              "      <td>...</td>\n",
              "      <td>...</td>\n",
              "      <td>...</td>\n",
              "      <td>...</td>\n",
              "      <td>...</td>\n",
              "      <td>...</td>\n",
              "      <td>...</td>\n",
              "      <td>...</td>\n",
              "      <td>...</td>\n",
              "      <td>...</td>\n",
              "      <td>...</td>\n",
              "      <td>...</td>\n",
              "      <td>...</td>\n",
              "      <td>...</td>\n",
              "      <td>...</td>\n",
              "      <td>...</td>\n",
              "    </tr>\n",
              "    <tr>\n",
              "      <th>717</th>\n",
              "      <td>Yveltal</td>\n",
              "      <td>Dark</td>\n",
              "      <td>Flying</td>\n",
              "      <td>680</td>\n",
              "      <td>126</td>\n",
              "      <td>131</td>\n",
              "      <td>95</td>\n",
              "      <td>131</td>\n",
              "      <td>98</td>\n",
              "      <td>99</td>\n",
              "      <td>6</td>\n",
              "      <td>True</td>\n",
              "      <td>Red</td>\n",
              "      <td>False</td>\n",
              "      <td>NaN</td>\n",
              "      <td>Undiscovered</td>\n",
              "      <td>NaN</td>\n",
              "      <td>False</td>\n",
              "      <td>5.79</td>\n",
              "      <td>203.0</td>\n",
              "      <td>45</td>\n",
              "      <td>two_wings</td>\n",
              "    </tr>\n",
              "    <tr>\n",
              "      <th>718</th>\n",
              "      <td>Zygarde</td>\n",
              "      <td>Dragon</td>\n",
              "      <td>Ground</td>\n",
              "      <td>600</td>\n",
              "      <td>108</td>\n",
              "      <td>100</td>\n",
              "      <td>121</td>\n",
              "      <td>81</td>\n",
              "      <td>95</td>\n",
              "      <td>95</td>\n",
              "      <td>6</td>\n",
              "      <td>True</td>\n",
              "      <td>Green</td>\n",
              "      <td>False</td>\n",
              "      <td>NaN</td>\n",
              "      <td>Undiscovered</td>\n",
              "      <td>NaN</td>\n",
              "      <td>False</td>\n",
              "      <td>5.00</td>\n",
              "      <td>305.0</td>\n",
              "      <td>3</td>\n",
              "      <td>serpentine_body</td>\n",
              "    </tr>\n",
              "    <tr>\n",
              "      <th>719</th>\n",
              "      <td>Diancie</td>\n",
              "      <td>Rock</td>\n",
              "      <td>Fairy</td>\n",
              "      <td>600</td>\n",
              "      <td>50</td>\n",
              "      <td>100</td>\n",
              "      <td>150</td>\n",
              "      <td>100</td>\n",
              "      <td>150</td>\n",
              "      <td>50</td>\n",
              "      <td>6</td>\n",
              "      <td>True</td>\n",
              "      <td>Pink</td>\n",
              "      <td>False</td>\n",
              "      <td>NaN</td>\n",
              "      <td>Undiscovered</td>\n",
              "      <td>NaN</td>\n",
              "      <td>True</td>\n",
              "      <td>0.71</td>\n",
              "      <td>8.8</td>\n",
              "      <td>3</td>\n",
              "      <td>head_arms</td>\n",
              "    </tr>\n",
              "    <tr>\n",
              "      <th>720</th>\n",
              "      <td>Hoopa</td>\n",
              "      <td>Psychic</td>\n",
              "      <td>Ghost</td>\n",
              "      <td>600</td>\n",
              "      <td>80</td>\n",
              "      <td>110</td>\n",
              "      <td>60</td>\n",
              "      <td>150</td>\n",
              "      <td>130</td>\n",
              "      <td>70</td>\n",
              "      <td>6</td>\n",
              "      <td>True</td>\n",
              "      <td>Purple</td>\n",
              "      <td>False</td>\n",
              "      <td>NaN</td>\n",
              "      <td>Undiscovered</td>\n",
              "      <td>NaN</td>\n",
              "      <td>False</td>\n",
              "      <td>0.51</td>\n",
              "      <td>9.0</td>\n",
              "      <td>3</td>\n",
              "      <td>head_only</td>\n",
              "    </tr>\n",
              "    <tr>\n",
              "      <th>721</th>\n",
              "      <td>Volcanion</td>\n",
              "      <td>Fire</td>\n",
              "      <td>Water</td>\n",
              "      <td>600</td>\n",
              "      <td>80</td>\n",
              "      <td>110</td>\n",
              "      <td>120</td>\n",
              "      <td>130</td>\n",
              "      <td>90</td>\n",
              "      <td>70</td>\n",
              "      <td>6</td>\n",
              "      <td>True</td>\n",
              "      <td>Brown</td>\n",
              "      <td>False</td>\n",
              "      <td>NaN</td>\n",
              "      <td>Undiscovered</td>\n",
              "      <td>NaN</td>\n",
              "      <td>False</td>\n",
              "      <td>1.70</td>\n",
              "      <td>195.0</td>\n",
              "      <td>3</td>\n",
              "      <td>quadruped</td>\n",
              "    </tr>\n",
              "  </tbody>\n",
              "</table>\n",
              "<p>721 rows × 22 columns</p>\n",
              "</div>"
            ],
            "text/plain": [
              "              Name   Type_1  Type_2  ...  Weight_kg  Catch_Rate       Body_Style\n",
              "Number                               ...                                        \n",
              "1        Bulbasaur    Grass  Poison  ...        6.9          45        quadruped\n",
              "2          Ivysaur    Grass  Poison  ...       13.0          45        quadruped\n",
              "3         Venusaur    Grass  Poison  ...      100.0          45        quadruped\n",
              "4       Charmander     Fire     NaN  ...        8.5          45   bipedal_tailed\n",
              "5       Charmeleon     Fire     NaN  ...       19.0          45   bipedal_tailed\n",
              "...            ...      ...     ...  ...        ...         ...              ...\n",
              "717        Yveltal     Dark  Flying  ...      203.0          45        two_wings\n",
              "718        Zygarde   Dragon  Ground  ...      305.0           3  serpentine_body\n",
              "719        Diancie     Rock   Fairy  ...        8.8           3        head_arms\n",
              "720          Hoopa  Psychic   Ghost  ...        9.0           3        head_only\n",
              "721      Volcanion     Fire   Water  ...      195.0           3        quadruped\n",
              "\n",
              "[721 rows x 22 columns]"
            ]
          },
          "metadata": {
            "tags": []
          },
          "execution_count": 8
        }
      ]
    },
    {
      "cell_type": "markdown",
      "metadata": {
        "id": "j0knRFyL4Zu0"
      },
      "source": [
        "Let's get some insight into our data."
      ]
    },
    {
      "cell_type": "code",
      "metadata": {
        "colab": {
          "base_uri": "https://localhost:8080/"
        },
        "id": "uIol6l2S4G6j",
        "outputId": "8023077e-267e-4234-81c8-ab0c7cb14037"
      },
      "source": [
        "data.info()"
      ],
      "execution_count": null,
      "outputs": [
        {
          "output_type": "stream",
          "text": [
            "<class 'pandas.core.frame.DataFrame'>\n",
            "Int64Index: 721 entries, 1 to 721\n",
            "Data columns (total 22 columns):\n",
            " #   Column            Non-Null Count  Dtype  \n",
            "---  ------            --------------  -----  \n",
            " 0   Name              721 non-null    object \n",
            " 1   Type_1            721 non-null    object \n",
            " 2   Type_2            350 non-null    object \n",
            " 3   Total             721 non-null    int64  \n",
            " 4   HP                721 non-null    int64  \n",
            " 5   Attack            721 non-null    int64  \n",
            " 6   Defense           721 non-null    int64  \n",
            " 7   Sp_Atk            721 non-null    int64  \n",
            " 8   Sp_Def            721 non-null    int64  \n",
            " 9   Speed             721 non-null    int64  \n",
            " 10  Generation        721 non-null    int64  \n",
            " 11  isLegendary       721 non-null    bool   \n",
            " 12  Color             721 non-null    object \n",
            " 13  hasGender         721 non-null    bool   \n",
            " 14  Pr_Male           644 non-null    float64\n",
            " 15  Egg_Group_1       721 non-null    object \n",
            " 16  Egg_Group_2       191 non-null    object \n",
            " 17  hasMegaEvolution  721 non-null    bool   \n",
            " 18  Height_m          721 non-null    float64\n",
            " 19  Weight_kg         721 non-null    float64\n",
            " 20  Catch_Rate        721 non-null    int64  \n",
            " 21  Body_Style        721 non-null    object \n",
            "dtypes: bool(3), float64(3), int64(9), object(7)\n",
            "memory usage: 114.8+ KB\n"
          ],
          "name": "stdout"
        }
      ]
    },
    {
      "cell_type": "markdown",
      "metadata": {
        "id": "1p4gWyyZ4e6e"
      },
      "source": [
        "One important thing to note here is that `Type_1` has all non-null values, but `Type_2` only has 350 out of 721 non-null values."
      ]
    },
    {
      "cell_type": "markdown",
      "metadata": {
        "id": "c4emyfwB1rZ-"
      },
      "source": [
        "Since we are classifying the type of each Pokemon, it's important to understand how much data of each type we have to work with. We can use `value_counts` to see how many Pokemon of each type we have."
      ]
    },
    {
      "cell_type": "code",
      "metadata": {
        "colab": {
          "base_uri": "https://localhost:8080/"
        },
        "id": "ctvhHrx2Xs31",
        "outputId": "5b5cfa6a-52d8-479d-a305-e3db71c2cbb3"
      },
      "source": [
        "data['Type_1'].value_counts()"
      ],
      "execution_count": null,
      "outputs": [
        {
          "output_type": "execute_result",
          "data": {
            "text/plain": [
              "Water       105\n",
              "Normal       93\n",
              "Grass        66\n",
              "Bug          63\n",
              "Psychic      47\n",
              "Fire         47\n",
              "Rock         41\n",
              "Electric     36\n",
              "Ground       30\n",
              "Poison       28\n",
              "Dark         28\n",
              "Fighting     25\n",
              "Dragon       24\n",
              "Ghost        23\n",
              "Ice          23\n",
              "Steel        22\n",
              "Fairy        17\n",
              "Flying        3\n",
              "Name: Type_1, dtype: int64"
            ]
          },
          "metadata": {
            "tags": []
          },
          "execution_count": 10
        }
      ]
    },
    {
      "cell_type": "markdown",
      "metadata": {
        "id": "Z27bO6UM2By7"
      },
      "source": [
        "For the primary type, there are a few types which we don't have many examples of. This will be problematic for classification of these types because our model will not have much to learn from!\n",
        "\n",
        "Let's also look at the secondary type to see if we have more examples there."
      ]
    },
    {
      "cell_type": "code",
      "metadata": {
        "colab": {
          "base_uri": "https://localhost:8080/"
        },
        "id": "Wh0y4Db4b-a1",
        "outputId": "7c7f135a-ab8a-48c4-d30e-b1d809f83bdd"
      },
      "source": [
        "data['Type_2'].value_counts()"
      ],
      "execution_count": null,
      "outputs": [
        {
          "output_type": "execute_result",
          "data": {
            "text/plain": [
              "Flying      87\n",
              "Poison      31\n",
              "Ground      30\n",
              "Psychic     27\n",
              "Steel       19\n",
              "Fighting    19\n",
              "Grass       18\n",
              "Fairy       18\n",
              "Dark        16\n",
              "Rock        14\n",
              "Dragon      14\n",
              "Water       13\n",
              "Ghost       12\n",
              "Ice         10\n",
              "Fire         9\n",
              "Electric     6\n",
              "Normal       4\n",
              "Bug          3\n",
              "Name: Type_2, dtype: int64"
            ]
          },
          "metadata": {
            "tags": []
          },
          "execution_count": 11
        }
      ]
    },
    {
      "cell_type": "markdown",
      "metadata": {
        "id": "MlGs25wY2jyk"
      },
      "source": [
        "That's a bit better, it should be more balanced if we use the secondary types as well.\n"
      ]
    },
    {
      "cell_type": "markdown",
      "metadata": {
        "id": "hoIkFi8kCBJ6"
      },
      "source": [
        "## Binary Classification"
      ]
    },
    {
      "cell_type": "markdown",
      "metadata": {
        "id": "_mXSnXIx5DIl"
      },
      "source": [
        "We will start by classifying whether or not a Pokemon is a fire type.\n",
        "\n",
        "In classification, the model typically needs to work with 0s and 1s instead of strings, so we encode the string values for each row. The encoding works by placing a 1 whenever the row is a positive example, and a 0 when it is not. So in this case, we want 1s whenever a Pokemon is a fire type, and 0s if it is any other type. Predicting 1s and 0s is why it's called *binary classification*.\n",
        "\n",
        "We can achieve this with pandas using `pd.get_dummies`. This function will give us a column of 0s and 1s for each category (the types are the categories in this case). After we have those columns for each type, we just take the fire columns.\n",
        "\n"
      ]
    },
    {
      "cell_type": "code",
      "metadata": {
        "id": "kwLuvDoJsqgq",
        "colab": {
          "base_uri": "https://localhost:8080/",
          "height": 233
        },
        "outputId": "3b30335d-21e0-49d4-ac25-d5d4fc5c2730"
      },
      "source": [
        "dummies = pd.get_dummies(data, columns=['Type_1', 'Type_2'])[['Type_1_Fire', 'Type_2_Fire']]\n",
        "dummies.head()"
      ],
      "execution_count": null,
      "outputs": [
        {
          "output_type": "execute_result",
          "data": {
            "text/html": [
              "<div>\n",
              "<style scoped>\n",
              "    .dataframe tbody tr th:only-of-type {\n",
              "        vertical-align: middle;\n",
              "    }\n",
              "\n",
              "    .dataframe tbody tr th {\n",
              "        vertical-align: top;\n",
              "    }\n",
              "\n",
              "    .dataframe thead th {\n",
              "        text-align: right;\n",
              "    }\n",
              "</style>\n",
              "<table border=\"1\" class=\"dataframe\">\n",
              "  <thead>\n",
              "    <tr style=\"text-align: right;\">\n",
              "      <th></th>\n",
              "      <th>Type_1_Fire</th>\n",
              "      <th>Type_2_Fire</th>\n",
              "    </tr>\n",
              "    <tr>\n",
              "      <th>Number</th>\n",
              "      <th></th>\n",
              "      <th></th>\n",
              "    </tr>\n",
              "  </thead>\n",
              "  <tbody>\n",
              "    <tr>\n",
              "      <th>1</th>\n",
              "      <td>0</td>\n",
              "      <td>0</td>\n",
              "    </tr>\n",
              "    <tr>\n",
              "      <th>2</th>\n",
              "      <td>0</td>\n",
              "      <td>0</td>\n",
              "    </tr>\n",
              "    <tr>\n",
              "      <th>3</th>\n",
              "      <td>0</td>\n",
              "      <td>0</td>\n",
              "    </tr>\n",
              "    <tr>\n",
              "      <th>4</th>\n",
              "      <td>1</td>\n",
              "      <td>0</td>\n",
              "    </tr>\n",
              "    <tr>\n",
              "      <th>5</th>\n",
              "      <td>1</td>\n",
              "      <td>0</td>\n",
              "    </tr>\n",
              "  </tbody>\n",
              "</table>\n",
              "</div>"
            ],
            "text/plain": [
              "        Type_1_Fire  Type_2_Fire\n",
              "Number                          \n",
              "1                 0            0\n",
              "2                 0            0\n",
              "3                 0            0\n",
              "4                 1            0\n",
              "5                 1            0"
            ]
          },
          "metadata": {
            "tags": []
          },
          "execution_count": 12
        }
      ]
    },
    {
      "cell_type": "markdown",
      "metadata": {
        "id": "MHEJKlMj5jtf"
      },
      "source": [
        "**Challenge**: Take a look at the output of just `pd.get_dummies(data)` and consider why each of the columns in the output is there, what values they will contain, and what each value means."
      ]
    },
    {
      "cell_type": "code",
      "metadata": {
        "id": "ed1JQN5l55t3"
      },
      "source": [
        ""
      ],
      "execution_count": null,
      "outputs": []
    },
    {
      "cell_type": "markdown",
      "metadata": {
        "id": "wn0N50gBE0HB"
      },
      "source": [
        "We want to use both the primary and secondary types of each Pokemon, so we will use the `|` (or) operator to create a combined column `Is_Fire` which will contain 1 when the Pokemon is a fire type in either the primary or secondary type columns (or both, but that's not the case with pokemon). The `|` operator will give 1 if either operand is 1, and 0 otherwise."
      ]
    },
    {
      "cell_type": "code",
      "metadata": {
        "id": "65ZusG0gEyPb"
      },
      "source": [
        "data['Is_Fire'] = dummies['Type_1_Fire'] | dummies['Type_2_Fire']"
      ],
      "execution_count": null,
      "outputs": []
    },
    {
      "cell_type": "markdown",
      "metadata": {
        "id": "HeCTRAE3E-AB"
      },
      "source": [
        "Just to confirm, let's check the `Is_Fire` column for the primary and secondary fire types."
      ]
    },
    {
      "cell_type": "code",
      "metadata": {
        "colab": {
          "base_uri": "https://localhost:8080/",
          "height": 253
        },
        "id": "3RqX2egCD3i-",
        "outputId": "422ecea2-622e-453c-bc05-4f2de12e88e9"
      },
      "source": [
        "data[dummies['Type_1_Fire'] == 1].head()"
      ],
      "execution_count": null,
      "outputs": [
        {
          "output_type": "execute_result",
          "data": {
            "text/html": [
              "<div>\n",
              "<style scoped>\n",
              "    .dataframe tbody tr th:only-of-type {\n",
              "        vertical-align: middle;\n",
              "    }\n",
              "\n",
              "    .dataframe tbody tr th {\n",
              "        vertical-align: top;\n",
              "    }\n",
              "\n",
              "    .dataframe thead th {\n",
              "        text-align: right;\n",
              "    }\n",
              "</style>\n",
              "<table border=\"1\" class=\"dataframe\">\n",
              "  <thead>\n",
              "    <tr style=\"text-align: right;\">\n",
              "      <th></th>\n",
              "      <th>Name</th>\n",
              "      <th>Type_1</th>\n",
              "      <th>Type_2</th>\n",
              "      <th>Total</th>\n",
              "      <th>HP</th>\n",
              "      <th>Attack</th>\n",
              "      <th>Defense</th>\n",
              "      <th>Sp_Atk</th>\n",
              "      <th>Sp_Def</th>\n",
              "      <th>Speed</th>\n",
              "      <th>Generation</th>\n",
              "      <th>isLegendary</th>\n",
              "      <th>Color</th>\n",
              "      <th>hasGender</th>\n",
              "      <th>Pr_Male</th>\n",
              "      <th>Egg_Group_1</th>\n",
              "      <th>Egg_Group_2</th>\n",
              "      <th>hasMegaEvolution</th>\n",
              "      <th>Height_m</th>\n",
              "      <th>Weight_kg</th>\n",
              "      <th>Catch_Rate</th>\n",
              "      <th>Body_Style</th>\n",
              "      <th>Is_Fire</th>\n",
              "    </tr>\n",
              "    <tr>\n",
              "      <th>Number</th>\n",
              "      <th></th>\n",
              "      <th></th>\n",
              "      <th></th>\n",
              "      <th></th>\n",
              "      <th></th>\n",
              "      <th></th>\n",
              "      <th></th>\n",
              "      <th></th>\n",
              "      <th></th>\n",
              "      <th></th>\n",
              "      <th></th>\n",
              "      <th></th>\n",
              "      <th></th>\n",
              "      <th></th>\n",
              "      <th></th>\n",
              "      <th></th>\n",
              "      <th></th>\n",
              "      <th></th>\n",
              "      <th></th>\n",
              "      <th></th>\n",
              "      <th></th>\n",
              "      <th></th>\n",
              "      <th></th>\n",
              "    </tr>\n",
              "  </thead>\n",
              "  <tbody>\n",
              "    <tr>\n",
              "      <th>4</th>\n",
              "      <td>Charmander</td>\n",
              "      <td>Fire</td>\n",
              "      <td>NaN</td>\n",
              "      <td>309</td>\n",
              "      <td>39</td>\n",
              "      <td>52</td>\n",
              "      <td>43</td>\n",
              "      <td>60</td>\n",
              "      <td>50</td>\n",
              "      <td>65</td>\n",
              "      <td>1</td>\n",
              "      <td>False</td>\n",
              "      <td>Red</td>\n",
              "      <td>True</td>\n",
              "      <td>0.875</td>\n",
              "      <td>Monster</td>\n",
              "      <td>Dragon</td>\n",
              "      <td>False</td>\n",
              "      <td>0.61</td>\n",
              "      <td>8.5</td>\n",
              "      <td>45</td>\n",
              "      <td>bipedal_tailed</td>\n",
              "      <td>1</td>\n",
              "    </tr>\n",
              "    <tr>\n",
              "      <th>5</th>\n",
              "      <td>Charmeleon</td>\n",
              "      <td>Fire</td>\n",
              "      <td>NaN</td>\n",
              "      <td>405</td>\n",
              "      <td>58</td>\n",
              "      <td>64</td>\n",
              "      <td>58</td>\n",
              "      <td>80</td>\n",
              "      <td>65</td>\n",
              "      <td>80</td>\n",
              "      <td>1</td>\n",
              "      <td>False</td>\n",
              "      <td>Red</td>\n",
              "      <td>True</td>\n",
              "      <td>0.875</td>\n",
              "      <td>Monster</td>\n",
              "      <td>Dragon</td>\n",
              "      <td>False</td>\n",
              "      <td>1.09</td>\n",
              "      <td>19.0</td>\n",
              "      <td>45</td>\n",
              "      <td>bipedal_tailed</td>\n",
              "      <td>1</td>\n",
              "    </tr>\n",
              "    <tr>\n",
              "      <th>6</th>\n",
              "      <td>Charizard</td>\n",
              "      <td>Fire</td>\n",
              "      <td>Flying</td>\n",
              "      <td>534</td>\n",
              "      <td>78</td>\n",
              "      <td>84</td>\n",
              "      <td>78</td>\n",
              "      <td>109</td>\n",
              "      <td>85</td>\n",
              "      <td>100</td>\n",
              "      <td>1</td>\n",
              "      <td>False</td>\n",
              "      <td>Red</td>\n",
              "      <td>True</td>\n",
              "      <td>0.875</td>\n",
              "      <td>Monster</td>\n",
              "      <td>Dragon</td>\n",
              "      <td>True</td>\n",
              "      <td>1.70</td>\n",
              "      <td>90.5</td>\n",
              "      <td>45</td>\n",
              "      <td>bipedal_tailed</td>\n",
              "      <td>1</td>\n",
              "    </tr>\n",
              "    <tr>\n",
              "      <th>37</th>\n",
              "      <td>Vulpix</td>\n",
              "      <td>Fire</td>\n",
              "      <td>NaN</td>\n",
              "      <td>299</td>\n",
              "      <td>38</td>\n",
              "      <td>41</td>\n",
              "      <td>40</td>\n",
              "      <td>50</td>\n",
              "      <td>65</td>\n",
              "      <td>65</td>\n",
              "      <td>1</td>\n",
              "      <td>False</td>\n",
              "      <td>Brown</td>\n",
              "      <td>True</td>\n",
              "      <td>0.250</td>\n",
              "      <td>Field</td>\n",
              "      <td>NaN</td>\n",
              "      <td>False</td>\n",
              "      <td>0.61</td>\n",
              "      <td>9.9</td>\n",
              "      <td>190</td>\n",
              "      <td>quadruped</td>\n",
              "      <td>1</td>\n",
              "    </tr>\n",
              "    <tr>\n",
              "      <th>38</th>\n",
              "      <td>Ninetales</td>\n",
              "      <td>Fire</td>\n",
              "      <td>NaN</td>\n",
              "      <td>505</td>\n",
              "      <td>73</td>\n",
              "      <td>76</td>\n",
              "      <td>75</td>\n",
              "      <td>81</td>\n",
              "      <td>100</td>\n",
              "      <td>100</td>\n",
              "      <td>1</td>\n",
              "      <td>False</td>\n",
              "      <td>Yellow</td>\n",
              "      <td>True</td>\n",
              "      <td>0.250</td>\n",
              "      <td>Field</td>\n",
              "      <td>NaN</td>\n",
              "      <td>False</td>\n",
              "      <td>1.09</td>\n",
              "      <td>19.9</td>\n",
              "      <td>75</td>\n",
              "      <td>quadruped</td>\n",
              "      <td>1</td>\n",
              "    </tr>\n",
              "  </tbody>\n",
              "</table>\n",
              "</div>"
            ],
            "text/plain": [
              "              Name Type_1  Type_2  ...  Catch_Rate      Body_Style  Is_Fire\n",
              "Number                             ...                                     \n",
              "4       Charmander   Fire     NaN  ...          45  bipedal_tailed        1\n",
              "5       Charmeleon   Fire     NaN  ...          45  bipedal_tailed        1\n",
              "6        Charizard   Fire  Flying  ...          45  bipedal_tailed        1\n",
              "37          Vulpix   Fire     NaN  ...         190       quadruped        1\n",
              "38       Ninetales   Fire     NaN  ...          75       quadruped        1\n",
              "\n",
              "[5 rows x 23 columns]"
            ]
          },
          "metadata": {
            "tags": []
          },
          "execution_count": 14
        }
      ]
    },
    {
      "cell_type": "code",
      "metadata": {
        "colab": {
          "base_uri": "https://localhost:8080/",
          "height": 253
        },
        "id": "C4ah4B1iD57w",
        "outputId": "9a9176b0-dfce-4910-8207-a854d9b80bcd"
      },
      "source": [
        "data[dummies['Type_2_Fire'] == 1].head()"
      ],
      "execution_count": null,
      "outputs": [
        {
          "output_type": "execute_result",
          "data": {
            "text/html": [
              "<div>\n",
              "<style scoped>\n",
              "    .dataframe tbody tr th:only-of-type {\n",
              "        vertical-align: middle;\n",
              "    }\n",
              "\n",
              "    .dataframe tbody tr th {\n",
              "        vertical-align: top;\n",
              "    }\n",
              "\n",
              "    .dataframe thead th {\n",
              "        text-align: right;\n",
              "    }\n",
              "</style>\n",
              "<table border=\"1\" class=\"dataframe\">\n",
              "  <thead>\n",
              "    <tr style=\"text-align: right;\">\n",
              "      <th></th>\n",
              "      <th>Name</th>\n",
              "      <th>Type_1</th>\n",
              "      <th>Type_2</th>\n",
              "      <th>Total</th>\n",
              "      <th>HP</th>\n",
              "      <th>Attack</th>\n",
              "      <th>Defense</th>\n",
              "      <th>Sp_Atk</th>\n",
              "      <th>Sp_Def</th>\n",
              "      <th>Speed</th>\n",
              "      <th>Generation</th>\n",
              "      <th>isLegendary</th>\n",
              "      <th>Color</th>\n",
              "      <th>hasGender</th>\n",
              "      <th>Pr_Male</th>\n",
              "      <th>Egg_Group_1</th>\n",
              "      <th>Egg_Group_2</th>\n",
              "      <th>hasMegaEvolution</th>\n",
              "      <th>Height_m</th>\n",
              "      <th>Weight_kg</th>\n",
              "      <th>Catch_Rate</th>\n",
              "      <th>Body_Style</th>\n",
              "      <th>Is_Fire</th>\n",
              "    </tr>\n",
              "    <tr>\n",
              "      <th>Number</th>\n",
              "      <th></th>\n",
              "      <th></th>\n",
              "      <th></th>\n",
              "      <th></th>\n",
              "      <th></th>\n",
              "      <th></th>\n",
              "      <th></th>\n",
              "      <th></th>\n",
              "      <th></th>\n",
              "      <th></th>\n",
              "      <th></th>\n",
              "      <th></th>\n",
              "      <th></th>\n",
              "      <th></th>\n",
              "      <th></th>\n",
              "      <th></th>\n",
              "      <th></th>\n",
              "      <th></th>\n",
              "      <th></th>\n",
              "      <th></th>\n",
              "      <th></th>\n",
              "      <th></th>\n",
              "      <th></th>\n",
              "    </tr>\n",
              "  </thead>\n",
              "  <tbody>\n",
              "    <tr>\n",
              "      <th>228</th>\n",
              "      <td>Houndour</td>\n",
              "      <td>Dark</td>\n",
              "      <td>Fire</td>\n",
              "      <td>330</td>\n",
              "      <td>45</td>\n",
              "      <td>60</td>\n",
              "      <td>30</td>\n",
              "      <td>80</td>\n",
              "      <td>50</td>\n",
              "      <td>65</td>\n",
              "      <td>2</td>\n",
              "      <td>False</td>\n",
              "      <td>Black</td>\n",
              "      <td>True</td>\n",
              "      <td>0.5</td>\n",
              "      <td>Field</td>\n",
              "      <td>NaN</td>\n",
              "      <td>False</td>\n",
              "      <td>0.61</td>\n",
              "      <td>10.8</td>\n",
              "      <td>120</td>\n",
              "      <td>quadruped</td>\n",
              "      <td>1</td>\n",
              "    </tr>\n",
              "    <tr>\n",
              "      <th>229</th>\n",
              "      <td>Houndoom</td>\n",
              "      <td>Dark</td>\n",
              "      <td>Fire</td>\n",
              "      <td>500</td>\n",
              "      <td>75</td>\n",
              "      <td>90</td>\n",
              "      <td>50</td>\n",
              "      <td>110</td>\n",
              "      <td>80</td>\n",
              "      <td>95</td>\n",
              "      <td>2</td>\n",
              "      <td>False</td>\n",
              "      <td>Black</td>\n",
              "      <td>True</td>\n",
              "      <td>0.5</td>\n",
              "      <td>Field</td>\n",
              "      <td>NaN</td>\n",
              "      <td>True</td>\n",
              "      <td>1.40</td>\n",
              "      <td>35.0</td>\n",
              "      <td>45</td>\n",
              "      <td>quadruped</td>\n",
              "      <td>1</td>\n",
              "    </tr>\n",
              "    <tr>\n",
              "      <th>494</th>\n",
              "      <td>Victini</td>\n",
              "      <td>Psychic</td>\n",
              "      <td>Fire</td>\n",
              "      <td>600</td>\n",
              "      <td>100</td>\n",
              "      <td>100</td>\n",
              "      <td>100</td>\n",
              "      <td>100</td>\n",
              "      <td>100</td>\n",
              "      <td>100</td>\n",
              "      <td>5</td>\n",
              "      <td>True</td>\n",
              "      <td>Yellow</td>\n",
              "      <td>False</td>\n",
              "      <td>NaN</td>\n",
              "      <td>Undiscovered</td>\n",
              "      <td>NaN</td>\n",
              "      <td>False</td>\n",
              "      <td>0.41</td>\n",
              "      <td>4.0</td>\n",
              "      <td>3</td>\n",
              "      <td>bipedal_tailless</td>\n",
              "      <td>1</td>\n",
              "    </tr>\n",
              "    <tr>\n",
              "      <th>607</th>\n",
              "      <td>Litwick</td>\n",
              "      <td>Ghost</td>\n",
              "      <td>Fire</td>\n",
              "      <td>275</td>\n",
              "      <td>50</td>\n",
              "      <td>30</td>\n",
              "      <td>55</td>\n",
              "      <td>65</td>\n",
              "      <td>55</td>\n",
              "      <td>20</td>\n",
              "      <td>5</td>\n",
              "      <td>False</td>\n",
              "      <td>White</td>\n",
              "      <td>True</td>\n",
              "      <td>0.5</td>\n",
              "      <td>Amorphous</td>\n",
              "      <td>NaN</td>\n",
              "      <td>False</td>\n",
              "      <td>0.30</td>\n",
              "      <td>3.1</td>\n",
              "      <td>190</td>\n",
              "      <td>head_base</td>\n",
              "      <td>1</td>\n",
              "    </tr>\n",
              "    <tr>\n",
              "      <th>608</th>\n",
              "      <td>Lampent</td>\n",
              "      <td>Ghost</td>\n",
              "      <td>Fire</td>\n",
              "      <td>370</td>\n",
              "      <td>60</td>\n",
              "      <td>40</td>\n",
              "      <td>60</td>\n",
              "      <td>95</td>\n",
              "      <td>60</td>\n",
              "      <td>55</td>\n",
              "      <td>5</td>\n",
              "      <td>False</td>\n",
              "      <td>Black</td>\n",
              "      <td>True</td>\n",
              "      <td>0.5</td>\n",
              "      <td>Amorphous</td>\n",
              "      <td>NaN</td>\n",
              "      <td>False</td>\n",
              "      <td>0.61</td>\n",
              "      <td>13.0</td>\n",
              "      <td>90</td>\n",
              "      <td>head_arms</td>\n",
              "      <td>1</td>\n",
              "    </tr>\n",
              "  </tbody>\n",
              "</table>\n",
              "</div>"
            ],
            "text/plain": [
              "            Name   Type_1 Type_2  ...  Catch_Rate        Body_Style  Is_Fire\n",
              "Number                            ...                                       \n",
              "228     Houndour     Dark   Fire  ...         120         quadruped        1\n",
              "229     Houndoom     Dark   Fire  ...          45         quadruped        1\n",
              "494      Victini  Psychic   Fire  ...           3  bipedal_tailless        1\n",
              "607      Litwick    Ghost   Fire  ...         190         head_base        1\n",
              "608      Lampent    Ghost   Fire  ...          90         head_arms        1\n",
              "\n",
              "[5 rows x 23 columns]"
            ]
          },
          "metadata": {
            "tags": []
          },
          "execution_count": 15
        }
      ]
    },
    {
      "cell_type": "markdown",
      "metadata": {
        "id": "ImKtj7Vt6gJi"
      },
      "source": [
        "Now that we have our data encoded in 1s and 0s, one interesting thing we can do is to look at the correlation between other values and whether the pokemon is a fire type. We can do this using the `corr` method."
      ]
    },
    {
      "cell_type": "code",
      "metadata": {
        "colab": {
          "base_uri": "https://localhost:8080/"
        },
        "id": "JQds74dHpapD",
        "outputId": "2bc16b56-503b-4ed6-f0ec-1b4e07e92c4c"
      },
      "source": [
        "data.corr()['Is_Fire'] * 100"
      ],
      "execution_count": null,
      "outputs": [
        {
          "output_type": "execute_result",
          "data": {
            "text/plain": [
              "Total                 7.575376\n",
              "HP                    0.495891\n",
              "Attack                5.424924\n",
              "Defense              -5.492068\n",
              "Sp_Atk               18.079236\n",
              "Sp_Def                1.913491\n",
              "Speed                 9.143877\n",
              "Generation            2.143608\n",
              "isLegendary           7.266698\n",
              "hasGender            -0.032579\n",
              "Pr_Male              15.118609\n",
              "hasMegaEvolution      0.905764\n",
              "Height_m              0.387869\n",
              "Weight_kg             1.935757\n",
              "Catch_Rate          -10.448037\n",
              "Is_Fire             100.000000\n",
              "Name: Is_Fire, dtype: float64"
            ]
          },
          "metadata": {
            "tags": []
          },
          "execution_count": 16
        }
      ]
    },
    {
      "cell_type": "markdown",
      "metadata": {
        "id": "H8PehbYV61zU"
      },
      "source": [
        "This tells us that as special attack (`Sp_Atk`) increases, the chance of the pokemon being a fire type increases. The same goes for the probability of the pokemon being a male (`Pr_Male`). So fire types are more likely to have high special attacks and to be male.\n",
        "\n",
        "It also tells us that fire types are likely to have lower defense, and they will be harder to catch on average.\n",
        "\n",
        "These are interesting statistics for us to look at, but we shouldn't be using them in our classification. We should be building a model that can figure out these kinds of relationships on its own!"
      ]
    },
    {
      "cell_type": "markdown",
      "metadata": {
        "id": "eGTQc8mw6HCD"
      },
      "source": [
        "**Challenge**: Are there any columns that are unlikely to tell us whether or not a pokemon is a fire type? Explain your answer."
      ]
    },
    {
      "cell_type": "markdown",
      "metadata": {
        "id": "UqzB77N3ZyY3"
      },
      "source": [
        "Next up let's transform our input data to numeric data so that our model can understand it. We use the following steps:\n",
        "\n",
        "1. We'll use everything but the Pokemon name to predict its type.\n",
        "\n",
        "2. We'll also make sure we don't have any NaN values in our dataset, because the classification model doesn't know how to handle those.\n",
        "\n",
        "3. We transform all non-numeric columns into sets of numeric columns using `get_dummies`. Each dummy column represents whether or not a Pokemon falls into the category represented by that column.\n",
        "\n",
        "4. For any True/False data, we transform that into 1/0 data so our model can understand it."
      ]
    },
    {
      "cell_type": "code",
      "metadata": {
        "colab": {
          "base_uri": "https://localhost:8080/",
          "height": 270
        },
        "id": "kz4xU5wHwuIb",
        "outputId": "d702d200-37f8-4764-daef-4a62dd140e2d"
      },
      "source": [
        "def transform_to_numeric(df):\n",
        "    d1 = df.drop(labels=['Name', 'Type_1', 'Type_2'], axis=1).fillna(0)\n",
        "    return pd.get_dummies(d1).replace({True: 1, False: 0})\n",
        "numeric = transform_to_numeric(data)\n",
        "numeric.head()"
      ],
      "execution_count": null,
      "outputs": [
        {
          "output_type": "execute_result",
          "data": {
            "text/html": [
              "<div>\n",
              "<style scoped>\n",
              "    .dataframe tbody tr th:only-of-type {\n",
              "        vertical-align: middle;\n",
              "    }\n",
              "\n",
              "    .dataframe tbody tr th {\n",
              "        vertical-align: top;\n",
              "    }\n",
              "\n",
              "    .dataframe thead th {\n",
              "        text-align: right;\n",
              "    }\n",
              "</style>\n",
              "<table border=\"1\" class=\"dataframe\">\n",
              "  <thead>\n",
              "    <tr style=\"text-align: right;\">\n",
              "      <th></th>\n",
              "      <th>Total</th>\n",
              "      <th>HP</th>\n",
              "      <th>Attack</th>\n",
              "      <th>Defense</th>\n",
              "      <th>Sp_Atk</th>\n",
              "      <th>Sp_Def</th>\n",
              "      <th>Speed</th>\n",
              "      <th>Generation</th>\n",
              "      <th>isLegendary</th>\n",
              "      <th>hasGender</th>\n",
              "      <th>Pr_Male</th>\n",
              "      <th>hasMegaEvolution</th>\n",
              "      <th>Height_m</th>\n",
              "      <th>Weight_kg</th>\n",
              "      <th>Catch_Rate</th>\n",
              "      <th>Is_Fire</th>\n",
              "      <th>Color_Black</th>\n",
              "      <th>Color_Blue</th>\n",
              "      <th>Color_Brown</th>\n",
              "      <th>Color_Green</th>\n",
              "      <th>Color_Grey</th>\n",
              "      <th>Color_Pink</th>\n",
              "      <th>Color_Purple</th>\n",
              "      <th>Color_Red</th>\n",
              "      <th>Color_White</th>\n",
              "      <th>Color_Yellow</th>\n",
              "      <th>Egg_Group_1_Amorphous</th>\n",
              "      <th>Egg_Group_1_Bug</th>\n",
              "      <th>Egg_Group_1_Ditto</th>\n",
              "      <th>Egg_Group_1_Dragon</th>\n",
              "      <th>Egg_Group_1_Fairy</th>\n",
              "      <th>Egg_Group_1_Field</th>\n",
              "      <th>Egg_Group_1_Flying</th>\n",
              "      <th>Egg_Group_1_Grass</th>\n",
              "      <th>Egg_Group_1_Human-Like</th>\n",
              "      <th>Egg_Group_1_Mineral</th>\n",
              "      <th>Egg_Group_1_Monster</th>\n",
              "      <th>Egg_Group_1_Undiscovered</th>\n",
              "      <th>Egg_Group_1_Water_1</th>\n",
              "      <th>Egg_Group_1_Water_2</th>\n",
              "      <th>Egg_Group_1_Water_3</th>\n",
              "      <th>Egg_Group_2_0</th>\n",
              "      <th>Egg_Group_2_Amorphous</th>\n",
              "      <th>Egg_Group_2_Bug</th>\n",
              "      <th>Egg_Group_2_Dragon</th>\n",
              "      <th>Egg_Group_2_Fairy</th>\n",
              "      <th>Egg_Group_2_Field</th>\n",
              "      <th>Egg_Group_2_Flying</th>\n",
              "      <th>Egg_Group_2_Grass</th>\n",
              "      <th>Egg_Group_2_Human-Like</th>\n",
              "      <th>Egg_Group_2_Mineral</th>\n",
              "      <th>Egg_Group_2_Monster</th>\n",
              "      <th>Egg_Group_2_Water_1</th>\n",
              "      <th>Egg_Group_2_Water_2</th>\n",
              "      <th>Egg_Group_2_Water_3</th>\n",
              "      <th>Body_Style_bipedal_tailed</th>\n",
              "      <th>Body_Style_bipedal_tailless</th>\n",
              "      <th>Body_Style_four_wings</th>\n",
              "      <th>Body_Style_head_arms</th>\n",
              "      <th>Body_Style_head_base</th>\n",
              "      <th>Body_Style_head_legs</th>\n",
              "      <th>Body_Style_head_only</th>\n",
              "      <th>Body_Style_insectoid</th>\n",
              "      <th>Body_Style_multiple_bodies</th>\n",
              "      <th>Body_Style_quadruped</th>\n",
              "      <th>Body_Style_serpentine_body</th>\n",
              "      <th>Body_Style_several_limbs</th>\n",
              "      <th>Body_Style_two_wings</th>\n",
              "      <th>Body_Style_with_fins</th>\n",
              "    </tr>\n",
              "    <tr>\n",
              "      <th>Number</th>\n",
              "      <th></th>\n",
              "      <th></th>\n",
              "      <th></th>\n",
              "      <th></th>\n",
              "      <th></th>\n",
              "      <th></th>\n",
              "      <th></th>\n",
              "      <th></th>\n",
              "      <th></th>\n",
              "      <th></th>\n",
              "      <th></th>\n",
              "      <th></th>\n",
              "      <th></th>\n",
              "      <th></th>\n",
              "      <th></th>\n",
              "      <th></th>\n",
              "      <th></th>\n",
              "      <th></th>\n",
              "      <th></th>\n",
              "      <th></th>\n",
              "      <th></th>\n",
              "      <th></th>\n",
              "      <th></th>\n",
              "      <th></th>\n",
              "      <th></th>\n",
              "      <th></th>\n",
              "      <th></th>\n",
              "      <th></th>\n",
              "      <th></th>\n",
              "      <th></th>\n",
              "      <th></th>\n",
              "      <th></th>\n",
              "      <th></th>\n",
              "      <th></th>\n",
              "      <th></th>\n",
              "      <th></th>\n",
              "      <th></th>\n",
              "      <th></th>\n",
              "      <th></th>\n",
              "      <th></th>\n",
              "      <th></th>\n",
              "      <th></th>\n",
              "      <th></th>\n",
              "      <th></th>\n",
              "      <th></th>\n",
              "      <th></th>\n",
              "      <th></th>\n",
              "      <th></th>\n",
              "      <th></th>\n",
              "      <th></th>\n",
              "      <th></th>\n",
              "      <th></th>\n",
              "      <th></th>\n",
              "      <th></th>\n",
              "      <th></th>\n",
              "      <th></th>\n",
              "      <th></th>\n",
              "      <th></th>\n",
              "      <th></th>\n",
              "      <th></th>\n",
              "      <th></th>\n",
              "      <th></th>\n",
              "      <th></th>\n",
              "      <th></th>\n",
              "      <th></th>\n",
              "      <th></th>\n",
              "      <th></th>\n",
              "      <th></th>\n",
              "      <th></th>\n",
              "    </tr>\n",
              "  </thead>\n",
              "  <tbody>\n",
              "    <tr>\n",
              "      <th>1</th>\n",
              "      <td>318</td>\n",
              "      <td>45</td>\n",
              "      <td>49</td>\n",
              "      <td>49</td>\n",
              "      <td>65</td>\n",
              "      <td>65</td>\n",
              "      <td>45</td>\n",
              "      <td>1</td>\n",
              "      <td>0</td>\n",
              "      <td>1</td>\n",
              "      <td>0.875</td>\n",
              "      <td>0</td>\n",
              "      <td>0.71</td>\n",
              "      <td>6.9</td>\n",
              "      <td>45</td>\n",
              "      <td>0</td>\n",
              "      <td>0</td>\n",
              "      <td>0</td>\n",
              "      <td>0</td>\n",
              "      <td>1</td>\n",
              "      <td>0</td>\n",
              "      <td>0</td>\n",
              "      <td>0</td>\n",
              "      <td>0</td>\n",
              "      <td>0</td>\n",
              "      <td>0</td>\n",
              "      <td>0</td>\n",
              "      <td>0</td>\n",
              "      <td>0</td>\n",
              "      <td>0</td>\n",
              "      <td>0</td>\n",
              "      <td>0</td>\n",
              "      <td>0</td>\n",
              "      <td>0</td>\n",
              "      <td>0</td>\n",
              "      <td>0</td>\n",
              "      <td>1</td>\n",
              "      <td>0</td>\n",
              "      <td>0</td>\n",
              "      <td>0</td>\n",
              "      <td>0</td>\n",
              "      <td>0</td>\n",
              "      <td>0</td>\n",
              "      <td>0</td>\n",
              "      <td>0</td>\n",
              "      <td>0</td>\n",
              "      <td>0</td>\n",
              "      <td>0</td>\n",
              "      <td>1</td>\n",
              "      <td>0</td>\n",
              "      <td>0</td>\n",
              "      <td>0</td>\n",
              "      <td>0</td>\n",
              "      <td>0</td>\n",
              "      <td>0</td>\n",
              "      <td>0</td>\n",
              "      <td>0</td>\n",
              "      <td>0</td>\n",
              "      <td>0</td>\n",
              "      <td>0</td>\n",
              "      <td>0</td>\n",
              "      <td>0</td>\n",
              "      <td>0</td>\n",
              "      <td>0</td>\n",
              "      <td>1</td>\n",
              "      <td>0</td>\n",
              "      <td>0</td>\n",
              "      <td>0</td>\n",
              "      <td>0</td>\n",
              "    </tr>\n",
              "    <tr>\n",
              "      <th>2</th>\n",
              "      <td>405</td>\n",
              "      <td>60</td>\n",
              "      <td>62</td>\n",
              "      <td>63</td>\n",
              "      <td>80</td>\n",
              "      <td>80</td>\n",
              "      <td>60</td>\n",
              "      <td>1</td>\n",
              "      <td>0</td>\n",
              "      <td>1</td>\n",
              "      <td>0.875</td>\n",
              "      <td>0</td>\n",
              "      <td>0.99</td>\n",
              "      <td>13.0</td>\n",
              "      <td>45</td>\n",
              "      <td>0</td>\n",
              "      <td>0</td>\n",
              "      <td>0</td>\n",
              "      <td>0</td>\n",
              "      <td>1</td>\n",
              "      <td>0</td>\n",
              "      <td>0</td>\n",
              "      <td>0</td>\n",
              "      <td>0</td>\n",
              "      <td>0</td>\n",
              "      <td>0</td>\n",
              "      <td>0</td>\n",
              "      <td>0</td>\n",
              "      <td>0</td>\n",
              "      <td>0</td>\n",
              "      <td>0</td>\n",
              "      <td>0</td>\n",
              "      <td>0</td>\n",
              "      <td>0</td>\n",
              "      <td>0</td>\n",
              "      <td>0</td>\n",
              "      <td>1</td>\n",
              "      <td>0</td>\n",
              "      <td>0</td>\n",
              "      <td>0</td>\n",
              "      <td>0</td>\n",
              "      <td>0</td>\n",
              "      <td>0</td>\n",
              "      <td>0</td>\n",
              "      <td>0</td>\n",
              "      <td>0</td>\n",
              "      <td>0</td>\n",
              "      <td>0</td>\n",
              "      <td>1</td>\n",
              "      <td>0</td>\n",
              "      <td>0</td>\n",
              "      <td>0</td>\n",
              "      <td>0</td>\n",
              "      <td>0</td>\n",
              "      <td>0</td>\n",
              "      <td>0</td>\n",
              "      <td>0</td>\n",
              "      <td>0</td>\n",
              "      <td>0</td>\n",
              "      <td>0</td>\n",
              "      <td>0</td>\n",
              "      <td>0</td>\n",
              "      <td>0</td>\n",
              "      <td>0</td>\n",
              "      <td>1</td>\n",
              "      <td>0</td>\n",
              "      <td>0</td>\n",
              "      <td>0</td>\n",
              "      <td>0</td>\n",
              "    </tr>\n",
              "    <tr>\n",
              "      <th>3</th>\n",
              "      <td>525</td>\n",
              "      <td>80</td>\n",
              "      <td>82</td>\n",
              "      <td>83</td>\n",
              "      <td>100</td>\n",
              "      <td>100</td>\n",
              "      <td>80</td>\n",
              "      <td>1</td>\n",
              "      <td>0</td>\n",
              "      <td>1</td>\n",
              "      <td>0.875</td>\n",
              "      <td>1</td>\n",
              "      <td>2.01</td>\n",
              "      <td>100.0</td>\n",
              "      <td>45</td>\n",
              "      <td>0</td>\n",
              "      <td>0</td>\n",
              "      <td>0</td>\n",
              "      <td>0</td>\n",
              "      <td>1</td>\n",
              "      <td>0</td>\n",
              "      <td>0</td>\n",
              "      <td>0</td>\n",
              "      <td>0</td>\n",
              "      <td>0</td>\n",
              "      <td>0</td>\n",
              "      <td>0</td>\n",
              "      <td>0</td>\n",
              "      <td>0</td>\n",
              "      <td>0</td>\n",
              "      <td>0</td>\n",
              "      <td>0</td>\n",
              "      <td>0</td>\n",
              "      <td>0</td>\n",
              "      <td>0</td>\n",
              "      <td>0</td>\n",
              "      <td>1</td>\n",
              "      <td>0</td>\n",
              "      <td>0</td>\n",
              "      <td>0</td>\n",
              "      <td>0</td>\n",
              "      <td>0</td>\n",
              "      <td>0</td>\n",
              "      <td>0</td>\n",
              "      <td>0</td>\n",
              "      <td>0</td>\n",
              "      <td>0</td>\n",
              "      <td>0</td>\n",
              "      <td>1</td>\n",
              "      <td>0</td>\n",
              "      <td>0</td>\n",
              "      <td>0</td>\n",
              "      <td>0</td>\n",
              "      <td>0</td>\n",
              "      <td>0</td>\n",
              "      <td>0</td>\n",
              "      <td>0</td>\n",
              "      <td>0</td>\n",
              "      <td>0</td>\n",
              "      <td>0</td>\n",
              "      <td>0</td>\n",
              "      <td>0</td>\n",
              "      <td>0</td>\n",
              "      <td>0</td>\n",
              "      <td>1</td>\n",
              "      <td>0</td>\n",
              "      <td>0</td>\n",
              "      <td>0</td>\n",
              "      <td>0</td>\n",
              "    </tr>\n",
              "    <tr>\n",
              "      <th>4</th>\n",
              "      <td>309</td>\n",
              "      <td>39</td>\n",
              "      <td>52</td>\n",
              "      <td>43</td>\n",
              "      <td>60</td>\n",
              "      <td>50</td>\n",
              "      <td>65</td>\n",
              "      <td>1</td>\n",
              "      <td>0</td>\n",
              "      <td>1</td>\n",
              "      <td>0.875</td>\n",
              "      <td>0</td>\n",
              "      <td>0.61</td>\n",
              "      <td>8.5</td>\n",
              "      <td>45</td>\n",
              "      <td>1</td>\n",
              "      <td>0</td>\n",
              "      <td>0</td>\n",
              "      <td>0</td>\n",
              "      <td>0</td>\n",
              "      <td>0</td>\n",
              "      <td>0</td>\n",
              "      <td>0</td>\n",
              "      <td>1</td>\n",
              "      <td>0</td>\n",
              "      <td>0</td>\n",
              "      <td>0</td>\n",
              "      <td>0</td>\n",
              "      <td>0</td>\n",
              "      <td>0</td>\n",
              "      <td>0</td>\n",
              "      <td>0</td>\n",
              "      <td>0</td>\n",
              "      <td>0</td>\n",
              "      <td>0</td>\n",
              "      <td>0</td>\n",
              "      <td>1</td>\n",
              "      <td>0</td>\n",
              "      <td>0</td>\n",
              "      <td>0</td>\n",
              "      <td>0</td>\n",
              "      <td>0</td>\n",
              "      <td>0</td>\n",
              "      <td>0</td>\n",
              "      <td>1</td>\n",
              "      <td>0</td>\n",
              "      <td>0</td>\n",
              "      <td>0</td>\n",
              "      <td>0</td>\n",
              "      <td>0</td>\n",
              "      <td>0</td>\n",
              "      <td>0</td>\n",
              "      <td>0</td>\n",
              "      <td>0</td>\n",
              "      <td>0</td>\n",
              "      <td>1</td>\n",
              "      <td>0</td>\n",
              "      <td>0</td>\n",
              "      <td>0</td>\n",
              "      <td>0</td>\n",
              "      <td>0</td>\n",
              "      <td>0</td>\n",
              "      <td>0</td>\n",
              "      <td>0</td>\n",
              "      <td>0</td>\n",
              "      <td>0</td>\n",
              "      <td>0</td>\n",
              "      <td>0</td>\n",
              "      <td>0</td>\n",
              "    </tr>\n",
              "    <tr>\n",
              "      <th>5</th>\n",
              "      <td>405</td>\n",
              "      <td>58</td>\n",
              "      <td>64</td>\n",
              "      <td>58</td>\n",
              "      <td>80</td>\n",
              "      <td>65</td>\n",
              "      <td>80</td>\n",
              "      <td>1</td>\n",
              "      <td>0</td>\n",
              "      <td>1</td>\n",
              "      <td>0.875</td>\n",
              "      <td>0</td>\n",
              "      <td>1.09</td>\n",
              "      <td>19.0</td>\n",
              "      <td>45</td>\n",
              "      <td>1</td>\n",
              "      <td>0</td>\n",
              "      <td>0</td>\n",
              "      <td>0</td>\n",
              "      <td>0</td>\n",
              "      <td>0</td>\n",
              "      <td>0</td>\n",
              "      <td>0</td>\n",
              "      <td>1</td>\n",
              "      <td>0</td>\n",
              "      <td>0</td>\n",
              "      <td>0</td>\n",
              "      <td>0</td>\n",
              "      <td>0</td>\n",
              "      <td>0</td>\n",
              "      <td>0</td>\n",
              "      <td>0</td>\n",
              "      <td>0</td>\n",
              "      <td>0</td>\n",
              "      <td>0</td>\n",
              "      <td>0</td>\n",
              "      <td>1</td>\n",
              "      <td>0</td>\n",
              "      <td>0</td>\n",
              "      <td>0</td>\n",
              "      <td>0</td>\n",
              "      <td>0</td>\n",
              "      <td>0</td>\n",
              "      <td>0</td>\n",
              "      <td>1</td>\n",
              "      <td>0</td>\n",
              "      <td>0</td>\n",
              "      <td>0</td>\n",
              "      <td>0</td>\n",
              "      <td>0</td>\n",
              "      <td>0</td>\n",
              "      <td>0</td>\n",
              "      <td>0</td>\n",
              "      <td>0</td>\n",
              "      <td>0</td>\n",
              "      <td>1</td>\n",
              "      <td>0</td>\n",
              "      <td>0</td>\n",
              "      <td>0</td>\n",
              "      <td>0</td>\n",
              "      <td>0</td>\n",
              "      <td>0</td>\n",
              "      <td>0</td>\n",
              "      <td>0</td>\n",
              "      <td>0</td>\n",
              "      <td>0</td>\n",
              "      <td>0</td>\n",
              "      <td>0</td>\n",
              "      <td>0</td>\n",
              "    </tr>\n",
              "  </tbody>\n",
              "</table>\n",
              "</div>"
            ],
            "text/plain": [
              "        Total  HP  ...  Body_Style_two_wings  Body_Style_with_fins\n",
              "Number             ...                                            \n",
              "1         318  45  ...                     0                     0\n",
              "2         405  60  ...                     0                     0\n",
              "3         525  80  ...                     0                     0\n",
              "4         309  39  ...                     0                     0\n",
              "5         405  58  ...                     0                     0\n",
              "\n",
              "[5 rows x 69 columns]"
            ]
          },
          "metadata": {
            "tags": []
          },
          "execution_count": 17
        }
      ]
    },
    {
      "cell_type": "markdown",
      "metadata": {
        "id": "98NbvXEPOSzU"
      },
      "source": [
        "Now we separate our inputs and outputs: our inputs are everything but the output column."
      ]
    },
    {
      "cell_type": "code",
      "metadata": {
        "id": "-2ps1NFsv6Vq"
      },
      "source": [
        "X = numeric.drop('Is_Fire', axis=1)\n",
        "y = numeric['Is_Fire']"
      ],
      "execution_count": null,
      "outputs": []
    },
    {
      "cell_type": "markdown",
      "metadata": {
        "id": "U2akblQ4OdQL"
      },
      "source": [
        "`y` now contains our model's output **classes**, which are 0 and 1 in this case.\n",
        "\n",
        "Let's look at the number of samples we have for each class."
      ]
    },
    {
      "cell_type": "code",
      "metadata": {
        "colab": {
          "base_uri": "https://localhost:8080/"
        },
        "id": "fbKprI0LbBez",
        "outputId": "e5102824-8f2c-4152-c37d-c73dab04c27f"
      },
      "source": [
        "y.value_counts()"
      ],
      "execution_count": null,
      "outputs": [
        {
          "output_type": "execute_result",
          "data": {
            "text/plain": [
              "0    665\n",
              "1     56\n",
              "Name: Is_Fire, dtype: int64"
            ]
          },
          "metadata": {
            "tags": []
          },
          "execution_count": 19
        }
      ]
    },
    {
      "cell_type": "markdown",
      "metadata": {
        "id": "Y1lY_zf5O8X-"
      },
      "source": [
        "We have way more non-fire samples than fire samples, which means we have an **unbalanced dataset**. This is fairly common in classification problems, and we'll need to keep this in mind while we're training and evaluating our model. With an unbalanced dataset, our model can become biased towards the majority class (0, i.e not fire, in this case) as it sees far more samples of that class."
      ]
    },
    {
      "cell_type": "markdown",
      "metadata": {
        "id": "qheaxZarQg5c"
      },
      "source": [
        "Now we'll move on to training our model, so as usual we start by splitting our data into train and test sets."
      ]
    },
    {
      "cell_type": "code",
      "metadata": {
        "id": "IqZDe8IgXdH_"
      },
      "source": [
        "X_train, X_test, y_train, y_test = train_test_split(X, y, test_size=0.2)"
      ],
      "execution_count": null,
      "outputs": []
    },
    {
      "cell_type": "markdown",
      "metadata": {
        "id": "7FaNxpmsQsxk"
      },
      "source": [
        "We will use **logistic regression** to perform the classification. Additionally, because we have columns on different scales (like height and weight, for example), we must scale our data before giving it to the model.\n",
        "\n",
        "We could do this manually using `StandardScaler`, but this is error prone. For example, we could apply the scaling to the training data, but forget to apply it to the testing data; in this case our test results would be meaningless, because the data which the model learned from is entirely different from the data it is being evaluated on.\n",
        "\n",
        "To help avoid errors like this, sklearn has the `Pipeline` class. We use pipelines to specify the preprocessing and the model all in one object by adding each as a pipeline step. The `Pipeline` object then behaves in the same way as the model class (the last step), except it first applies preprocessing to the data before passing the data to the model.\n",
        "\n",
        "For example, if we have a pipeline `p`, we can do `p.fit(X, y)` and `p.score(X_test, y_test)`, and both times the data will be preprocessed in the exact same way.\n",
        "\n",
        "`make_pipeline` is an easy way to make a `Pipeline`.\n",
        "\n",
        "Note: `LogisticRegressionCV` is a special version of logisitic regression which automatically finds the best *hyperparameters* for the model using *cross validation* (CV)."
      ]
    },
    {
      "cell_type": "code",
      "metadata": {
        "colab": {
          "base_uri": "https://localhost:8080/",
          "height": 112
        },
        "id": "nDNiSa-Hx5Pf",
        "outputId": "d2c13328-777b-4fc3-b31e-61dc0c9b674b"
      },
      "source": [
        "clf = make_pipeline(StandardScaler(), LogisticRegressionCV(max_iter=1500))\n",
        "clf"
      ],
      "execution_count": null,
      "outputs": [
        {
          "output_type": "execute_result",
          "data": {
            "text/html": [
              "<style>div.sk-top-container {color: black;background-color: white;}div.sk-toggleable {background-color: white;}label.sk-toggleable__label {cursor: pointer;display: block;width: 100%;margin-bottom: 0;padding: 0.2em 0.3em;box-sizing: border-box;text-align: center;}div.sk-toggleable__content {max-height: 0;max-width: 0;overflow: hidden;text-align: left;background-color: #f0f8ff;}div.sk-toggleable__content pre {margin: 0.2em;color: black;border-radius: 0.25em;background-color: #f0f8ff;}input.sk-toggleable__control:checked~div.sk-toggleable__content {max-height: 200px;max-width: 100%;overflow: auto;}div.sk-estimator input.sk-toggleable__control:checked~label.sk-toggleable__label {background-color: #d4ebff;}div.sk-label input.sk-toggleable__control:checked~label.sk-toggleable__label {background-color: #d4ebff;}input.sk-hidden--visually {border: 0;clip: rect(1px 1px 1px 1px);clip: rect(1px, 1px, 1px, 1px);height: 1px;margin: -1px;overflow: hidden;padding: 0;position: absolute;width: 1px;}div.sk-estimator {font-family: monospace;background-color: #f0f8ff;margin: 0.25em 0.25em;border: 1px dotted black;border-radius: 0.25em;box-sizing: border-box;}div.sk-estimator:hover {background-color: #d4ebff;}div.sk-parallel-item::after {content: \"\";width: 100%;border-bottom: 1px solid gray;flex-grow: 1;}div.sk-label:hover label.sk-toggleable__label {background-color: #d4ebff;}div.sk-serial::before {content: \"\";position: absolute;border-left: 1px solid gray;box-sizing: border-box;top: 2em;bottom: 0;left: 50%;}div.sk-serial {display: flex;flex-direction: column;align-items: center;background-color: white;}div.sk-item {z-index: 1;}div.sk-parallel {display: flex;align-items: stretch;justify-content: center;background-color: white;}div.sk-parallel-item {display: flex;flex-direction: column;position: relative;background-color: white;}div.sk-parallel-item:first-child::after {align-self: flex-end;width: 50%;}div.sk-parallel-item:last-child::after {align-self: flex-start;width: 50%;}div.sk-parallel-item:only-child::after {width: 0;}div.sk-dashed-wrapped {border: 1px dashed gray;margin: 0.2em;box-sizing: border-box;padding-bottom: 0.1em;background-color: white;position: relative;}div.sk-label label {font-family: monospace;font-weight: bold;background-color: white;display: inline-block;line-height: 1.2em;}div.sk-label-container {position: relative;z-index: 2;text-align: center;}div.sk-container {display: inline-block;position: relative;}</style><div class=\"sk-top-container\"><div class=\"sk-container\"><div class=\"sk-item sk-dashed-wrapped\"><div class=\"sk-label-container\"><div class=\"sk-label sk-toggleable\"><input class=\"sk-toggleable__control sk-hidden--visually\" id=\"053ed391-1ffb-46f9-bd2d-a8847a27779e\" type=\"checkbox\" ><label class=\"sk-toggleable__label\" for=\"053ed391-1ffb-46f9-bd2d-a8847a27779e\">Pipeline</label><div class=\"sk-toggleable__content\"><pre>Pipeline(steps=[('standardscaler', StandardScaler()),\n",
              "                ('logisticregressioncv', LogisticRegressionCV(max_iter=1500))])</pre></div></div></div><div class=\"sk-serial\"><div class=\"sk-item\"><div class=\"sk-estimator sk-toggleable\"><input class=\"sk-toggleable__control sk-hidden--visually\" id=\"b6e2e3a6-aa61-44a3-bee6-64395f2155f1\" type=\"checkbox\" ><label class=\"sk-toggleable__label\" for=\"b6e2e3a6-aa61-44a3-bee6-64395f2155f1\">StandardScaler</label><div class=\"sk-toggleable__content\"><pre>StandardScaler()</pre></div></div></div><div class=\"sk-item\"><div class=\"sk-estimator sk-toggleable\"><input class=\"sk-toggleable__control sk-hidden--visually\" id=\"283a3a41-bcdb-411b-9ecb-96d005c89283\" type=\"checkbox\" ><label class=\"sk-toggleable__label\" for=\"283a3a41-bcdb-411b-9ecb-96d005c89283\">LogisticRegressionCV</label><div class=\"sk-toggleable__content\"><pre>LogisticRegressionCV(max_iter=1500)</pre></div></div></div></div></div></div></div>"
            ],
            "text/plain": [
              "Pipeline(steps=[('standardscaler', StandardScaler()),\n",
              "                ('logisticregressioncv', LogisticRegressionCV(max_iter=1500))])"
            ]
          },
          "metadata": {
            "tags": []
          },
          "execution_count": 21
        }
      ]
    },
    {
      "cell_type": "markdown",
      "metadata": {
        "id": "H1kYFZW3T1sz"
      },
      "source": [
        "Because we set `display='diagram'` above, sklearn gives a nice visualization of our pipeline. We can also click on each box to get more information about it!"
      ]
    },
    {
      "cell_type": "markdown",
      "metadata": {
        "id": "ScwtfqMTUFzs"
      },
      "source": [
        "Our pipeline now behaves in the same way as `LogisiticRegressionCV`, so we can call `fit` to train our model."
      ]
    },
    {
      "cell_type": "code",
      "metadata": {
        "colab": {
          "base_uri": "https://localhost:8080/",
          "height": 271
        },
        "id": "zmtowAzSRa9h",
        "outputId": "e905fc1e-9548-4217-ffca-3a6f98922d1b"
      },
      "source": [
        "clf.fit(X_train, y_train)"
      ],
      "execution_count": null,
      "outputs": [
        {
          "output_type": "stream",
          "text": [
            "/usr/local/lib/python3.7/dist-packages/sklearn/linear_model/_logistic.py:765: ConvergenceWarning: lbfgs failed to converge (status=1):\n",
            "STOP: TOTAL NO. of ITERATIONS REACHED LIMIT.\n",
            "\n",
            "Increase the number of iterations (max_iter) or scale the data as shown in:\n",
            "    https://scikit-learn.org/stable/modules/preprocessing.html\n",
            "Please also refer to the documentation for alternative solver options:\n",
            "    https://scikit-learn.org/stable/modules/linear_model.html#logistic-regression\n",
            "  extra_warning_msg=_LOGISTIC_SOLVER_CONVERGENCE_MSG)\n"
          ],
          "name": "stderr"
        },
        {
          "output_type": "execute_result",
          "data": {
            "text/html": [
              "<style>div.sk-top-container {color: black;background-color: white;}div.sk-toggleable {background-color: white;}label.sk-toggleable__label {cursor: pointer;display: block;width: 100%;margin-bottom: 0;padding: 0.2em 0.3em;box-sizing: border-box;text-align: center;}div.sk-toggleable__content {max-height: 0;max-width: 0;overflow: hidden;text-align: left;background-color: #f0f8ff;}div.sk-toggleable__content pre {margin: 0.2em;color: black;border-radius: 0.25em;background-color: #f0f8ff;}input.sk-toggleable__control:checked~div.sk-toggleable__content {max-height: 200px;max-width: 100%;overflow: auto;}div.sk-estimator input.sk-toggleable__control:checked~label.sk-toggleable__label {background-color: #d4ebff;}div.sk-label input.sk-toggleable__control:checked~label.sk-toggleable__label {background-color: #d4ebff;}input.sk-hidden--visually {border: 0;clip: rect(1px 1px 1px 1px);clip: rect(1px, 1px, 1px, 1px);height: 1px;margin: -1px;overflow: hidden;padding: 0;position: absolute;width: 1px;}div.sk-estimator {font-family: monospace;background-color: #f0f8ff;margin: 0.25em 0.25em;border: 1px dotted black;border-radius: 0.25em;box-sizing: border-box;}div.sk-estimator:hover {background-color: #d4ebff;}div.sk-parallel-item::after {content: \"\";width: 100%;border-bottom: 1px solid gray;flex-grow: 1;}div.sk-label:hover label.sk-toggleable__label {background-color: #d4ebff;}div.sk-serial::before {content: \"\";position: absolute;border-left: 1px solid gray;box-sizing: border-box;top: 2em;bottom: 0;left: 50%;}div.sk-serial {display: flex;flex-direction: column;align-items: center;background-color: white;}div.sk-item {z-index: 1;}div.sk-parallel {display: flex;align-items: stretch;justify-content: center;background-color: white;}div.sk-parallel-item {display: flex;flex-direction: column;position: relative;background-color: white;}div.sk-parallel-item:first-child::after {align-self: flex-end;width: 50%;}div.sk-parallel-item:last-child::after {align-self: flex-start;width: 50%;}div.sk-parallel-item:only-child::after {width: 0;}div.sk-dashed-wrapped {border: 1px dashed gray;margin: 0.2em;box-sizing: border-box;padding-bottom: 0.1em;background-color: white;position: relative;}div.sk-label label {font-family: monospace;font-weight: bold;background-color: white;display: inline-block;line-height: 1.2em;}div.sk-label-container {position: relative;z-index: 2;text-align: center;}div.sk-container {display: inline-block;position: relative;}</style><div class=\"sk-top-container\"><div class=\"sk-container\"><div class=\"sk-item sk-dashed-wrapped\"><div class=\"sk-label-container\"><div class=\"sk-label sk-toggleable\"><input class=\"sk-toggleable__control sk-hidden--visually\" id=\"952f0671-21ae-4855-984b-1ea8aad81dd1\" type=\"checkbox\" ><label class=\"sk-toggleable__label\" for=\"952f0671-21ae-4855-984b-1ea8aad81dd1\">Pipeline</label><div class=\"sk-toggleable__content\"><pre>Pipeline(steps=[('standardscaler', StandardScaler()),\n",
              "                ('logisticregressioncv', LogisticRegressionCV(max_iter=1500))])</pre></div></div></div><div class=\"sk-serial\"><div class=\"sk-item\"><div class=\"sk-estimator sk-toggleable\"><input class=\"sk-toggleable__control sk-hidden--visually\" id=\"2936f30e-2ce9-4084-b14f-6e3cf07ed0a9\" type=\"checkbox\" ><label class=\"sk-toggleable__label\" for=\"2936f30e-2ce9-4084-b14f-6e3cf07ed0a9\">StandardScaler</label><div class=\"sk-toggleable__content\"><pre>StandardScaler()</pre></div></div></div><div class=\"sk-item\"><div class=\"sk-estimator sk-toggleable\"><input class=\"sk-toggleable__control sk-hidden--visually\" id=\"71c3256d-c696-450b-8bc1-1401c5cbc587\" type=\"checkbox\" ><label class=\"sk-toggleable__label\" for=\"71c3256d-c696-450b-8bc1-1401c5cbc587\">LogisticRegressionCV</label><div class=\"sk-toggleable__content\"><pre>LogisticRegressionCV(max_iter=1500)</pre></div></div></div></div></div></div></div>"
            ],
            "text/plain": [
              "Pipeline(steps=[('standardscaler', StandardScaler()),\n",
              "                ('logisticregressioncv', LogisticRegressionCV(max_iter=1500))])"
            ]
          },
          "metadata": {
            "tags": []
          },
          "execution_count": 22
        }
      ]
    },
    {
      "cell_type": "markdown",
      "metadata": {
        "id": "L5wgnkjLUo0Y"
      },
      "source": [
        "We can also call `score` to evaluate our model (and the same preprocessing will be applied to the test data as the train data)."
      ]
    },
    {
      "cell_type": "code",
      "metadata": {
        "colab": {
          "base_uri": "https://localhost:8080/"
        },
        "id": "VroqwhqRZnDX",
        "outputId": "8bbed82b-d36a-4e86-c7ad-7e241f5e9e19"
      },
      "source": [
        "clf.score(X_test, y_test)"
      ],
      "execution_count": null,
      "outputs": [
        {
          "output_type": "execute_result",
          "data": {
            "text/plain": [
              "0.9448275862068966"
            ]
          },
          "metadata": {
            "tags": []
          },
          "execution_count": 23
        }
      ]
    },
    {
      "cell_type": "markdown",
      "metadata": {
        "id": "iK5e47mJVKAJ"
      },
      "source": [
        "For logistic regression, `score` gives us the average accuracy, so in other words what percentage of the samples we got right.\n",
        "\n",
        "Depending on how `train_test_split` split up your data (it shuffles it randomly), you should see a score of around 90-96% accuracy.\n",
        "\n"
      ]
    },
    {
      "cell_type": "markdown",
      "metadata": {
        "id": "RaiORA_4Yy0y"
      },
      "source": [
        "We can also use `predict` on our pipeline to get predictions about each pokemon. Let's use that to find which Pokemon we got wrong."
      ]
    },
    {
      "cell_type": "code",
      "metadata": {
        "colab": {
          "base_uri": "https://localhost:8080/",
          "height": 325
        },
        "id": "gzuvcU56rzGV",
        "outputId": "9f463e82-6d71-4f4e-e4c6-808a22294659"
      },
      "source": [
        "def get_incorrect_predictions(pred, y_test):\n",
        "    result = pd.DataFrame({**data.loc[X_test.index, ['Name', 'Type_1', 'Type_2']], 'Prediction': pred, 'Actual': y_test})\n",
        "    return result[result['Prediction'] != result['Actual']]\n",
        "\n",
        "pred = clf.predict(X_test)\n",
        "get_incorrect_predictions(pred, y_test)"
      ],
      "execution_count": null,
      "outputs": [
        {
          "output_type": "execute_result",
          "data": {
            "text/html": [
              "<div>\n",
              "<style scoped>\n",
              "    .dataframe tbody tr th:only-of-type {\n",
              "        vertical-align: middle;\n",
              "    }\n",
              "\n",
              "    .dataframe tbody tr th {\n",
              "        vertical-align: top;\n",
              "    }\n",
              "\n",
              "    .dataframe thead th {\n",
              "        text-align: right;\n",
              "    }\n",
              "</style>\n",
              "<table border=\"1\" class=\"dataframe\">\n",
              "  <thead>\n",
              "    <tr style=\"text-align: right;\">\n",
              "      <th></th>\n",
              "      <th>Name</th>\n",
              "      <th>Type_1</th>\n",
              "      <th>Type_2</th>\n",
              "      <th>Prediction</th>\n",
              "      <th>Actual</th>\n",
              "    </tr>\n",
              "    <tr>\n",
              "      <th>Number</th>\n",
              "      <th></th>\n",
              "      <th></th>\n",
              "      <th></th>\n",
              "      <th></th>\n",
              "      <th></th>\n",
              "    </tr>\n",
              "  </thead>\n",
              "  <tbody>\n",
              "    <tr>\n",
              "      <th>668</th>\n",
              "      <td>Pyroar</td>\n",
              "      <td>Fire</td>\n",
              "      <td>Normal</td>\n",
              "      <td>0</td>\n",
              "      <td>1</td>\n",
              "    </tr>\n",
              "    <tr>\n",
              "      <th>554</th>\n",
              "      <td>Darumaka</td>\n",
              "      <td>Fire</td>\n",
              "      <td>NaN</td>\n",
              "      <td>0</td>\n",
              "      <td>1</td>\n",
              "    </tr>\n",
              "    <tr>\n",
              "      <th>37</th>\n",
              "      <td>Vulpix</td>\n",
              "      <td>Fire</td>\n",
              "      <td>NaN</td>\n",
              "      <td>0</td>\n",
              "      <td>1</td>\n",
              "    </tr>\n",
              "    <tr>\n",
              "      <th>324</th>\n",
              "      <td>Torkoal</td>\n",
              "      <td>Fire</td>\n",
              "      <td>NaN</td>\n",
              "      <td>0</td>\n",
              "      <td>1</td>\n",
              "    </tr>\n",
              "    <tr>\n",
              "      <th>479</th>\n",
              "      <td>Rotom</td>\n",
              "      <td>Electric</td>\n",
              "      <td>Ghost</td>\n",
              "      <td>1</td>\n",
              "      <td>0</td>\n",
              "    </tr>\n",
              "    <tr>\n",
              "      <th>135</th>\n",
              "      <td>Jolteon</td>\n",
              "      <td>Electric</td>\n",
              "      <td>NaN</td>\n",
              "      <td>1</td>\n",
              "      <td>0</td>\n",
              "    </tr>\n",
              "    <tr>\n",
              "      <th>485</th>\n",
              "      <td>Heatran</td>\n",
              "      <td>Fire</td>\n",
              "      <td>Steel</td>\n",
              "      <td>0</td>\n",
              "      <td>1</td>\n",
              "    </tr>\n",
              "    <tr>\n",
              "      <th>494</th>\n",
              "      <td>Victini</td>\n",
              "      <td>Psychic</td>\n",
              "      <td>Fire</td>\n",
              "      <td>0</td>\n",
              "      <td>1</td>\n",
              "    </tr>\n",
              "  </tbody>\n",
              "</table>\n",
              "</div>"
            ],
            "text/plain": [
              "            Name    Type_1  Type_2  Prediction  Actual\n",
              "Number                                                \n",
              "668       Pyroar      Fire  Normal           0       1\n",
              "554     Darumaka      Fire     NaN           0       1\n",
              "37        Vulpix      Fire     NaN           0       1\n",
              "324      Torkoal      Fire     NaN           0       1\n",
              "479        Rotom  Electric   Ghost           1       0\n",
              "135      Jolteon  Electric     NaN           1       0\n",
              "485      Heatran      Fire   Steel           0       1\n",
              "494      Victini   Psychic    Fire           0       1"
            ]
          },
          "metadata": {
            "tags": []
          },
          "execution_count": 24
        }
      ]
    },
    {
      "cell_type": "markdown",
      "metadata": {
        "id": "Ew4Vt1JBvxsG"
      },
      "source": [
        "Because we have an imbalanced dataset, chances are you'll see that, out of the incorrect predictions, the model predicted a Pokemon to not be a fire type more often. This shows that our model is likely biased towards the majority class."
      ]
    },
    {
      "cell_type": "markdown",
      "metadata": {
        "id": "32hpPWBHdBs3"
      },
      "source": [
        "We can also get the confidence scores of our model for given inputs. The greater the confidence the score, the more confident our model is that the pokemon is a fire type."
      ]
    },
    {
      "cell_type": "code",
      "metadata": {
        "colab": {
          "base_uri": "https://localhost:8080/"
        },
        "id": "LS9CH0WgbDBw",
        "outputId": "c689bc32-15fd-42ee-ebaf-a65e7da1ebb4"
      },
      "source": [
        "confidence_scores = clf.decision_function(X_test)\n",
        "print(confidence_scores[confidence_scores > 0][:10])\n",
        "print(confidence_scores[confidence_scores < 0][:10])"
      ],
      "execution_count": null,
      "outputs": [
        {
          "output_type": "stream",
          "text": [
            "[1.15765133 1.84730534 0.76243912 0.18964729 1.57463185 1.9375942\n",
            " 0.07047593 1.6528778  2.45449673 1.0626948 ]\n",
            "[ -4.1718299   -4.38201603  -7.40337425  -2.15322226  -5.59647785\n",
            "  -8.58238278  -4.57911641 -10.52076665  -5.96163926  -2.98496834]\n"
          ],
          "name": "stdout"
        }
      ]
    },
    {
      "cell_type": "markdown",
      "metadata": {
        "id": "jV9k5BFO619u"
      },
      "source": [
        "**Challenge**: Read over the documentation for the [StandardScaler](https://scikit-learn.org/stable/modules/generated/sklearn.preprocessing.StandardScaler.html?highlight=standardscaler#sklearn-preprocessing-standardscaler). There will likely be terms you don't understand; for these, try to find their meanings in the [SKLearn Glossary](https://scikit-learn.org/stable/glossary.html)."
      ]
    },
    {
      "cell_type": "markdown",
      "metadata": {
        "id": "0sg02606Zslu"
      },
      "source": [
        "## Classification with Imbalanced Datasets"
      ]
    },
    {
      "cell_type": "markdown",
      "metadata": {
        "id": "2sjla2L1Zyp8"
      },
      "source": [
        "From above we might think we have a pretty good model because we got a high accuracy score. However, with imbalanced datasets like ours, where we have many more of one class than another, we have to be careful in using the accuracy of the model. If we have a dataset where 99% of the data was in class `1`, our model could just always predict `1` and receive a 99% accuracy! This is not a good model, as it will not help us classify new data in a meaningful way.\n",
        "\n",
        "Let's look at how well our model is performing on the minority class:"
      ]
    },
    {
      "cell_type": "code",
      "metadata": {
        "colab": {
          "base_uri": "https://localhost:8080/"
        },
        "id": "9DgDXeg9btCr",
        "outputId": "a2e7f0d7-e74a-4829-cb72-03063abb665d"
      },
      "source": [
        "def portion_fire_correct(pred, y_test):\n",
        "    is_fire = y_test == 1\n",
        "    y_is_fire = y_test[is_fire]\n",
        "    pred_fire_correct = pred[is_fire] == y_is_fire\n",
        "    return pred_fire_correct.value_counts()[True] / len(y_is_fire)\n",
        "\n",
        "pred = clf.predict(X_test)\n",
        "portion_fire_correct(pred, y_test)"
      ],
      "execution_count": null,
      "outputs": [
        {
          "output_type": "execute_result",
          "data": {
            "text/plain": [
              "0.5714285714285714"
            ]
          },
          "metadata": {
            "tags": []
          },
          "execution_count": 26
        }
      ]
    },
    {
      "cell_type": "markdown",
      "metadata": {
        "id": "yhHvjRrMetJw"
      },
      "source": [
        "This shows us that when it comes to correctly predicting that a pokemon is a fire type, our model is not great."
      ]
    },
    {
      "cell_type": "markdown",
      "metadata": {
        "id": "_WHat0QAfUGp"
      },
      "source": [
        "Sklearn has the `balanced_accuracy_score` function for evaluating classification model performance on imbalanced datasets. This uses a special version of accuracy which takes into account the imbalance in the dataset."
      ]
    },
    {
      "cell_type": "code",
      "metadata": {
        "colab": {
          "base_uri": "https://localhost:8080/"
        },
        "id": "SUe2AhA1Z-1d",
        "outputId": "6a35a6b8-c403-4d09-84b7-c31e576d84ab"
      },
      "source": [
        "balanced_accuracy_score(y_test, clf.predict(X_test))"
      ],
      "execution_count": null,
      "outputs": [
        {
          "output_type": "execute_result",
          "data": {
            "text/plain": [
              "0.7780806979280261"
            ]
          },
          "metadata": {
            "tags": []
          },
          "execution_count": 27
        }
      ]
    },
    {
      "cell_type": "markdown",
      "metadata": {
        "id": "almL-RTof_uV"
      },
      "source": [
        "To improve our model, we can update the scoring to use `balanced_accuracy`, instead of the default `accuracy`.\n",
        "\n",
        "Previously, our model was attempting to maximize the accuracy, which lead it to just predict 'not fire' more often.\n",
        "\n",
        "When set the scoring to be balanced accuracy instead, our model will use the balanced accuracy during training to evaluate how well it is performing, and it will adapt itself to improve this metric.\n",
        "\n",
        "Another useful argument we can pass is `class_weight`. When we set this to `'balanced'` with logistic regression, the algorithm will balance out the classification by giving more weight/importance to the minority class, and less weight/importance to the majority class."
      ]
    },
    {
      "cell_type": "code",
      "metadata": {
        "colab": {
          "base_uri": "https://localhost:8080/",
          "height": 271
        },
        "id": "IReKBTLaf2Fn",
        "outputId": "20aa9931-d48a-4fd4-ed6e-bf19f5c8d1a3"
      },
      "source": [
        "clf = make_pipeline(StandardScaler(), LogisticRegressionCV(max_iter=1500, scoring='balanced_accuracy', class_weight='balanced'))\n",
        "clf.fit(X_train, y_train)\n",
        "clf"
      ],
      "execution_count": null,
      "outputs": [
        {
          "output_type": "stream",
          "text": [
            "/usr/local/lib/python3.7/dist-packages/sklearn/linear_model/_logistic.py:765: ConvergenceWarning: lbfgs failed to converge (status=1):\n",
            "STOP: TOTAL NO. of ITERATIONS REACHED LIMIT.\n",
            "\n",
            "Increase the number of iterations (max_iter) or scale the data as shown in:\n",
            "    https://scikit-learn.org/stable/modules/preprocessing.html\n",
            "Please also refer to the documentation for alternative solver options:\n",
            "    https://scikit-learn.org/stable/modules/linear_model.html#logistic-regression\n",
            "  extra_warning_msg=_LOGISTIC_SOLVER_CONVERGENCE_MSG)\n"
          ],
          "name": "stderr"
        },
        {
          "output_type": "execute_result",
          "data": {
            "text/html": [
              "<style>div.sk-top-container {color: black;background-color: white;}div.sk-toggleable {background-color: white;}label.sk-toggleable__label {cursor: pointer;display: block;width: 100%;margin-bottom: 0;padding: 0.2em 0.3em;box-sizing: border-box;text-align: center;}div.sk-toggleable__content {max-height: 0;max-width: 0;overflow: hidden;text-align: left;background-color: #f0f8ff;}div.sk-toggleable__content pre {margin: 0.2em;color: black;border-radius: 0.25em;background-color: #f0f8ff;}input.sk-toggleable__control:checked~div.sk-toggleable__content {max-height: 200px;max-width: 100%;overflow: auto;}div.sk-estimator input.sk-toggleable__control:checked~label.sk-toggleable__label {background-color: #d4ebff;}div.sk-label input.sk-toggleable__control:checked~label.sk-toggleable__label {background-color: #d4ebff;}input.sk-hidden--visually {border: 0;clip: rect(1px 1px 1px 1px);clip: rect(1px, 1px, 1px, 1px);height: 1px;margin: -1px;overflow: hidden;padding: 0;position: absolute;width: 1px;}div.sk-estimator {font-family: monospace;background-color: #f0f8ff;margin: 0.25em 0.25em;border: 1px dotted black;border-radius: 0.25em;box-sizing: border-box;}div.sk-estimator:hover {background-color: #d4ebff;}div.sk-parallel-item::after {content: \"\";width: 100%;border-bottom: 1px solid gray;flex-grow: 1;}div.sk-label:hover label.sk-toggleable__label {background-color: #d4ebff;}div.sk-serial::before {content: \"\";position: absolute;border-left: 1px solid gray;box-sizing: border-box;top: 2em;bottom: 0;left: 50%;}div.sk-serial {display: flex;flex-direction: column;align-items: center;background-color: white;}div.sk-item {z-index: 1;}div.sk-parallel {display: flex;align-items: stretch;justify-content: center;background-color: white;}div.sk-parallel-item {display: flex;flex-direction: column;position: relative;background-color: white;}div.sk-parallel-item:first-child::after {align-self: flex-end;width: 50%;}div.sk-parallel-item:last-child::after {align-self: flex-start;width: 50%;}div.sk-parallel-item:only-child::after {width: 0;}div.sk-dashed-wrapped {border: 1px dashed gray;margin: 0.2em;box-sizing: border-box;padding-bottom: 0.1em;background-color: white;position: relative;}div.sk-label label {font-family: monospace;font-weight: bold;background-color: white;display: inline-block;line-height: 1.2em;}div.sk-label-container {position: relative;z-index: 2;text-align: center;}div.sk-container {display: inline-block;position: relative;}</style><div class=\"sk-top-container\"><div class=\"sk-container\"><div class=\"sk-item sk-dashed-wrapped\"><div class=\"sk-label-container\"><div class=\"sk-label sk-toggleable\"><input class=\"sk-toggleable__control sk-hidden--visually\" id=\"3b361609-e580-4a67-8c25-53c2caf74a78\" type=\"checkbox\" ><label class=\"sk-toggleable__label\" for=\"3b361609-e580-4a67-8c25-53c2caf74a78\">Pipeline</label><div class=\"sk-toggleable__content\"><pre>Pipeline(steps=[('standardscaler', StandardScaler()),\n",
              "                ('logisticregressioncv',\n",
              "                 LogisticRegressionCV(class_weight='balanced', max_iter=1500,\n",
              "                                      scoring='balanced_accuracy'))])</pre></div></div></div><div class=\"sk-serial\"><div class=\"sk-item\"><div class=\"sk-estimator sk-toggleable\"><input class=\"sk-toggleable__control sk-hidden--visually\" id=\"1403cf2d-f1a0-4e52-a82b-786710929607\" type=\"checkbox\" ><label class=\"sk-toggleable__label\" for=\"1403cf2d-f1a0-4e52-a82b-786710929607\">StandardScaler</label><div class=\"sk-toggleable__content\"><pre>StandardScaler()</pre></div></div></div><div class=\"sk-item\"><div class=\"sk-estimator sk-toggleable\"><input class=\"sk-toggleable__control sk-hidden--visually\" id=\"c9a10252-f613-4b35-8e25-d2b9d38c0e80\" type=\"checkbox\" ><label class=\"sk-toggleable__label\" for=\"c9a10252-f613-4b35-8e25-d2b9d38c0e80\">LogisticRegressionCV</label><div class=\"sk-toggleable__content\"><pre>LogisticRegressionCV(class_weight='balanced', max_iter=1500,\n",
              "                     scoring='balanced_accuracy')</pre></div></div></div></div></div></div></div>"
            ],
            "text/plain": [
              "Pipeline(steps=[('standardscaler', StandardScaler()),\n",
              "                ('logisticregressioncv',\n",
              "                 LogisticRegressionCV(class_weight='balanced', max_iter=1500,\n",
              "                                      scoring='balanced_accuracy'))])"
            ]
          },
          "metadata": {
            "tags": []
          },
          "execution_count": 28
        }
      ]
    },
    {
      "cell_type": "markdown",
      "metadata": {
        "id": "KGzTIcr9hJC7"
      },
      "source": [
        "When we score our model we will see the balanced accuracy now."
      ]
    },
    {
      "cell_type": "code",
      "metadata": {
        "colab": {
          "base_uri": "https://localhost:8080/"
        },
        "id": "HmezGbynhIdv",
        "outputId": "98859496-42bd-4986-d904-e3510f7dbeb8"
      },
      "source": [
        "clf.score(X_test, y_test)"
      ],
      "execution_count": null,
      "outputs": [
        {
          "output_type": "execute_result",
          "data": {
            "text/plain": [
              "0.871319520174482"
            ]
          },
          "metadata": {
            "tags": []
          },
          "execution_count": 29
        }
      ]
    },
    {
      "cell_type": "markdown",
      "metadata": {
        "id": "otkgV24_hx3h"
      },
      "source": [
        "Depending on the train/test split, the balanced accuracy may now be reaching the mid to high 80s, a significant improvement!"
      ]
    },
    {
      "cell_type": "code",
      "metadata": {
        "id": "HwHSD_nhhWk0"
      },
      "source": [
        "pred = clf.predict(X_test)"
      ],
      "execution_count": null,
      "outputs": []
    },
    {
      "cell_type": "markdown",
      "metadata": {
        "id": "FljaflBUo7xb"
      },
      "source": [
        "Now that our class weights are balanced, we can also look at the accuracy again to see how we're doing overall."
      ]
    },
    {
      "cell_type": "code",
      "metadata": {
        "colab": {
          "base_uri": "https://localhost:8080/"
        },
        "id": "CI9PAV5QmvXh",
        "outputId": "2b4036aa-8b9a-4175-ad3b-5f6fb1ad8c4d"
      },
      "source": [
        "accuracy_score(y_test, pred)"
      ],
      "execution_count": null,
      "outputs": [
        {
          "output_type": "execute_result",
          "data": {
            "text/plain": [
              "0.8827586206896552"
            ]
          },
          "metadata": {
            "tags": []
          },
          "execution_count": 31
        }
      ]
    },
    {
      "cell_type": "markdown",
      "metadata": {
        "id": "4uxR69nQiPrq"
      },
      "source": [
        "It's likely now that we will also see more of the incorrect predictions being 'fire'."
      ]
    },
    {
      "cell_type": "code",
      "metadata": {
        "colab": {
          "base_uri": "https://localhost:8080/",
          "height": 601
        },
        "id": "Al2xt6CaiFFb",
        "outputId": "6031b83a-bf0a-408c-a8bc-2928845fffe5"
      },
      "source": [
        "get_incorrect_predictions(pred, y_test)"
      ],
      "execution_count": null,
      "outputs": [
        {
          "output_type": "execute_result",
          "data": {
            "text/html": [
              "<div>\n",
              "<style scoped>\n",
              "    .dataframe tbody tr th:only-of-type {\n",
              "        vertical-align: middle;\n",
              "    }\n",
              "\n",
              "    .dataframe tbody tr th {\n",
              "        vertical-align: top;\n",
              "    }\n",
              "\n",
              "    .dataframe thead th {\n",
              "        text-align: right;\n",
              "    }\n",
              "</style>\n",
              "<table border=\"1\" class=\"dataframe\">\n",
              "  <thead>\n",
              "    <tr style=\"text-align: right;\">\n",
              "      <th></th>\n",
              "      <th>Name</th>\n",
              "      <th>Type_1</th>\n",
              "      <th>Type_2</th>\n",
              "      <th>Prediction</th>\n",
              "      <th>Actual</th>\n",
              "    </tr>\n",
              "    <tr>\n",
              "      <th>Number</th>\n",
              "      <th></th>\n",
              "      <th></th>\n",
              "      <th></th>\n",
              "      <th></th>\n",
              "      <th></th>\n",
              "    </tr>\n",
              "  </thead>\n",
              "  <tbody>\n",
              "    <tr>\n",
              "      <th>695</th>\n",
              "      <td>Heliolisk</td>\n",
              "      <td>Electric</td>\n",
              "      <td>Normal</td>\n",
              "      <td>1</td>\n",
              "      <td>0</td>\n",
              "    </tr>\n",
              "    <tr>\n",
              "      <th>196</th>\n",
              "      <td>Espeon</td>\n",
              "      <td>Psychic</td>\n",
              "      <td>NaN</td>\n",
              "      <td>1</td>\n",
              "      <td>0</td>\n",
              "    </tr>\n",
              "    <tr>\n",
              "      <th>20</th>\n",
              "      <td>Raticate</td>\n",
              "      <td>Normal</td>\n",
              "      <td>NaN</td>\n",
              "      <td>1</td>\n",
              "      <td>0</td>\n",
              "    </tr>\n",
              "    <tr>\n",
              "      <th>402</th>\n",
              "      <td>Kricketune</td>\n",
              "      <td>Bug</td>\n",
              "      <td>NaN</td>\n",
              "      <td>1</td>\n",
              "      <td>0</td>\n",
              "    </tr>\n",
              "    <tr>\n",
              "      <th>554</th>\n",
              "      <td>Darumaka</td>\n",
              "      <td>Fire</td>\n",
              "      <td>NaN</td>\n",
              "      <td>0</td>\n",
              "      <td>1</td>\n",
              "    </tr>\n",
              "    <tr>\n",
              "      <th>674</th>\n",
              "      <td>Pancham</td>\n",
              "      <td>Fighting</td>\n",
              "      <td>NaN</td>\n",
              "      <td>1</td>\n",
              "      <td>0</td>\n",
              "    </tr>\n",
              "    <tr>\n",
              "      <th>327</th>\n",
              "      <td>Spinda</td>\n",
              "      <td>Normal</td>\n",
              "      <td>NaN</td>\n",
              "      <td>1</td>\n",
              "      <td>0</td>\n",
              "    </tr>\n",
              "    <tr>\n",
              "      <th>628</th>\n",
              "      <td>Braviary</td>\n",
              "      <td>Normal</td>\n",
              "      <td>Flying</td>\n",
              "      <td>1</td>\n",
              "      <td>0</td>\n",
              "    </tr>\n",
              "    <tr>\n",
              "      <th>614</th>\n",
              "      <td>Beartic</td>\n",
              "      <td>Ice</td>\n",
              "      <td>NaN</td>\n",
              "      <td>1</td>\n",
              "      <td>0</td>\n",
              "    </tr>\n",
              "    <tr>\n",
              "      <th>441</th>\n",
              "      <td>Chatot</td>\n",
              "      <td>Normal</td>\n",
              "      <td>Flying</td>\n",
              "      <td>1</td>\n",
              "      <td>0</td>\n",
              "    </tr>\n",
              "    <tr>\n",
              "      <th>479</th>\n",
              "      <td>Rotom</td>\n",
              "      <td>Electric</td>\n",
              "      <td>Ghost</td>\n",
              "      <td>1</td>\n",
              "      <td>0</td>\n",
              "    </tr>\n",
              "    <tr>\n",
              "      <th>135</th>\n",
              "      <td>Jolteon</td>\n",
              "      <td>Electric</td>\n",
              "      <td>NaN</td>\n",
              "      <td>1</td>\n",
              "      <td>0</td>\n",
              "    </tr>\n",
              "    <tr>\n",
              "      <th>619</th>\n",
              "      <td>Mienfoo</td>\n",
              "      <td>Fighting</td>\n",
              "      <td>NaN</td>\n",
              "      <td>1</td>\n",
              "      <td>0</td>\n",
              "    </tr>\n",
              "    <tr>\n",
              "      <th>553</th>\n",
              "      <td>Krookodile</td>\n",
              "      <td>Ground</td>\n",
              "      <td>Dark</td>\n",
              "      <td>1</td>\n",
              "      <td>0</td>\n",
              "    </tr>\n",
              "    <tr>\n",
              "      <th>552</th>\n",
              "      <td>Krokorok</td>\n",
              "      <td>Ground</td>\n",
              "      <td>Dark</td>\n",
              "      <td>1</td>\n",
              "      <td>0</td>\n",
              "    </tr>\n",
              "    <tr>\n",
              "      <th>494</th>\n",
              "      <td>Victini</td>\n",
              "      <td>Psychic</td>\n",
              "      <td>Fire</td>\n",
              "      <td>0</td>\n",
              "      <td>1</td>\n",
              "    </tr>\n",
              "    <tr>\n",
              "      <th>697</th>\n",
              "      <td>Tyrantrum</td>\n",
              "      <td>Rock</td>\n",
              "      <td>Dragon</td>\n",
              "      <td>1</td>\n",
              "      <td>0</td>\n",
              "    </tr>\n",
              "  </tbody>\n",
              "</table>\n",
              "</div>"
            ],
            "text/plain": [
              "              Name    Type_1  Type_2  Prediction  Actual\n",
              "Number                                                  \n",
              "695      Heliolisk  Electric  Normal           1       0\n",
              "196         Espeon   Psychic     NaN           1       0\n",
              "20        Raticate    Normal     NaN           1       0\n",
              "402     Kricketune       Bug     NaN           1       0\n",
              "554       Darumaka      Fire     NaN           0       1\n",
              "674        Pancham  Fighting     NaN           1       0\n",
              "327         Spinda    Normal     NaN           1       0\n",
              "628       Braviary    Normal  Flying           1       0\n",
              "614        Beartic       Ice     NaN           1       0\n",
              "441         Chatot    Normal  Flying           1       0\n",
              "479          Rotom  Electric   Ghost           1       0\n",
              "135        Jolteon  Electric     NaN           1       0\n",
              "619        Mienfoo  Fighting     NaN           1       0\n",
              "553     Krookodile    Ground    Dark           1       0\n",
              "552       Krokorok    Ground    Dark           1       0\n",
              "494        Victini   Psychic    Fire           0       1\n",
              "697      Tyrantrum      Rock  Dragon           1       0"
            ]
          },
          "metadata": {
            "tags": []
          },
          "execution_count": 32
        }
      ]
    },
    {
      "cell_type": "markdown",
      "metadata": {
        "id": "A5D5rbIpiXZu"
      },
      "source": [
        "And we should see more of the fire types being correctly predicted."
      ]
    },
    {
      "cell_type": "code",
      "metadata": {
        "colab": {
          "base_uri": "https://localhost:8080/"
        },
        "id": "7nQ1i6fdhiyj",
        "outputId": "57306bbc-6e2e-46be-95b0-3d0d7b1442a2"
      },
      "source": [
        "portion_fire_correct(pred, y_test)"
      ],
      "execution_count": null,
      "outputs": [
        {
          "output_type": "execute_result",
          "data": {
            "text/plain": [
              "0.8571428571428571"
            ]
          },
          "metadata": {
            "tags": []
          },
          "execution_count": 33
        }
      ]
    },
    {
      "cell_type": "markdown",
      "metadata": {
        "id": "up1uReL07e_P"
      },
      "source": [
        "**Challenge**: Below, try to find the row containing your favourite pokemon (or a random row if you don't have one). Once you have the row, use our model to predict whether it is a fire type. Note: the `predict` function requires 2-dimensional data."
      ]
    },
    {
      "cell_type": "code",
      "metadata": {
        "id": "-QnuVPyE7vwj"
      },
      "source": [
        ""
      ],
      "execution_count": null,
      "outputs": []
    },
    {
      "cell_type": "markdown",
      "metadata": {
        "id": "bUOuH3LxPN0c"
      },
      "source": [
        "## Model Introspection\n",
        "\n",
        "When developing machine learning models, it is often important to be able to understand how your model is making decisions. The process of trying to understand this is sometimes called *model introspection*. Logistic Regression is one model that happens to be very good for introspection.\n",
        "\n",
        "Let's look at our model to figure out how it is deciding whether a pokemon is a fire type or not."
      ]
    },
    {
      "cell_type": "markdown",
      "metadata": {
        "id": "Mozgu58qP1SX"
      },
      "source": [
        "First we need to get the model out of the pipeline. With a pipeline, the model is almost always the final step. Each step is tuple with the step name and the actual class, so after we get the last step we take the second item out of the tuple."
      ]
    },
    {
      "cell_type": "code",
      "metadata": {
        "colab": {
          "base_uri": "https://localhost:8080/",
          "height": 89
        },
        "id": "6R_7vxeupm48",
        "outputId": "bff076e2-fe12-4f36-d559-deabe6d1bc6c"
      },
      "source": [
        "logreg = clf.steps[-1][1]\n",
        "logreg"
      ],
      "execution_count": null,
      "outputs": [
        {
          "output_type": "execute_result",
          "data": {
            "text/html": [
              "<style>div.sk-top-container {color: black;background-color: white;}div.sk-toggleable {background-color: white;}label.sk-toggleable__label {cursor: pointer;display: block;width: 100%;margin-bottom: 0;padding: 0.2em 0.3em;box-sizing: border-box;text-align: center;}div.sk-toggleable__content {max-height: 0;max-width: 0;overflow: hidden;text-align: left;background-color: #f0f8ff;}div.sk-toggleable__content pre {margin: 0.2em;color: black;border-radius: 0.25em;background-color: #f0f8ff;}input.sk-toggleable__control:checked~div.sk-toggleable__content {max-height: 200px;max-width: 100%;overflow: auto;}div.sk-estimator input.sk-toggleable__control:checked~label.sk-toggleable__label {background-color: #d4ebff;}div.sk-label input.sk-toggleable__control:checked~label.sk-toggleable__label {background-color: #d4ebff;}input.sk-hidden--visually {border: 0;clip: rect(1px 1px 1px 1px);clip: rect(1px, 1px, 1px, 1px);height: 1px;margin: -1px;overflow: hidden;padding: 0;position: absolute;width: 1px;}div.sk-estimator {font-family: monospace;background-color: #f0f8ff;margin: 0.25em 0.25em;border: 1px dotted black;border-radius: 0.25em;box-sizing: border-box;}div.sk-estimator:hover {background-color: #d4ebff;}div.sk-parallel-item::after {content: \"\";width: 100%;border-bottom: 1px solid gray;flex-grow: 1;}div.sk-label:hover label.sk-toggleable__label {background-color: #d4ebff;}div.sk-serial::before {content: \"\";position: absolute;border-left: 1px solid gray;box-sizing: border-box;top: 2em;bottom: 0;left: 50%;}div.sk-serial {display: flex;flex-direction: column;align-items: center;background-color: white;}div.sk-item {z-index: 1;}div.sk-parallel {display: flex;align-items: stretch;justify-content: center;background-color: white;}div.sk-parallel-item {display: flex;flex-direction: column;position: relative;background-color: white;}div.sk-parallel-item:first-child::after {align-self: flex-end;width: 50%;}div.sk-parallel-item:last-child::after {align-self: flex-start;width: 50%;}div.sk-parallel-item:only-child::after {width: 0;}div.sk-dashed-wrapped {border: 1px dashed gray;margin: 0.2em;box-sizing: border-box;padding-bottom: 0.1em;background-color: white;position: relative;}div.sk-label label {font-family: monospace;font-weight: bold;background-color: white;display: inline-block;line-height: 1.2em;}div.sk-label-container {position: relative;z-index: 2;text-align: center;}div.sk-container {display: inline-block;position: relative;}</style><div class=\"sk-top-container\"><div class=\"sk-container\"><div class=\"sk-item\"><div class=\"sk-estimator sk-toggleable\"><input class=\"sk-toggleable__control sk-hidden--visually\" id=\"51bb0c5f-92a1-4e9c-bf04-4ad2794e9628\" type=\"checkbox\" checked><label class=\"sk-toggleable__label\" for=\"51bb0c5f-92a1-4e9c-bf04-4ad2794e9628\">LogisticRegressionCV</label><div class=\"sk-toggleable__content\"><pre>LogisticRegressionCV(class_weight='balanced', max_iter=1500,\n",
              "                     scoring='balanced_accuracy')</pre></div></div></div></div></div>"
            ],
            "text/plain": [
              "LogisticRegressionCV(class_weight='balanced', max_iter=1500,\n",
              "                     scoring='balanced_accuracy')"
            ]
          },
          "metadata": {
            "tags": []
          },
          "execution_count": 29
        }
      ]
    },
    {
      "cell_type": "markdown",
      "metadata": {
        "id": "aLrLXoGJQQK7"
      },
      "source": [
        "Now that we have the model, we can use the `coef_` array to determine how the model is making it's decisions. Each number in the coefficient array is multiplied by the value from the corresponding column for each sample, then they are all added together.\n",
        "\n",
        "So the greater a coefficient, the more the corresponding column adds to the chances of a sample being a fire type, and the smaller the coefficient, the more the corresponding column subtracts from those chances.\n",
        "\n",
        "If we look at the shape of the coefficient array, we'll see that along its second axis it has an item for every column in our input array."
      ]
    },
    {
      "cell_type": "code",
      "metadata": {
        "colab": {
          "base_uri": "https://localhost:8080/"
        },
        "id": "4nbAt5KxQAQL",
        "outputId": "91335302-b07c-469b-e43b-50a41ef4f7c4"
      },
      "source": [
        "print(logreg.coef_.shape)\n",
        "print(X.shape)"
      ],
      "execution_count": null,
      "outputs": [
        {
          "output_type": "stream",
          "text": [
            "(1, 68)\n",
            "(721, 68)\n"
          ],
          "name": "stdout"
        }
      ]
    },
    {
      "cell_type": "markdown",
      "metadata": {
        "id": "XofkN-9WRtQ-"
      },
      "source": [
        "This is what it looks like:"
      ]
    },
    {
      "cell_type": "code",
      "metadata": {
        "colab": {
          "base_uri": "https://localhost:8080/"
        },
        "id": "5uyJrDSrRqd_",
        "outputId": "77f76987-e8b1-4970-81b9-5ccb9bd24701"
      },
      "source": [
        "logreg.coef_"
      ],
      "execution_count": null,
      "outputs": [
        {
          "output_type": "execute_result",
          "data": {
            "text/plain": [
              "array([[ 0.01933085, -0.03652529, -0.0227694 , -0.079095  ,  0.17517091,\n",
              "        -0.0054709 ,  0.04272   , -0.03392524,  0.09552062,  0.01931683,\n",
              "         0.11355489, -0.0111737 , -0.06129459, -0.01295869, -0.08981464,\n",
              "         0.0922612 , -0.18067324,  0.09757136, -0.13948046, -0.12359737,\n",
              "        -0.08777707, -0.14058682,  0.44706243, -0.0374494 ,  0.12170876,\n",
              "         0.13028109, -0.11952761, -0.00795711, -0.04535873, -0.06280442,\n",
              "         0.27392308, -0.03517331, -0.06751133, -0.06648245, -0.08591675,\n",
              "        -0.02267346,  0.04092159, -0.10250547, -0.03813945, -0.05116895,\n",
              "         0.09077132, -0.02917378, -0.00920847,  0.03752815, -0.05024676,\n",
              "        -0.0658769 , -0.02928667, -0.0760151 ,  0.08257181, -0.02461594,\n",
              "        -0.02575334, -0.03502276, -0.02904687, -0.04821922,  0.03707784,\n",
              "        -0.0486531 , -0.06076757,  0.01659835,  0.03965961, -0.00459721,\n",
              "        -0.09165769, -0.07462276, -0.04220014,  0.19033293, -0.01716441,\n",
              "        -0.04423299, -0.04124463, -0.05895169]])"
            ]
          },
          "metadata": {
            "tags": []
          },
          "execution_count": 31
        }
      ]
    },
    {
      "cell_type": "markdown",
      "metadata": {
        "id": "dMtEFxvg8BE4"
      },
      "source": [
        "**Challenge**: Try to write out the hypothesis function using the above coefficients. You can just include the first few coefficients and use a $\\dots$ for the rest. Use $x_1$, $x_2$ etc. to represent the input columns."
      ]
    },
    {
      "cell_type": "markdown",
      "metadata": {
        "id": "XiwGjjwwR1Gn"
      },
      "source": [
        "As an example, when the model is making a prediction for a certain sample, for the first column in the sample it would multiply it by the first coefficient:"
      ]
    },
    {
      "cell_type": "code",
      "metadata": {
        "colab": {
          "base_uri": "https://localhost:8080/"
        },
        "id": "O6j5R-w-SDl2",
        "outputId": "7758be44-700f-4297-9316-d0310b952451"
      },
      "source": [
        "X.iloc[0, 0] * logreg.coef_[0, 0]"
      ],
      "execution_count": null,
      "outputs": [
        {
          "output_type": "execute_result",
          "data": {
            "text/plain": [
              "6.147209787379349"
            ]
          },
          "metadata": {
            "tags": []
          },
          "execution_count": 32
        }
      ]
    },
    {
      "cell_type": "markdown",
      "metadata": {
        "id": "DaxC0NPNSS4B"
      },
      "source": [
        "It would do this for each column+coefficient pair, add them all together, and the greater the result, the more likely this sample is to be a fire type (roughly)."
      ]
    },
    {
      "cell_type": "markdown",
      "metadata": {
        "id": "zxwlM4ytSmTW"
      },
      "source": [
        "So if we want to introspect our model, we can look at the values of the coefficients. To get an idea for the average size of a coefficient, we can look at the average of the absolute values:"
      ]
    },
    {
      "cell_type": "code",
      "metadata": {
        "colab": {
          "base_uri": "https://localhost:8080/"
        },
        "id": "GC48pq9mrbIx",
        "outputId": "49657a27-e44b-489e-dc9b-58e7e3f5ff56"
      },
      "source": [
        "np.mean(np.abs(logreg.coef_[0]))"
      ],
      "execution_count": null,
      "outputs": [
        {
          "output_type": "execute_result",
          "data": {
            "text/plain": [
              "0.07115077133922708"
            ]
          },
          "metadata": {
            "tags": []
          },
          "execution_count": 33
        }
      ]
    },
    {
      "cell_type": "markdown",
      "metadata": {
        "id": "T2K-nZb6S7of"
      },
      "source": [
        "Note: we use absolute values because we care about the size of the values, whether they're negative or positive, because large values in either direction will give us important information.\n",
        "\n",
        "The above tells where a pretty much neutral column will have its coefficient. Columns with coefficients around this value (positive or negative), will not contribute much to the chances of the pokemon being a fire type."
      ]
    },
    {
      "cell_type": "markdown",
      "metadata": {
        "id": "VodG_oNCTrvC"
      },
      "source": [
        "Now let's look at the coefficients for the columns we were looking at earlier which had greater correlation to a pokemon being a fire type."
      ]
    },
    {
      "cell_type": "code",
      "metadata": {
        "colab": {
          "base_uri": "https://localhost:8080/"
        },
        "id": "Qi5w8UvqqET3",
        "outputId": "01552115-e16b-446d-a248-1f67e8b4406b"
      },
      "source": [
        "cols = ['Sp_Atk', 'Pr_Male', 'Defense', 'Catch_Rate']\n",
        "for col in cols:\n",
        "    col_ind = X.columns.get_loc(col)\n",
        "    coef = logreg.coef_[0, col_ind]\n",
        "    print(f'{col} coefficient:\\t', coef)"
      ],
      "execution_count": null,
      "outputs": [
        {
          "output_type": "stream",
          "text": [
            "Sp_Atk coefficient:\t 0.1751709098809954\n",
            "Pr_Male coefficient:\t 0.11355488552371566\n",
            "Defense coefficient:\t -0.07909499727443742\n",
            "Catch_Rate coefficient:\t -0.08981464191287829\n"
          ],
          "name": "stdout"
        }
      ]
    },
    {
      "cell_type": "markdown",
      "metadata": {
        "id": "xtDjDrftUWIa"
      },
      "source": [
        "These values about line up with the correlation values we saw earlier: most have above average coefficients, and the special attack and male probability are contributing positively, while defense and catch rate are contributing negatively.\n",
        "\n",
        "Note: your results could vary based on the train/test data randomly chosen."
      ]
    },
    {
      "cell_type": "markdown",
      "metadata": {
        "id": "kAvWv0VLU9dT"
      },
      "source": [
        "We can also look overall at which columns are contributing the most in either direction. We'll use `argsort` to get the indices of the smallest and greatest coefficients, then we index into our input DataFrame with those indices to get the columns."
      ]
    },
    {
      "cell_type": "code",
      "metadata": {
        "colab": {
          "base_uri": "https://localhost:8080/"
        },
        "id": "dkt2ghSerjjI",
        "outputId": "caffb403-a727-4cd9-8af0-e8cca636af9d"
      },
      "source": [
        "coef_i = np.argsort(logreg.coef_[0])\n",
        "detrimental = coef_i[:10]\n",
        "beneficial = coef_i[-1:-11:-1] # This will give us the top ten from most to least beneficial, whereas [-10:] would give least to most\n",
        "\n",
        "det_cols = X.iloc[0, detrimental].index.values\n",
        "ben_cols = X.iloc[0, beneficial].index.values\n",
        "print('Most detrimental to the chance of the pokemon being a fire type:\\n', det_cols)\n",
        "print()\n",
        "print('Most beneficial to the chance of the pokemon being a fire type:\\n', ben_cols)"
      ],
      "execution_count": null,
      "outputs": [
        {
          "output_type": "stream",
          "text": [
            "Most detrimental to the chance of the pokemon being a fire type:\n",
            " ['Color_Blue' 'Color_Purple' 'Color_Green' 'Color_Grey' 'Egg_Group_1_Bug'\n",
            " 'Egg_Group_1_Water_1' 'Body_Style_head_only' 'Catch_Rate' 'Color_Pink'\n",
            " 'Egg_Group_1_Mineral']\n",
            "\n",
            "Most beneficial to the chance of the pokemon being a fire type:\n",
            " ['Color_Red' 'Egg_Group_1_Field' 'Body_Style_quadruped' 'Sp_Atk'\n",
            " 'Egg_Group_1_Amorphous' 'Color_Yellow' 'Pr_Male' 'Color_Brown'\n",
            " 'isLegendary' 'Color_Black']\n"
          ],
          "name": "stdout"
        }
      ]
    },
    {
      "cell_type": "markdown",
      "metadata": {
        "id": "dnuLAUVXVlF9"
      },
      "source": [
        "From this we can say that if the Pokemon is red and it has a high special attack, our model is more likely to say it is a fire type. We can also say that if a pokemon is blue or purple or green, our model is more likely to say it is not a fire type."
      ]
    },
    {
      "cell_type": "markdown",
      "metadata": {
        "id": "ncV-skT69H86"
      },
      "source": [
        "**Challenge**: Take a row in the dataset which **is a fire type**, and try to make modifications to it to make the model think it **is not a fire type**. Test out your changes by predicting on that row."
      ]
    },
    {
      "cell_type": "code",
      "metadata": {
        "id": "iQYr_ZTU9eae"
      },
      "source": [
        ""
      ],
      "execution_count": null,
      "outputs": []
    },
    {
      "cell_type": "markdown",
      "metadata": {
        "id": "VHliOuPUCFv6"
      },
      "source": [
        "## Multi-class Classification\n",
        "\n",
        "We don't have to just classify 1 or 0, we can also perform **multi-class classification**. For example, if we want to classify the type of a Pokemon, instead of just whether or not it is a fire type, we can use multi-class classification. In this case, our classes will be all the Pokemon types."
      ]
    },
    {
      "cell_type": "markdown",
      "metadata": {
        "id": "vY-H5ls1B2QT"
      },
      "source": [
        "Let's start fresh with our dataset."
      ]
    },
    {
      "cell_type": "code",
      "metadata": {
        "id": "KXXgNVhRcIAl",
        "colab": {
          "base_uri": "https://localhost:8080/",
          "height": 466
        },
        "outputId": "836afc79-a15f-475e-8bdb-0f11091dd9eb"
      },
      "source": [
        "data = pd.read_csv('pokemon_alopez247.csv', index_col='Number')\n",
        "data"
      ],
      "execution_count": null,
      "outputs": [
        {
          "output_type": "execute_result",
          "data": {
            "text/html": [
              "<div>\n",
              "<style scoped>\n",
              "    .dataframe tbody tr th:only-of-type {\n",
              "        vertical-align: middle;\n",
              "    }\n",
              "\n",
              "    .dataframe tbody tr th {\n",
              "        vertical-align: top;\n",
              "    }\n",
              "\n",
              "    .dataframe thead th {\n",
              "        text-align: right;\n",
              "    }\n",
              "</style>\n",
              "<table border=\"1\" class=\"dataframe\">\n",
              "  <thead>\n",
              "    <tr style=\"text-align: right;\">\n",
              "      <th></th>\n",
              "      <th>Name</th>\n",
              "      <th>Type_1</th>\n",
              "      <th>Type_2</th>\n",
              "      <th>Total</th>\n",
              "      <th>HP</th>\n",
              "      <th>Attack</th>\n",
              "      <th>Defense</th>\n",
              "      <th>Sp_Atk</th>\n",
              "      <th>Sp_Def</th>\n",
              "      <th>Speed</th>\n",
              "      <th>Generation</th>\n",
              "      <th>isLegendary</th>\n",
              "      <th>Color</th>\n",
              "      <th>hasGender</th>\n",
              "      <th>Pr_Male</th>\n",
              "      <th>Egg_Group_1</th>\n",
              "      <th>Egg_Group_2</th>\n",
              "      <th>hasMegaEvolution</th>\n",
              "      <th>Height_m</th>\n",
              "      <th>Weight_kg</th>\n",
              "      <th>Catch_Rate</th>\n",
              "      <th>Body_Style</th>\n",
              "    </tr>\n",
              "    <tr>\n",
              "      <th>Number</th>\n",
              "      <th></th>\n",
              "      <th></th>\n",
              "      <th></th>\n",
              "      <th></th>\n",
              "      <th></th>\n",
              "      <th></th>\n",
              "      <th></th>\n",
              "      <th></th>\n",
              "      <th></th>\n",
              "      <th></th>\n",
              "      <th></th>\n",
              "      <th></th>\n",
              "      <th></th>\n",
              "      <th></th>\n",
              "      <th></th>\n",
              "      <th></th>\n",
              "      <th></th>\n",
              "      <th></th>\n",
              "      <th></th>\n",
              "      <th></th>\n",
              "      <th></th>\n",
              "      <th></th>\n",
              "    </tr>\n",
              "  </thead>\n",
              "  <tbody>\n",
              "    <tr>\n",
              "      <th>1</th>\n",
              "      <td>Bulbasaur</td>\n",
              "      <td>Grass</td>\n",
              "      <td>Poison</td>\n",
              "      <td>318</td>\n",
              "      <td>45</td>\n",
              "      <td>49</td>\n",
              "      <td>49</td>\n",
              "      <td>65</td>\n",
              "      <td>65</td>\n",
              "      <td>45</td>\n",
              "      <td>1</td>\n",
              "      <td>False</td>\n",
              "      <td>Green</td>\n",
              "      <td>True</td>\n",
              "      <td>0.875</td>\n",
              "      <td>Monster</td>\n",
              "      <td>Grass</td>\n",
              "      <td>False</td>\n",
              "      <td>0.71</td>\n",
              "      <td>6.9</td>\n",
              "      <td>45</td>\n",
              "      <td>quadruped</td>\n",
              "    </tr>\n",
              "    <tr>\n",
              "      <th>2</th>\n",
              "      <td>Ivysaur</td>\n",
              "      <td>Grass</td>\n",
              "      <td>Poison</td>\n",
              "      <td>405</td>\n",
              "      <td>60</td>\n",
              "      <td>62</td>\n",
              "      <td>63</td>\n",
              "      <td>80</td>\n",
              "      <td>80</td>\n",
              "      <td>60</td>\n",
              "      <td>1</td>\n",
              "      <td>False</td>\n",
              "      <td>Green</td>\n",
              "      <td>True</td>\n",
              "      <td>0.875</td>\n",
              "      <td>Monster</td>\n",
              "      <td>Grass</td>\n",
              "      <td>False</td>\n",
              "      <td>0.99</td>\n",
              "      <td>13.0</td>\n",
              "      <td>45</td>\n",
              "      <td>quadruped</td>\n",
              "    </tr>\n",
              "    <tr>\n",
              "      <th>3</th>\n",
              "      <td>Venusaur</td>\n",
              "      <td>Grass</td>\n",
              "      <td>Poison</td>\n",
              "      <td>525</td>\n",
              "      <td>80</td>\n",
              "      <td>82</td>\n",
              "      <td>83</td>\n",
              "      <td>100</td>\n",
              "      <td>100</td>\n",
              "      <td>80</td>\n",
              "      <td>1</td>\n",
              "      <td>False</td>\n",
              "      <td>Green</td>\n",
              "      <td>True</td>\n",
              "      <td>0.875</td>\n",
              "      <td>Monster</td>\n",
              "      <td>Grass</td>\n",
              "      <td>True</td>\n",
              "      <td>2.01</td>\n",
              "      <td>100.0</td>\n",
              "      <td>45</td>\n",
              "      <td>quadruped</td>\n",
              "    </tr>\n",
              "    <tr>\n",
              "      <th>4</th>\n",
              "      <td>Charmander</td>\n",
              "      <td>Fire</td>\n",
              "      <td>NaN</td>\n",
              "      <td>309</td>\n",
              "      <td>39</td>\n",
              "      <td>52</td>\n",
              "      <td>43</td>\n",
              "      <td>60</td>\n",
              "      <td>50</td>\n",
              "      <td>65</td>\n",
              "      <td>1</td>\n",
              "      <td>False</td>\n",
              "      <td>Red</td>\n",
              "      <td>True</td>\n",
              "      <td>0.875</td>\n",
              "      <td>Monster</td>\n",
              "      <td>Dragon</td>\n",
              "      <td>False</td>\n",
              "      <td>0.61</td>\n",
              "      <td>8.5</td>\n",
              "      <td>45</td>\n",
              "      <td>bipedal_tailed</td>\n",
              "    </tr>\n",
              "    <tr>\n",
              "      <th>5</th>\n",
              "      <td>Charmeleon</td>\n",
              "      <td>Fire</td>\n",
              "      <td>NaN</td>\n",
              "      <td>405</td>\n",
              "      <td>58</td>\n",
              "      <td>64</td>\n",
              "      <td>58</td>\n",
              "      <td>80</td>\n",
              "      <td>65</td>\n",
              "      <td>80</td>\n",
              "      <td>1</td>\n",
              "      <td>False</td>\n",
              "      <td>Red</td>\n",
              "      <td>True</td>\n",
              "      <td>0.875</td>\n",
              "      <td>Monster</td>\n",
              "      <td>Dragon</td>\n",
              "      <td>False</td>\n",
              "      <td>1.09</td>\n",
              "      <td>19.0</td>\n",
              "      <td>45</td>\n",
              "      <td>bipedal_tailed</td>\n",
              "    </tr>\n",
              "    <tr>\n",
              "      <th>...</th>\n",
              "      <td>...</td>\n",
              "      <td>...</td>\n",
              "      <td>...</td>\n",
              "      <td>...</td>\n",
              "      <td>...</td>\n",
              "      <td>...</td>\n",
              "      <td>...</td>\n",
              "      <td>...</td>\n",
              "      <td>...</td>\n",
              "      <td>...</td>\n",
              "      <td>...</td>\n",
              "      <td>...</td>\n",
              "      <td>...</td>\n",
              "      <td>...</td>\n",
              "      <td>...</td>\n",
              "      <td>...</td>\n",
              "      <td>...</td>\n",
              "      <td>...</td>\n",
              "      <td>...</td>\n",
              "      <td>...</td>\n",
              "      <td>...</td>\n",
              "      <td>...</td>\n",
              "    </tr>\n",
              "    <tr>\n",
              "      <th>717</th>\n",
              "      <td>Yveltal</td>\n",
              "      <td>Dark</td>\n",
              "      <td>Flying</td>\n",
              "      <td>680</td>\n",
              "      <td>126</td>\n",
              "      <td>131</td>\n",
              "      <td>95</td>\n",
              "      <td>131</td>\n",
              "      <td>98</td>\n",
              "      <td>99</td>\n",
              "      <td>6</td>\n",
              "      <td>True</td>\n",
              "      <td>Red</td>\n",
              "      <td>False</td>\n",
              "      <td>NaN</td>\n",
              "      <td>Undiscovered</td>\n",
              "      <td>NaN</td>\n",
              "      <td>False</td>\n",
              "      <td>5.79</td>\n",
              "      <td>203.0</td>\n",
              "      <td>45</td>\n",
              "      <td>two_wings</td>\n",
              "    </tr>\n",
              "    <tr>\n",
              "      <th>718</th>\n",
              "      <td>Zygarde</td>\n",
              "      <td>Dragon</td>\n",
              "      <td>Ground</td>\n",
              "      <td>600</td>\n",
              "      <td>108</td>\n",
              "      <td>100</td>\n",
              "      <td>121</td>\n",
              "      <td>81</td>\n",
              "      <td>95</td>\n",
              "      <td>95</td>\n",
              "      <td>6</td>\n",
              "      <td>True</td>\n",
              "      <td>Green</td>\n",
              "      <td>False</td>\n",
              "      <td>NaN</td>\n",
              "      <td>Undiscovered</td>\n",
              "      <td>NaN</td>\n",
              "      <td>False</td>\n",
              "      <td>5.00</td>\n",
              "      <td>305.0</td>\n",
              "      <td>3</td>\n",
              "      <td>serpentine_body</td>\n",
              "    </tr>\n",
              "    <tr>\n",
              "      <th>719</th>\n",
              "      <td>Diancie</td>\n",
              "      <td>Rock</td>\n",
              "      <td>Fairy</td>\n",
              "      <td>600</td>\n",
              "      <td>50</td>\n",
              "      <td>100</td>\n",
              "      <td>150</td>\n",
              "      <td>100</td>\n",
              "      <td>150</td>\n",
              "      <td>50</td>\n",
              "      <td>6</td>\n",
              "      <td>True</td>\n",
              "      <td>Pink</td>\n",
              "      <td>False</td>\n",
              "      <td>NaN</td>\n",
              "      <td>Undiscovered</td>\n",
              "      <td>NaN</td>\n",
              "      <td>True</td>\n",
              "      <td>0.71</td>\n",
              "      <td>8.8</td>\n",
              "      <td>3</td>\n",
              "      <td>head_arms</td>\n",
              "    </tr>\n",
              "    <tr>\n",
              "      <th>720</th>\n",
              "      <td>Hoopa</td>\n",
              "      <td>Psychic</td>\n",
              "      <td>Ghost</td>\n",
              "      <td>600</td>\n",
              "      <td>80</td>\n",
              "      <td>110</td>\n",
              "      <td>60</td>\n",
              "      <td>150</td>\n",
              "      <td>130</td>\n",
              "      <td>70</td>\n",
              "      <td>6</td>\n",
              "      <td>True</td>\n",
              "      <td>Purple</td>\n",
              "      <td>False</td>\n",
              "      <td>NaN</td>\n",
              "      <td>Undiscovered</td>\n",
              "      <td>NaN</td>\n",
              "      <td>False</td>\n",
              "      <td>0.51</td>\n",
              "      <td>9.0</td>\n",
              "      <td>3</td>\n",
              "      <td>head_only</td>\n",
              "    </tr>\n",
              "    <tr>\n",
              "      <th>721</th>\n",
              "      <td>Volcanion</td>\n",
              "      <td>Fire</td>\n",
              "      <td>Water</td>\n",
              "      <td>600</td>\n",
              "      <td>80</td>\n",
              "      <td>110</td>\n",
              "      <td>120</td>\n",
              "      <td>130</td>\n",
              "      <td>90</td>\n",
              "      <td>70</td>\n",
              "      <td>6</td>\n",
              "      <td>True</td>\n",
              "      <td>Brown</td>\n",
              "      <td>False</td>\n",
              "      <td>NaN</td>\n",
              "      <td>Undiscovered</td>\n",
              "      <td>NaN</td>\n",
              "      <td>False</td>\n",
              "      <td>1.70</td>\n",
              "      <td>195.0</td>\n",
              "      <td>3</td>\n",
              "      <td>quadruped</td>\n",
              "    </tr>\n",
              "  </tbody>\n",
              "</table>\n",
              "<p>721 rows × 22 columns</p>\n",
              "</div>"
            ],
            "text/plain": [
              "              Name   Type_1  Type_2  ...  Weight_kg  Catch_Rate       Body_Style\n",
              "Number                               ...                                        \n",
              "1        Bulbasaur    Grass  Poison  ...        6.9          45        quadruped\n",
              "2          Ivysaur    Grass  Poison  ...       13.0          45        quadruped\n",
              "3         Venusaur    Grass  Poison  ...      100.0          45        quadruped\n",
              "4       Charmander     Fire     NaN  ...        8.5          45   bipedal_tailed\n",
              "5       Charmeleon     Fire     NaN  ...       19.0          45   bipedal_tailed\n",
              "...            ...      ...     ...  ...        ...         ...              ...\n",
              "717        Yveltal     Dark  Flying  ...      203.0          45        two_wings\n",
              "718        Zygarde   Dragon  Ground  ...      305.0           3  serpentine_body\n",
              "719        Diancie     Rock   Fairy  ...        8.8           3        head_arms\n",
              "720          Hoopa  Psychic   Ghost  ...        9.0           3        head_only\n",
              "721      Volcanion     Fire   Water  ...      195.0           3        quadruped\n",
              "\n",
              "[721 rows x 22 columns]"
            ]
          },
          "metadata": {
            "tags": []
          },
          "execution_count": 36
        }
      ]
    },
    {
      "cell_type": "markdown",
      "metadata": {
        "id": "TsR3AMPxlJzo"
      },
      "source": [
        "We will classify the primary type of Pokemon, so let's look at the data we have to work with."
      ]
    },
    {
      "cell_type": "code",
      "metadata": {
        "colab": {
          "base_uri": "https://localhost:8080/"
        },
        "id": "3GjJzvHmhfLH",
        "outputId": "e81ad5cf-8c85-445f-8cc9-b366cbd87dff"
      },
      "source": [
        "data['Type_1'].value_counts()"
      ],
      "execution_count": null,
      "outputs": [
        {
          "output_type": "execute_result",
          "data": {
            "text/plain": [
              "Water       105\n",
              "Normal       93\n",
              "Grass        66\n",
              "Bug          63\n",
              "Fire         47\n",
              "Psychic      47\n",
              "Rock         41\n",
              "Electric     36\n",
              "Ground       30\n",
              "Poison       28\n",
              "Dark         28\n",
              "Fighting     25\n",
              "Dragon       24\n",
              "Ghost        23\n",
              "Ice          23\n",
              "Steel        22\n",
              "Fairy        17\n",
              "Flying        3\n",
              "Name: Type_1, dtype: int64"
            ]
          },
          "metadata": {
            "tags": []
          },
          "execution_count": 37
        }
      ]
    },
    {
      "cell_type": "markdown",
      "metadata": {
        "id": "ixvTdEW-lS90"
      },
      "source": [
        "There aren't many flying type examples. This will cause issues in training our model, so let's remove the flying types from our classification."
      ]
    },
    {
      "cell_type": "code",
      "metadata": {
        "id": "y6XXFZDChjBV"
      },
      "source": [
        "data = data.drop(index=data[data['Type_1'] == 'Flying'].index)"
      ],
      "execution_count": null,
      "outputs": []
    },
    {
      "cell_type": "markdown",
      "metadata": {
        "id": "gnAmzGhklinY"
      },
      "source": [
        "Once more, we will transform our inputs to numeric data. This time, however, our y values will be just the raw types of each Pokemon. Normally, we would have to convert the y into numeric data as well, but SKLearn knows how to take care of this automatically for classification, so we'll utilize that."
      ]
    },
    {
      "cell_type": "code",
      "metadata": {
        "id": "KltjfiJCAA8m",
        "colab": {
          "base_uri": "https://localhost:8080/",
          "height": 270
        },
        "outputId": "72790721-65af-426c-b044-bcb7dcb14c44"
      },
      "source": [
        "X = transform_to_numeric(data)\n",
        "y = data['Type_1']\n",
        "X.head()"
      ],
      "execution_count": null,
      "outputs": [
        {
          "output_type": "execute_result",
          "data": {
            "text/html": [
              "<div>\n",
              "<style scoped>\n",
              "    .dataframe tbody tr th:only-of-type {\n",
              "        vertical-align: middle;\n",
              "    }\n",
              "\n",
              "    .dataframe tbody tr th {\n",
              "        vertical-align: top;\n",
              "    }\n",
              "\n",
              "    .dataframe thead th {\n",
              "        text-align: right;\n",
              "    }\n",
              "</style>\n",
              "<table border=\"1\" class=\"dataframe\">\n",
              "  <thead>\n",
              "    <tr style=\"text-align: right;\">\n",
              "      <th></th>\n",
              "      <th>Total</th>\n",
              "      <th>HP</th>\n",
              "      <th>Attack</th>\n",
              "      <th>Defense</th>\n",
              "      <th>Sp_Atk</th>\n",
              "      <th>Sp_Def</th>\n",
              "      <th>Speed</th>\n",
              "      <th>Generation</th>\n",
              "      <th>isLegendary</th>\n",
              "      <th>hasGender</th>\n",
              "      <th>Pr_Male</th>\n",
              "      <th>hasMegaEvolution</th>\n",
              "      <th>Height_m</th>\n",
              "      <th>Weight_kg</th>\n",
              "      <th>Catch_Rate</th>\n",
              "      <th>Color_Black</th>\n",
              "      <th>Color_Blue</th>\n",
              "      <th>Color_Brown</th>\n",
              "      <th>Color_Green</th>\n",
              "      <th>Color_Grey</th>\n",
              "      <th>Color_Pink</th>\n",
              "      <th>Color_Purple</th>\n",
              "      <th>Color_Red</th>\n",
              "      <th>Color_White</th>\n",
              "      <th>Color_Yellow</th>\n",
              "      <th>Egg_Group_1_Amorphous</th>\n",
              "      <th>Egg_Group_1_Bug</th>\n",
              "      <th>Egg_Group_1_Ditto</th>\n",
              "      <th>Egg_Group_1_Dragon</th>\n",
              "      <th>Egg_Group_1_Fairy</th>\n",
              "      <th>Egg_Group_1_Field</th>\n",
              "      <th>Egg_Group_1_Flying</th>\n",
              "      <th>Egg_Group_1_Grass</th>\n",
              "      <th>Egg_Group_1_Human-Like</th>\n",
              "      <th>Egg_Group_1_Mineral</th>\n",
              "      <th>Egg_Group_1_Monster</th>\n",
              "      <th>Egg_Group_1_Undiscovered</th>\n",
              "      <th>Egg_Group_1_Water_1</th>\n",
              "      <th>Egg_Group_1_Water_2</th>\n",
              "      <th>Egg_Group_1_Water_3</th>\n",
              "      <th>Egg_Group_2_0</th>\n",
              "      <th>Egg_Group_2_Amorphous</th>\n",
              "      <th>Egg_Group_2_Bug</th>\n",
              "      <th>Egg_Group_2_Dragon</th>\n",
              "      <th>Egg_Group_2_Fairy</th>\n",
              "      <th>Egg_Group_2_Field</th>\n",
              "      <th>Egg_Group_2_Flying</th>\n",
              "      <th>Egg_Group_2_Grass</th>\n",
              "      <th>Egg_Group_2_Human-Like</th>\n",
              "      <th>Egg_Group_2_Mineral</th>\n",
              "      <th>Egg_Group_2_Monster</th>\n",
              "      <th>Egg_Group_2_Water_1</th>\n",
              "      <th>Egg_Group_2_Water_2</th>\n",
              "      <th>Egg_Group_2_Water_3</th>\n",
              "      <th>Body_Style_bipedal_tailed</th>\n",
              "      <th>Body_Style_bipedal_tailless</th>\n",
              "      <th>Body_Style_four_wings</th>\n",
              "      <th>Body_Style_head_arms</th>\n",
              "      <th>Body_Style_head_base</th>\n",
              "      <th>Body_Style_head_legs</th>\n",
              "      <th>Body_Style_head_only</th>\n",
              "      <th>Body_Style_insectoid</th>\n",
              "      <th>Body_Style_multiple_bodies</th>\n",
              "      <th>Body_Style_quadruped</th>\n",
              "      <th>Body_Style_serpentine_body</th>\n",
              "      <th>Body_Style_several_limbs</th>\n",
              "      <th>Body_Style_two_wings</th>\n",
              "      <th>Body_Style_with_fins</th>\n",
              "    </tr>\n",
              "    <tr>\n",
              "      <th>Number</th>\n",
              "      <th></th>\n",
              "      <th></th>\n",
              "      <th></th>\n",
              "      <th></th>\n",
              "      <th></th>\n",
              "      <th></th>\n",
              "      <th></th>\n",
              "      <th></th>\n",
              "      <th></th>\n",
              "      <th></th>\n",
              "      <th></th>\n",
              "      <th></th>\n",
              "      <th></th>\n",
              "      <th></th>\n",
              "      <th></th>\n",
              "      <th></th>\n",
              "      <th></th>\n",
              "      <th></th>\n",
              "      <th></th>\n",
              "      <th></th>\n",
              "      <th></th>\n",
              "      <th></th>\n",
              "      <th></th>\n",
              "      <th></th>\n",
              "      <th></th>\n",
              "      <th></th>\n",
              "      <th></th>\n",
              "      <th></th>\n",
              "      <th></th>\n",
              "      <th></th>\n",
              "      <th></th>\n",
              "      <th></th>\n",
              "      <th></th>\n",
              "      <th></th>\n",
              "      <th></th>\n",
              "      <th></th>\n",
              "      <th></th>\n",
              "      <th></th>\n",
              "      <th></th>\n",
              "      <th></th>\n",
              "      <th></th>\n",
              "      <th></th>\n",
              "      <th></th>\n",
              "      <th></th>\n",
              "      <th></th>\n",
              "      <th></th>\n",
              "      <th></th>\n",
              "      <th></th>\n",
              "      <th></th>\n",
              "      <th></th>\n",
              "      <th></th>\n",
              "      <th></th>\n",
              "      <th></th>\n",
              "      <th></th>\n",
              "      <th></th>\n",
              "      <th></th>\n",
              "      <th></th>\n",
              "      <th></th>\n",
              "      <th></th>\n",
              "      <th></th>\n",
              "      <th></th>\n",
              "      <th></th>\n",
              "      <th></th>\n",
              "      <th></th>\n",
              "      <th></th>\n",
              "      <th></th>\n",
              "      <th></th>\n",
              "      <th></th>\n",
              "    </tr>\n",
              "  </thead>\n",
              "  <tbody>\n",
              "    <tr>\n",
              "      <th>1</th>\n",
              "      <td>318</td>\n",
              "      <td>45</td>\n",
              "      <td>49</td>\n",
              "      <td>49</td>\n",
              "      <td>65</td>\n",
              "      <td>65</td>\n",
              "      <td>45</td>\n",
              "      <td>1</td>\n",
              "      <td>0</td>\n",
              "      <td>1</td>\n",
              "      <td>0.875</td>\n",
              "      <td>0</td>\n",
              "      <td>0.71</td>\n",
              "      <td>6.9</td>\n",
              "      <td>45</td>\n",
              "      <td>0</td>\n",
              "      <td>0</td>\n",
              "      <td>0</td>\n",
              "      <td>1</td>\n",
              "      <td>0</td>\n",
              "      <td>0</td>\n",
              "      <td>0</td>\n",
              "      <td>0</td>\n",
              "      <td>0</td>\n",
              "      <td>0</td>\n",
              "      <td>0</td>\n",
              "      <td>0</td>\n",
              "      <td>0</td>\n",
              "      <td>0</td>\n",
              "      <td>0</td>\n",
              "      <td>0</td>\n",
              "      <td>0</td>\n",
              "      <td>0</td>\n",
              "      <td>0</td>\n",
              "      <td>0</td>\n",
              "      <td>1</td>\n",
              "      <td>0</td>\n",
              "      <td>0</td>\n",
              "      <td>0</td>\n",
              "      <td>0</td>\n",
              "      <td>0</td>\n",
              "      <td>0</td>\n",
              "      <td>0</td>\n",
              "      <td>0</td>\n",
              "      <td>0</td>\n",
              "      <td>0</td>\n",
              "      <td>0</td>\n",
              "      <td>1</td>\n",
              "      <td>0</td>\n",
              "      <td>0</td>\n",
              "      <td>0</td>\n",
              "      <td>0</td>\n",
              "      <td>0</td>\n",
              "      <td>0</td>\n",
              "      <td>0</td>\n",
              "      <td>0</td>\n",
              "      <td>0</td>\n",
              "      <td>0</td>\n",
              "      <td>0</td>\n",
              "      <td>0</td>\n",
              "      <td>0</td>\n",
              "      <td>0</td>\n",
              "      <td>0</td>\n",
              "      <td>1</td>\n",
              "      <td>0</td>\n",
              "      <td>0</td>\n",
              "      <td>0</td>\n",
              "      <td>0</td>\n",
              "    </tr>\n",
              "    <tr>\n",
              "      <th>2</th>\n",
              "      <td>405</td>\n",
              "      <td>60</td>\n",
              "      <td>62</td>\n",
              "      <td>63</td>\n",
              "      <td>80</td>\n",
              "      <td>80</td>\n",
              "      <td>60</td>\n",
              "      <td>1</td>\n",
              "      <td>0</td>\n",
              "      <td>1</td>\n",
              "      <td>0.875</td>\n",
              "      <td>0</td>\n",
              "      <td>0.99</td>\n",
              "      <td>13.0</td>\n",
              "      <td>45</td>\n",
              "      <td>0</td>\n",
              "      <td>0</td>\n",
              "      <td>0</td>\n",
              "      <td>1</td>\n",
              "      <td>0</td>\n",
              "      <td>0</td>\n",
              "      <td>0</td>\n",
              "      <td>0</td>\n",
              "      <td>0</td>\n",
              "      <td>0</td>\n",
              "      <td>0</td>\n",
              "      <td>0</td>\n",
              "      <td>0</td>\n",
              "      <td>0</td>\n",
              "      <td>0</td>\n",
              "      <td>0</td>\n",
              "      <td>0</td>\n",
              "      <td>0</td>\n",
              "      <td>0</td>\n",
              "      <td>0</td>\n",
              "      <td>1</td>\n",
              "      <td>0</td>\n",
              "      <td>0</td>\n",
              "      <td>0</td>\n",
              "      <td>0</td>\n",
              "      <td>0</td>\n",
              "      <td>0</td>\n",
              "      <td>0</td>\n",
              "      <td>0</td>\n",
              "      <td>0</td>\n",
              "      <td>0</td>\n",
              "      <td>0</td>\n",
              "      <td>1</td>\n",
              "      <td>0</td>\n",
              "      <td>0</td>\n",
              "      <td>0</td>\n",
              "      <td>0</td>\n",
              "      <td>0</td>\n",
              "      <td>0</td>\n",
              "      <td>0</td>\n",
              "      <td>0</td>\n",
              "      <td>0</td>\n",
              "      <td>0</td>\n",
              "      <td>0</td>\n",
              "      <td>0</td>\n",
              "      <td>0</td>\n",
              "      <td>0</td>\n",
              "      <td>0</td>\n",
              "      <td>1</td>\n",
              "      <td>0</td>\n",
              "      <td>0</td>\n",
              "      <td>0</td>\n",
              "      <td>0</td>\n",
              "    </tr>\n",
              "    <tr>\n",
              "      <th>3</th>\n",
              "      <td>525</td>\n",
              "      <td>80</td>\n",
              "      <td>82</td>\n",
              "      <td>83</td>\n",
              "      <td>100</td>\n",
              "      <td>100</td>\n",
              "      <td>80</td>\n",
              "      <td>1</td>\n",
              "      <td>0</td>\n",
              "      <td>1</td>\n",
              "      <td>0.875</td>\n",
              "      <td>1</td>\n",
              "      <td>2.01</td>\n",
              "      <td>100.0</td>\n",
              "      <td>45</td>\n",
              "      <td>0</td>\n",
              "      <td>0</td>\n",
              "      <td>0</td>\n",
              "      <td>1</td>\n",
              "      <td>0</td>\n",
              "      <td>0</td>\n",
              "      <td>0</td>\n",
              "      <td>0</td>\n",
              "      <td>0</td>\n",
              "      <td>0</td>\n",
              "      <td>0</td>\n",
              "      <td>0</td>\n",
              "      <td>0</td>\n",
              "      <td>0</td>\n",
              "      <td>0</td>\n",
              "      <td>0</td>\n",
              "      <td>0</td>\n",
              "      <td>0</td>\n",
              "      <td>0</td>\n",
              "      <td>0</td>\n",
              "      <td>1</td>\n",
              "      <td>0</td>\n",
              "      <td>0</td>\n",
              "      <td>0</td>\n",
              "      <td>0</td>\n",
              "      <td>0</td>\n",
              "      <td>0</td>\n",
              "      <td>0</td>\n",
              "      <td>0</td>\n",
              "      <td>0</td>\n",
              "      <td>0</td>\n",
              "      <td>0</td>\n",
              "      <td>1</td>\n",
              "      <td>0</td>\n",
              "      <td>0</td>\n",
              "      <td>0</td>\n",
              "      <td>0</td>\n",
              "      <td>0</td>\n",
              "      <td>0</td>\n",
              "      <td>0</td>\n",
              "      <td>0</td>\n",
              "      <td>0</td>\n",
              "      <td>0</td>\n",
              "      <td>0</td>\n",
              "      <td>0</td>\n",
              "      <td>0</td>\n",
              "      <td>0</td>\n",
              "      <td>0</td>\n",
              "      <td>1</td>\n",
              "      <td>0</td>\n",
              "      <td>0</td>\n",
              "      <td>0</td>\n",
              "      <td>0</td>\n",
              "    </tr>\n",
              "    <tr>\n",
              "      <th>4</th>\n",
              "      <td>309</td>\n",
              "      <td>39</td>\n",
              "      <td>52</td>\n",
              "      <td>43</td>\n",
              "      <td>60</td>\n",
              "      <td>50</td>\n",
              "      <td>65</td>\n",
              "      <td>1</td>\n",
              "      <td>0</td>\n",
              "      <td>1</td>\n",
              "      <td>0.875</td>\n",
              "      <td>0</td>\n",
              "      <td>0.61</td>\n",
              "      <td>8.5</td>\n",
              "      <td>45</td>\n",
              "      <td>0</td>\n",
              "      <td>0</td>\n",
              "      <td>0</td>\n",
              "      <td>0</td>\n",
              "      <td>0</td>\n",
              "      <td>0</td>\n",
              "      <td>0</td>\n",
              "      <td>1</td>\n",
              "      <td>0</td>\n",
              "      <td>0</td>\n",
              "      <td>0</td>\n",
              "      <td>0</td>\n",
              "      <td>0</td>\n",
              "      <td>0</td>\n",
              "      <td>0</td>\n",
              "      <td>0</td>\n",
              "      <td>0</td>\n",
              "      <td>0</td>\n",
              "      <td>0</td>\n",
              "      <td>0</td>\n",
              "      <td>1</td>\n",
              "      <td>0</td>\n",
              "      <td>0</td>\n",
              "      <td>0</td>\n",
              "      <td>0</td>\n",
              "      <td>0</td>\n",
              "      <td>0</td>\n",
              "      <td>0</td>\n",
              "      <td>1</td>\n",
              "      <td>0</td>\n",
              "      <td>0</td>\n",
              "      <td>0</td>\n",
              "      <td>0</td>\n",
              "      <td>0</td>\n",
              "      <td>0</td>\n",
              "      <td>0</td>\n",
              "      <td>0</td>\n",
              "      <td>0</td>\n",
              "      <td>0</td>\n",
              "      <td>1</td>\n",
              "      <td>0</td>\n",
              "      <td>0</td>\n",
              "      <td>0</td>\n",
              "      <td>0</td>\n",
              "      <td>0</td>\n",
              "      <td>0</td>\n",
              "      <td>0</td>\n",
              "      <td>0</td>\n",
              "      <td>0</td>\n",
              "      <td>0</td>\n",
              "      <td>0</td>\n",
              "      <td>0</td>\n",
              "      <td>0</td>\n",
              "    </tr>\n",
              "    <tr>\n",
              "      <th>5</th>\n",
              "      <td>405</td>\n",
              "      <td>58</td>\n",
              "      <td>64</td>\n",
              "      <td>58</td>\n",
              "      <td>80</td>\n",
              "      <td>65</td>\n",
              "      <td>80</td>\n",
              "      <td>1</td>\n",
              "      <td>0</td>\n",
              "      <td>1</td>\n",
              "      <td>0.875</td>\n",
              "      <td>0</td>\n",
              "      <td>1.09</td>\n",
              "      <td>19.0</td>\n",
              "      <td>45</td>\n",
              "      <td>0</td>\n",
              "      <td>0</td>\n",
              "      <td>0</td>\n",
              "      <td>0</td>\n",
              "      <td>0</td>\n",
              "      <td>0</td>\n",
              "      <td>0</td>\n",
              "      <td>1</td>\n",
              "      <td>0</td>\n",
              "      <td>0</td>\n",
              "      <td>0</td>\n",
              "      <td>0</td>\n",
              "      <td>0</td>\n",
              "      <td>0</td>\n",
              "      <td>0</td>\n",
              "      <td>0</td>\n",
              "      <td>0</td>\n",
              "      <td>0</td>\n",
              "      <td>0</td>\n",
              "      <td>0</td>\n",
              "      <td>1</td>\n",
              "      <td>0</td>\n",
              "      <td>0</td>\n",
              "      <td>0</td>\n",
              "      <td>0</td>\n",
              "      <td>0</td>\n",
              "      <td>0</td>\n",
              "      <td>0</td>\n",
              "      <td>1</td>\n",
              "      <td>0</td>\n",
              "      <td>0</td>\n",
              "      <td>0</td>\n",
              "      <td>0</td>\n",
              "      <td>0</td>\n",
              "      <td>0</td>\n",
              "      <td>0</td>\n",
              "      <td>0</td>\n",
              "      <td>0</td>\n",
              "      <td>0</td>\n",
              "      <td>1</td>\n",
              "      <td>0</td>\n",
              "      <td>0</td>\n",
              "      <td>0</td>\n",
              "      <td>0</td>\n",
              "      <td>0</td>\n",
              "      <td>0</td>\n",
              "      <td>0</td>\n",
              "      <td>0</td>\n",
              "      <td>0</td>\n",
              "      <td>0</td>\n",
              "      <td>0</td>\n",
              "      <td>0</td>\n",
              "      <td>0</td>\n",
              "    </tr>\n",
              "  </tbody>\n",
              "</table>\n",
              "</div>"
            ],
            "text/plain": [
              "        Total  HP  ...  Body_Style_two_wings  Body_Style_with_fins\n",
              "Number             ...                                            \n",
              "1         318  45  ...                     0                     0\n",
              "2         405  60  ...                     0                     0\n",
              "3         525  80  ...                     0                     0\n",
              "4         309  39  ...                     0                     0\n",
              "5         405  58  ...                     0                     0\n",
              "\n",
              "[5 rows x 68 columns]"
            ]
          },
          "metadata": {
            "tags": []
          },
          "execution_count": 39
        }
      ]
    },
    {
      "cell_type": "markdown",
      "metadata": {
        "id": "CEszifihm29o"
      },
      "source": [
        "We will be predicting across 17 classes:"
      ]
    },
    {
      "cell_type": "code",
      "metadata": {
        "colab": {
          "base_uri": "https://localhost:8080/"
        },
        "id": "sCXIYVCNmwym",
        "outputId": "94ea0d75-274c-4ab5-da25-b8b3e432f388"
      },
      "source": [
        "len(y.unique())"
      ],
      "execution_count": null,
      "outputs": [
        {
          "output_type": "execute_result",
          "data": {
            "text/plain": [
              "17"
            ]
          },
          "metadata": {
            "tags": []
          },
          "execution_count": 40
        }
      ]
    },
    {
      "cell_type": "markdown",
      "metadata": {
        "id": "bsIwJFupl_lG"
      },
      "source": [
        "Now let's look at our training example counts."
      ]
    },
    {
      "cell_type": "code",
      "metadata": {
        "colab": {
          "base_uri": "https://localhost:8080/"
        },
        "id": "O0bNdNHMhZoI",
        "outputId": "09f76f85-7c65-43b8-9071-38911bd2121e"
      },
      "source": [
        "y.value_counts()"
      ],
      "execution_count": null,
      "outputs": [
        {
          "output_type": "execute_result",
          "data": {
            "text/plain": [
              "Water       105\n",
              "Normal       93\n",
              "Grass        66\n",
              "Bug          63\n",
              "Fire         47\n",
              "Psychic      47\n",
              "Rock         41\n",
              "Electric     36\n",
              "Ground       30\n",
              "Dark         28\n",
              "Poison       28\n",
              "Fighting     25\n",
              "Dragon       24\n",
              "Ghost        23\n",
              "Ice          23\n",
              "Steel        22\n",
              "Fairy        17\n",
              "Name: Type_1, dtype: int64"
            ]
          },
          "metadata": {
            "tags": []
          },
          "execution_count": 41
        }
      ]
    },
    {
      "cell_type": "markdown",
      "metadata": {
        "id": "aVXnRAkSmDbQ"
      },
      "source": [
        "These are the different classes we will be learning to classify. For the types with more examples, we can expect our model to perform better in classifying them."
      ]
    },
    {
      "cell_type": "markdown",
      "metadata": {
        "id": "xwnPWYRVmO4F"
      },
      "source": [
        "Now let's go through training process once more. SKLearn doesn't require us to make any changes to switch from binary classification to multi-class classification."
      ]
    },
    {
      "cell_type": "code",
      "metadata": {
        "id": "dZrFswSUfPUH"
      },
      "source": [
        "X_train, X_test, y_train, y_test = train_test_split(X, y, test_size=0.2)"
      ],
      "execution_count": null,
      "outputs": []
    },
    {
      "cell_type": "code",
      "metadata": {
        "colab": {
          "base_uri": "https://localhost:8080/",
          "height": 112
        },
        "id": "7U7uP8i8fTiT",
        "outputId": "81dae8a8-a8a1-4286-cb00-c5f88d0b7ff0"
      },
      "source": [
        "clf = make_pipeline(StandardScaler(), LogisticRegressionCV(max_iter=1500))\n",
        "clf"
      ],
      "execution_count": null,
      "outputs": [
        {
          "output_type": "execute_result",
          "data": {
            "text/html": [
              "<style>div.sk-top-container {color: black;background-color: white;}div.sk-toggleable {background-color: white;}label.sk-toggleable__label {cursor: pointer;display: block;width: 100%;margin-bottom: 0;padding: 0.2em 0.3em;box-sizing: border-box;text-align: center;}div.sk-toggleable__content {max-height: 0;max-width: 0;overflow: hidden;text-align: left;background-color: #f0f8ff;}div.sk-toggleable__content pre {margin: 0.2em;color: black;border-radius: 0.25em;background-color: #f0f8ff;}input.sk-toggleable__control:checked~div.sk-toggleable__content {max-height: 200px;max-width: 100%;overflow: auto;}div.sk-estimator input.sk-toggleable__control:checked~label.sk-toggleable__label {background-color: #d4ebff;}div.sk-label input.sk-toggleable__control:checked~label.sk-toggleable__label {background-color: #d4ebff;}input.sk-hidden--visually {border: 0;clip: rect(1px 1px 1px 1px);clip: rect(1px, 1px, 1px, 1px);height: 1px;margin: -1px;overflow: hidden;padding: 0;position: absolute;width: 1px;}div.sk-estimator {font-family: monospace;background-color: #f0f8ff;margin: 0.25em 0.25em;border: 1px dotted black;border-radius: 0.25em;box-sizing: border-box;}div.sk-estimator:hover {background-color: #d4ebff;}div.sk-parallel-item::after {content: \"\";width: 100%;border-bottom: 1px solid gray;flex-grow: 1;}div.sk-label:hover label.sk-toggleable__label {background-color: #d4ebff;}div.sk-serial::before {content: \"\";position: absolute;border-left: 1px solid gray;box-sizing: border-box;top: 2em;bottom: 0;left: 50%;}div.sk-serial {display: flex;flex-direction: column;align-items: center;background-color: white;}div.sk-item {z-index: 1;}div.sk-parallel {display: flex;align-items: stretch;justify-content: center;background-color: white;}div.sk-parallel-item {display: flex;flex-direction: column;position: relative;background-color: white;}div.sk-parallel-item:first-child::after {align-self: flex-end;width: 50%;}div.sk-parallel-item:last-child::after {align-self: flex-start;width: 50%;}div.sk-parallel-item:only-child::after {width: 0;}div.sk-dashed-wrapped {border: 1px dashed gray;margin: 0.2em;box-sizing: border-box;padding-bottom: 0.1em;background-color: white;position: relative;}div.sk-label label {font-family: monospace;font-weight: bold;background-color: white;display: inline-block;line-height: 1.2em;}div.sk-label-container {position: relative;z-index: 2;text-align: center;}div.sk-container {display: inline-block;position: relative;}</style><div class=\"sk-top-container\"><div class=\"sk-container\"><div class=\"sk-item sk-dashed-wrapped\"><div class=\"sk-label-container\"><div class=\"sk-label sk-toggleable\"><input class=\"sk-toggleable__control sk-hidden--visually\" id=\"8265273e-1022-4c42-8d97-7a6f1df90c6d\" type=\"checkbox\" ><label class=\"sk-toggleable__label\" for=\"8265273e-1022-4c42-8d97-7a6f1df90c6d\">Pipeline</label><div class=\"sk-toggleable__content\"><pre>Pipeline(steps=[('standardscaler', StandardScaler()),\n",
              "                ('logisticregressioncv', LogisticRegressionCV(max_iter=1500))])</pre></div></div></div><div class=\"sk-serial\"><div class=\"sk-item\"><div class=\"sk-estimator sk-toggleable\"><input class=\"sk-toggleable__control sk-hidden--visually\" id=\"547c3fbb-33fa-4e18-af7f-f52cac0dabf7\" type=\"checkbox\" ><label class=\"sk-toggleable__label\" for=\"547c3fbb-33fa-4e18-af7f-f52cac0dabf7\">StandardScaler</label><div class=\"sk-toggleable__content\"><pre>StandardScaler()</pre></div></div></div><div class=\"sk-item\"><div class=\"sk-estimator sk-toggleable\"><input class=\"sk-toggleable__control sk-hidden--visually\" id=\"b8e9b170-a10b-4a59-9f2d-0832c18f150c\" type=\"checkbox\" ><label class=\"sk-toggleable__label\" for=\"b8e9b170-a10b-4a59-9f2d-0832c18f150c\">LogisticRegressionCV</label><div class=\"sk-toggleable__content\"><pre>LogisticRegressionCV(max_iter=1500)</pre></div></div></div></div></div></div></div>"
            ],
            "text/plain": [
              "Pipeline(steps=[('standardscaler', StandardScaler()),\n",
              "                ('logisticregressioncv', LogisticRegressionCV(max_iter=1500))])"
            ]
          },
          "metadata": {
            "tags": []
          },
          "execution_count": 43
        }
      ]
    },
    {
      "cell_type": "code",
      "metadata": {
        "colab": {
          "base_uri": "https://localhost:8080/",
          "height": 112
        },
        "id": "C1q595H7fVSc",
        "outputId": "7188a537-688a-450b-bbbc-f779e1f45b1f"
      },
      "source": [
        "clf.fit(X_train, y_train)"
      ],
      "execution_count": null,
      "outputs": [
        {
          "output_type": "execute_result",
          "data": {
            "text/html": [
              "<style>div.sk-top-container {color: black;background-color: white;}div.sk-toggleable {background-color: white;}label.sk-toggleable__label {cursor: pointer;display: block;width: 100%;margin-bottom: 0;padding: 0.2em 0.3em;box-sizing: border-box;text-align: center;}div.sk-toggleable__content {max-height: 0;max-width: 0;overflow: hidden;text-align: left;background-color: #f0f8ff;}div.sk-toggleable__content pre {margin: 0.2em;color: black;border-radius: 0.25em;background-color: #f0f8ff;}input.sk-toggleable__control:checked~div.sk-toggleable__content {max-height: 200px;max-width: 100%;overflow: auto;}div.sk-estimator input.sk-toggleable__control:checked~label.sk-toggleable__label {background-color: #d4ebff;}div.sk-label input.sk-toggleable__control:checked~label.sk-toggleable__label {background-color: #d4ebff;}input.sk-hidden--visually {border: 0;clip: rect(1px 1px 1px 1px);clip: rect(1px, 1px, 1px, 1px);height: 1px;margin: -1px;overflow: hidden;padding: 0;position: absolute;width: 1px;}div.sk-estimator {font-family: monospace;background-color: #f0f8ff;margin: 0.25em 0.25em;border: 1px dotted black;border-radius: 0.25em;box-sizing: border-box;}div.sk-estimator:hover {background-color: #d4ebff;}div.sk-parallel-item::after {content: \"\";width: 100%;border-bottom: 1px solid gray;flex-grow: 1;}div.sk-label:hover label.sk-toggleable__label {background-color: #d4ebff;}div.sk-serial::before {content: \"\";position: absolute;border-left: 1px solid gray;box-sizing: border-box;top: 2em;bottom: 0;left: 50%;}div.sk-serial {display: flex;flex-direction: column;align-items: center;background-color: white;}div.sk-item {z-index: 1;}div.sk-parallel {display: flex;align-items: stretch;justify-content: center;background-color: white;}div.sk-parallel-item {display: flex;flex-direction: column;position: relative;background-color: white;}div.sk-parallel-item:first-child::after {align-self: flex-end;width: 50%;}div.sk-parallel-item:last-child::after {align-self: flex-start;width: 50%;}div.sk-parallel-item:only-child::after {width: 0;}div.sk-dashed-wrapped {border: 1px dashed gray;margin: 0.2em;box-sizing: border-box;padding-bottom: 0.1em;background-color: white;position: relative;}div.sk-label label {font-family: monospace;font-weight: bold;background-color: white;display: inline-block;line-height: 1.2em;}div.sk-label-container {position: relative;z-index: 2;text-align: center;}div.sk-container {display: inline-block;position: relative;}</style><div class=\"sk-top-container\"><div class=\"sk-container\"><div class=\"sk-item sk-dashed-wrapped\"><div class=\"sk-label-container\"><div class=\"sk-label sk-toggleable\"><input class=\"sk-toggleable__control sk-hidden--visually\" id=\"70e82769-b96e-434e-9304-ddc62a60040c\" type=\"checkbox\" ><label class=\"sk-toggleable__label\" for=\"70e82769-b96e-434e-9304-ddc62a60040c\">Pipeline</label><div class=\"sk-toggleable__content\"><pre>Pipeline(steps=[('standardscaler', StandardScaler()),\n",
              "                ('logisticregressioncv', LogisticRegressionCV(max_iter=1500))])</pre></div></div></div><div class=\"sk-serial\"><div class=\"sk-item\"><div class=\"sk-estimator sk-toggleable\"><input class=\"sk-toggleable__control sk-hidden--visually\" id=\"d639f980-d2b1-4fde-b3b9-30548e0eb515\" type=\"checkbox\" ><label class=\"sk-toggleable__label\" for=\"d639f980-d2b1-4fde-b3b9-30548e0eb515\">StandardScaler</label><div class=\"sk-toggleable__content\"><pre>StandardScaler()</pre></div></div></div><div class=\"sk-item\"><div class=\"sk-estimator sk-toggleable\"><input class=\"sk-toggleable__control sk-hidden--visually\" id=\"71dd2af7-08fd-477e-8933-cf3a84a47395\" type=\"checkbox\" ><label class=\"sk-toggleable__label\" for=\"71dd2af7-08fd-477e-8933-cf3a84a47395\">LogisticRegressionCV</label><div class=\"sk-toggleable__content\"><pre>LogisticRegressionCV(max_iter=1500)</pre></div></div></div></div></div></div></div>"
            ],
            "text/plain": [
              "Pipeline(steps=[('standardscaler', StandardScaler()),\n",
              "                ('logisticregressioncv', LogisticRegressionCV(max_iter=1500))])"
            ]
          },
          "metadata": {
            "tags": []
          },
          "execution_count": 44
        }
      ]
    },
    {
      "cell_type": "markdown",
      "metadata": {
        "id": "k8E_5IjImij5"
      },
      "source": [
        "Now we can evaluate how our model is doing. Let's look at the accuracies first."
      ]
    },
    {
      "cell_type": "code",
      "metadata": {
        "id": "u5xcot6-nS1h"
      },
      "source": [
        "pred = clf.predict(X_test)"
      ],
      "execution_count": null,
      "outputs": []
    },
    {
      "cell_type": "code",
      "metadata": {
        "colab": {
          "base_uri": "https://localhost:8080/"
        },
        "id": "3idP2aF2fegv",
        "outputId": "4deb1c67-2af6-4221-ac0f-9a08be683a6d"
      },
      "source": [
        "balanced_accuracy_score(y_test, pred)"
      ],
      "execution_count": null,
      "outputs": [
        {
          "output_type": "execute_result",
          "data": {
            "text/plain": [
              "0.5051402072299905"
            ]
          },
          "metadata": {
            "tags": []
          },
          "execution_count": 46
        }
      ]
    },
    {
      "cell_type": "code",
      "metadata": {
        "colab": {
          "base_uri": "https://localhost:8080/"
        },
        "id": "-AW3naU_nLOi",
        "outputId": "45102d48-7cbf-430a-936c-97fe677cf373"
      },
      "source": [
        "accuracy_score(y_test, pred)"
      ],
      "execution_count": null,
      "outputs": [
        {
          "output_type": "execute_result",
          "data": {
            "text/plain": [
              "0.5972222222222222"
            ]
          },
          "metadata": {
            "tags": []
          },
          "execution_count": 47
        }
      ]
    },
    {
      "cell_type": "markdown",
      "metadata": {
        "id": "Ca6JzjdqmoWn"
      },
      "source": [
        "Considering that for each sample the model had 17 different options to choose from, and it got it right this percentage of the time, that's not bad!"
      ]
    },
    {
      "cell_type": "markdown",
      "metadata": {
        "id": "tPpHMA4q9ucK"
      },
      "source": [
        "**Challenge**: Take your favourite pokemon again and use our new model to make a prediction. What type did the model think it was?"
      ]
    },
    {
      "cell_type": "code",
      "metadata": {
        "id": "E5ueo-WK9tSY"
      },
      "source": [
        ""
      ],
      "execution_count": null,
      "outputs": []
    },
    {
      "cell_type": "markdown",
      "metadata": {
        "id": "GcrJ2cJVnxls"
      },
      "source": [
        "SKLearn has a few other handy classification evaluation functions. For example, `classification_report` calculates a bunch of different metrics, including metrics for each class."
      ]
    },
    {
      "cell_type": "code",
      "metadata": {
        "colab": {
          "base_uri": "https://localhost:8080/"
        },
        "id": "kDttXS3BfpLs",
        "outputId": "9d3f4a56-ed99-4ba0-e6d6-43bba4f360a6"
      },
      "source": [
        "print(classification_report(y_test, clf.predict(X_test)))"
      ],
      "execution_count": null,
      "outputs": [
        {
          "output_type": "stream",
          "text": [
            "              precision    recall  f1-score   support\n",
            "\n",
            "         Bug       0.87      0.93      0.90        14\n",
            "        Dark       0.00      0.00      0.00         4\n",
            "      Dragon       0.33      0.25      0.29         4\n",
            "    Electric       0.33      0.40      0.36         5\n",
            "       Fairy       0.67      0.67      0.67         3\n",
            "    Fighting       0.86      0.86      0.86         7\n",
            "        Fire       0.67      0.83      0.74        12\n",
            "       Ghost       0.80      0.57      0.67         7\n",
            "       Grass       0.86      0.92      0.89        13\n",
            "      Ground       0.00      0.00      0.00         7\n",
            "         Ice       0.00      0.00      0.00         3\n",
            "      Normal       0.62      0.42      0.50        19\n",
            "      Poison       0.33      0.33      0.33         6\n",
            "     Psychic       1.00      0.62      0.77         8\n",
            "        Rock       0.38      0.71      0.50         7\n",
            "       Steel       0.18      0.29      0.22         7\n",
            "       Water       0.82      0.78      0.80        18\n",
            "\n",
            "    accuracy                           0.60       144\n",
            "   macro avg       0.51      0.51      0.50       144\n",
            "weighted avg       0.61      0.60      0.60       144\n",
            "\n"
          ],
          "name": "stdout"
        },
        {
          "output_type": "stream",
          "text": [
            "/usr/local/lib/python3.7/dist-packages/sklearn/metrics/_classification.py:1245: UndefinedMetricWarning: Precision and F-score are ill-defined and being set to 0.0 in labels with no predicted samples. Use `zero_division` parameter to control this behavior.\n",
            "  _warn_prf(average, modifier, msg_start, len(result))\n",
            "/usr/local/lib/python3.7/dist-packages/sklearn/metrics/_classification.py:1245: UndefinedMetricWarning: Precision and F-score are ill-defined and being set to 0.0 in labels with no predicted samples. Use `zero_division` parameter to control this behavior.\n",
            "  _warn_prf(average, modifier, msg_start, len(result))\n",
            "/usr/local/lib/python3.7/dist-packages/sklearn/metrics/_classification.py:1245: UndefinedMetricWarning: Precision and F-score are ill-defined and being set to 0.0 in labels with no predicted samples. Use `zero_division` parameter to control this behavior.\n",
            "  _warn_prf(average, modifier, msg_start, len(result))\n"
          ],
          "name": "stderr"
        }
      ]
    },
    {
      "cell_type": "markdown",
      "metadata": {
        "id": "FKyXMI3AguN4"
      },
      "source": [
        "Intuitively, we can consider precision as the ability of our model not to label a negative sample as positive, and recall is the ability of the classifier to find all the positive samples.\n",
        "\n",
        "So when we see a high precision for the water type, that tells us our model is good at only labeling actual water types as water types (as opposed to just labelling everything as a water type and hoping for the best).\n",
        "\n",
        "And when we see a high recall for the bug type, that tells us our model is good at picking out the bug types (as opposed to just never choosing bug type and hoping for the best).\n",
        "\n",
        "We can think of the f1-score as a combination of the model's precision and recall scores.\n",
        "\n",
        "The support column tells us how many samples of the given type we classified. For classes with more examples in our dataset, they will typically have a greater value here, and we can also expect our model's scores to be better for those classes because it has seen more examples of them.\n",
        "\n",
        "The last three rows give us a summary of performance across all classes. `accuracy` is what it sounds like, `macro avg` is the average of all the precisions/recalls/f1-scores, and `weighted avg` is the average after taking into account class imbalance. \n",
        "\n",
        "See [here](https://scikit-learn.org/stable/modules/model_evaluation.html#precision-recall-and-f-measures) for more info on precision, recall, and f1-score."
      ]
    },
    {
      "cell_type": "markdown",
      "metadata": {
        "id": "9DWgLe9hrlnH"
      },
      "source": [
        "We can also look at the *confusion matrix* for our model. Entry $i,j$ in a confusion matrix is the number of observations actually in group $i$, but predicted to be in group $j$."
      ]
    },
    {
      "cell_type": "code",
      "metadata": {
        "colab": {
          "base_uri": "https://localhost:8080/",
          "height": 331
        },
        "id": "Zmml4mw2if0b",
        "outputId": "8b266257-9a10-4ea9-c575-171f7096f049"
      },
      "source": [
        "plot_confusion_matrix(clf, X_test, y_test, xticks_rotation='vertical')"
      ],
      "execution_count": null,
      "outputs": [
        {
          "output_type": "execute_result",
          "data": {
            "text/plain": [
              "<sklearn.metrics._plot.confusion_matrix.ConfusionMatrixDisplay at 0x7f1d21950c10>"
            ]
          },
          "metadata": {
            "tags": []
          },
          "execution_count": 49
        },
        {
          "output_type": "display_data",
          "data": {
            "image/png": "[encoded data removed]",
            "text/plain": [
              "<Figure size 432x288 with 2 Axes>"
            ]
          },
          "metadata": {
            "tags": [],
            "needs_background": "light"
          }
        }
      ]
    },
    {
      "cell_type": "markdown",
      "metadata": {
        "id": "gZZVReX0sB81"
      },
      "source": [
        "We want to see brighter colours along the left to right diagonal, because that will tell us more samples are being predicted correctly for each class.\n",
        "\n",
        "If we see a brighter colour outside of the left to right diagonal, that tells us a specific class is being incorrectly predicted as another class frequently. For example, we may see that dark types were predicted as normal types 4 times."
      ]
    },
    {
      "cell_type": "markdown",
      "metadata": {
        "id": "Y_4J91H2skOO"
      },
      "source": [
        "The combination of the evaluation methods described above can help us improve our model. For example, we may see that our model is underperforming for dark type pokemon, so we may want to direct our efforts towards gathering more dark type examples.\n",
        "\n",
        "Another common strategy is to look at the SKLearn documentation for the model you're using and read over the parameter descriptions to find anything related to your problem. For example, we might look at the [LogisticRegressionCV](https://scikit-learn.org/stable/modules/generated/sklearn.linear_model.LogisticRegressionCV.html) documentation and change the `scoring` and `class_weight` to work better for our imbalanced data."
      ]
    },
    {
      "cell_type": "markdown",
      "metadata": {
        "id": "k2m2ENFI-ENW"
      },
      "source": [
        "**Final Challenge**: Create a model that predicts whether a pokemon is a fire type, water type, grass type, or none of the above."
      ]
    },
    {
      "cell_type": "code",
      "metadata": {
        "id": "qeWfFSrl-Dgg"
      },
      "source": [
        ""
      ],
      "execution_count": null,
      "outputs": []
    },
    {
      "cell_type": "markdown",
      "metadata": {
        "id": "fGusVtkXKX5Z"
      },
      "source": [
        "# Automated Test Suite"
      ]
    },
    {
      "cell_type": "markdown",
      "metadata": {
        "id": "_Fx8wqhoJy6m"
      },
      "source": [
        "## Pre-train tests\n"
      ]
    },
    {
      "cell_type": "code",
      "metadata": {
        "id": "udDBSGcgJ-rQ"
      },
      "source": [
        "def test_data_leak_in_test_data(X_train, X_test):\n",
        "    train, test = X_train, X_test \n",
        "\n",
        "    concat_df = pd.concat([train, test])\n",
        "    concat_df.drop_duplicates(inplace=True)\n",
        "\n",
        "    assert concat_df.shape[0] == train.shape[0] + test.shape[0]"
      ],
      "execution_count": null,
      "outputs": []
    },
    {
      "cell_type": "code",
      "metadata": {
        "id": "TKkXuyQLKzLC"
      },
      "source": [
        "test_data_leak_in_test_data(pd.DataFrame(X_train), pd.DataFrame(X_test))"
      ],
      "execution_count": null,
      "outputs": []
    },
    {
      "cell_type": "markdown",
      "metadata": {
        "id": "gBQq5T3_K3Qg"
      },
      "source": [
        "## Post-train tests"
      ]
    },
    {
      "cell_type": "code",
      "metadata": {
        "id": "P5pJ150bK229"
      },
      "source": [
        "def dummy_pokemon():\n",
        "    # Based on Bulbasaur\n",
        "    pokemon = {\n",
        "        'Name': 'Bulbasaur',\n",
        "        'Type_1': 'Grass',\n",
        "        'Type_2': 'Poison',\n",
        "        'Total': 318,\n",
        "        'HP': 45,\n",
        "        'Attack': 49,\n",
        "        'Defense': 49,\n",
        "        'Sp_Atk': 65,\n",
        "        'Sp_Def': 65,\n",
        "        'Speed': 45,\n",
        "        'Generation': 1,\n",
        "        'isLegendary': False,\n",
        "        'Color': 'Green',\n",
        "        'hasGender': True,\n",
        "        'Pr_Male': 0.875,\n",
        "        'Egg_Group_1': 'Monster',\n",
        "        'Egg_Group_2': 'Grass',\n",
        "        'hasMegaEvolution': False,\n",
        "        'Height_m': 0.71,\n",
        "        'Weight_kg': 6.9,\n",
        "        'Catch_Rate': 45,\n",
        "        'Body_Style': 'quadruped'\n",
        "    }\n",
        "\n",
        "    # preprocessing\n",
        "    pokemon = pd.DataFrame(pokemon, index=[0]).drop(['Type_1', 'Type_2'], axis=1).fillna(0)\n",
        "    pokemon = pokemon.set_index('Name', drop=True)\n",
        "    pokemon_cat = pokemon.astype('category')\n",
        "    pokemon_cat['Color'] = pokemon_cat['Color'].cat.set_categories(\n",
        "        ['Green', 'Red', 'Blue', 'White', 'Brown', 'Yellow', 'Purple', 'Pink', \n",
        "         'Grey', 'Black'])\n",
        "    pokemon_cat['Egg_Group_1'] = pokemon_cat['Egg_Group_1'].cat.set_categories(\n",
        "        ['Monster', 'Bug', 'Flying', 'Field', 'Undiscovered', 'Fairy', 'Grass', \n",
        "         'Water_1', 'Human-Like', 'Water_3', 'Mineral', 'Amorphous', 'Water_2', \n",
        "         'Ditto', 'Dragon'])\n",
        "    pokemon_cat['Egg_Group_2'] = pokemon_cat['Egg_Group_2'].cat.set_categories(\n",
        "        ['Grass', 'Dragon', 'Water_1', 0, 'Fairy', 'Field', 'Water_3',\n",
        "         'Water_2', 'Flying', 'Bug', 'Human-Like', 'Amorphous', 'Mineral', \n",
        "         'Monster'])\n",
        "    pokemon_cat['Body_Style'] = pokemon_cat['Body_Style'].cat.set_categories(\n",
        "        ['quadruped', 'bipedal_tailed', 'insectoid', 'serpentine_body',\n",
        "         'four_wings', 'two_wings', 'bipedal_tailless', 'head_legs',\n",
        "         'head_base', 'multiple_bodies', 'several_limbs', 'head_arms',\n",
        "         'with_fins', 'head_only'])\n",
        "    pokemon_cat = pd.get_dummies(pokemon_cat, columns=['Color', 'Egg_Group_1', 'Egg_Group_2', 'Body_Style']).replace({True: 1, False: 0})\n",
        "    pokemon_cat = pokemon_cat.rename({'Egg_Group_2_': 'Egg_Group_2_0'})\n",
        "\n",
        "    column_order = [\n",
        "        'Total',\n",
        "        'HP',\n",
        "        'Attack',\n",
        "        'Defense',\n",
        "        'Sp_Atk',\n",
        "        'Sp_Def',\n",
        "        'Speed',\n",
        "        'Generation',\n",
        "        'isLegendary',\n",
        "        'hasGender',\n",
        "        'Pr_Male',\n",
        "        'hasMegaEvolution',\n",
        "        'Height_m',\n",
        "        'Weight_kg',\n",
        "        'Catch_Rate',\n",
        "        'Color_Black',\n",
        "        'Color_Blue',\n",
        "        'Color_Brown',\n",
        "        'Color_Green',\n",
        "        'Color_Grey',\n",
        "        'Color_Pink',\n",
        "        'Color_Purple',\n",
        "        'Color_Red',\n",
        "        'Color_White',\n",
        "        'Color_Yellow',\n",
        "        'Egg_Group_1_Amorphous',\n",
        "        'Egg_Group_1_Bug',\n",
        "        'Egg_Group_1_Ditto',\n",
        "        'Egg_Group_1_Dragon',\n",
        "        'Egg_Group_1_Fairy',\n",
        "        'Egg_Group_1_Field',\n",
        "        'Egg_Group_1_Flying',\n",
        "        'Egg_Group_1_Grass',\n",
        "        'Egg_Group_1_Human-Like',\n",
        "        'Egg_Group_1_Mineral',\n",
        "        'Egg_Group_1_Monster',\n",
        "        'Egg_Group_1_Undiscovered',\n",
        "        'Egg_Group_1_Water_1',\n",
        "        'Egg_Group_1_Water_2',\n",
        "        'Egg_Group_1_Water_3',\n",
        "        'Egg_Group_2_0',\n",
        "        'Egg_Group_2_Amorphous',\n",
        "        'Egg_Group_2_Bug',\n",
        "        'Egg_Group_2_Dragon',\n",
        "        'Egg_Group_2_Fairy',\n",
        "        'Egg_Group_2_Field',\n",
        "        'Egg_Group_2_Flying',\n",
        "        'Egg_Group_2_Grass',\n",
        "        'Egg_Group_2_Human-Like',\n",
        "        'Egg_Group_2_Mineral',\n",
        "        'Egg_Group_2_Monster',\n",
        "        'Egg_Group_2_Water_1',\n",
        "        'Egg_Group_2_Water_2',\n",
        "        'Egg_Group_2_Water_3',\n",
        "        'Body_Style_bipedal_tailed',\n",
        "        'Body_Style_bipedal_tailless',\n",
        "        'Body_Style_four_wings',\n",
        "        'Body_Style_head_arms',\n",
        "        'Body_Style_head_base',\n",
        "        'Body_Style_head_legs',\n",
        "        'Body_Style_head_only',\n",
        "        'Body_Style_insectoid',\n",
        "        'Body_Style_multiple_bodies',\n",
        "        'Body_Style_quadruped',\n",
        "        'Body_Style_serpentine_body',\n",
        "        'Body_Style_several_limbs',\n",
        "        'Body_Style_two_wings',\n",
        "        'Body_Style_with_fins'\n",
        "    ]\n",
        "\n",
        "    pokemon_cat = pokemon_cat[column_order]\n",
        "\n",
        "    return pokemon_cat\n",
        "\n",
        "\n",
        "def test_directional_expectation(dummy_pokemon, model):\n",
        "    # Get original fire probability prediction of dummy_pokemon\n",
        "    original_prediction = model.predict_proba(dummy_pokemon)[:,1]\n",
        "\n",
        "    # Change colour from green to red\n",
        "    X_colour = dummy_pokemon.copy()\n",
        "    X_colour['Color_Green'] = 0\n",
        "    X_colour['Color_Red'] = 1\n",
        "    colour_prediction = model.predict_proba(X_colour)[:,1]\n",
        "\n",
        "    # Change Sp_Atk from 65 to 95\n",
        "    X_Sp_Atk = dummy_pokemon.copy()\n",
        "    X_Sp_Atk['Sp_Atk'] = 95\n",
        "    Sp_Atk_prediction = model.predict_proba(X_Sp_Atk)[:,1]\n",
        "\n",
        "    assert colour_prediction > original_prediction, 'Changing colour from green to red should increase predicted fire probability.'\n",
        "    assert Sp_Atk_prediction > original_prediction, 'Changing Sp_Atk from 65 to 95 should increase predicted fire probability.'"
      ],
      "execution_count": null,
      "outputs": []
    },
    {
      "cell_type": "code",
      "metadata": {
        "id": "3xrv9gj_g_J8"
      },
      "source": [
        "test_directional_expectation(dummy_pokemon(), clf)"
      ],
      "execution_count": null,
      "outputs": []
    },
    {
      "cell_type": "markdown",
      "metadata": {
        "id": "vh5-BUkpK9eV"
      },
      "source": [
        "## Model Evaluation"
      ]
    },
    {
      "cell_type": "code",
      "metadata": {
        "id": "TxItN36ANeEx"
      },
      "source": [
        "def test_evaluation(model, X_test, y_test):\n",
        "    pred = model.predict(X_test)\n",
        "    acc = accuracy_score(y_test, pred)\n",
        "    balanced_acc = balanced_accuracy_score(y_test, pred)\n",
        "    fire_acc = portion_fire_correct(pred, y_test)\n",
        "    auc_test = roc_auc_score(y_test, pred)\n",
        "\n",
        "    assert acc > 0.8, 'Accuracy on test data should be > 0.8'\n",
        "    assert balanced_acc > 0.75, 'Balanced accuracy on test data should be > 0.75'\n",
        "    assert fire_acc > 0.7, 'Minority class accuracy on test data should be > 0.7'\n",
        "    assert auc_test > 0.8, 'AUC ROC on test should be > 0.8'"
      ],
      "execution_count": null,
      "outputs": []
    },
    {
      "cell_type": "markdown",
      "metadata": {
        "id": "hDQu1vWbRHAC"
      },
      "source": [
        "# Web Application"
      ]
    },
    {
      "cell_type": "markdown",
      "metadata": {
        "id": "mQ5LUd_Z1xcb"
      },
      "source": [
        "## Saving the Model with Pickle"
      ]
    },
    {
      "cell_type": "code",
      "metadata": {
        "id": "HPDj5IpjDsGk"
      },
      "source": [
        "import pickle\n",
        "\n",
        "# saving the model\n",
        "pickle.dump(clf, open('pokemon_classifier.pickle', 'wb'))"
      ],
      "execution_count": null,
      "outputs": []
    },
    {
      "cell_type": "markdown",
      "metadata": {
        "id": "DZqY_jsLZ3vv"
      },
      "source": [
        "## Creating a csv File with Preprocessed Pokemon Data"
      ]
    },
    {
      "cell_type": "code",
      "metadata": {
        "id": "Fh0TOOz3YFS3"
      },
      "source": [
        "data = pd.read_csv('pokemon_alopez247.csv', index_col='Name').drop('Number', axis=1)\n",
        "data.index = [index.lower() for index in data.index]\n",
        "data.index.name = 'Name'\n",
        "data = data.drop(labels=['Type_1', 'Type_2'], axis=1).fillna(0)\n",
        "data = pd.get_dummies(data).replace({True: 1, False: 0})"
      ],
      "execution_count": null,
      "outputs": []
    },
    {
      "cell_type": "code",
      "metadata": {
        "colab": {
          "base_uri": "https://localhost:8080/",
          "height": 270
        },
        "id": "iqdVMRVlZ2uR",
        "outputId": "e9fbc806-7aca-4fa2-8a2e-7f726f2fdff8"
      },
      "source": [
        "data.head()"
      ],
      "execution_count": null,
      "outputs": [
        {
          "output_type": "execute_result",
          "data": {
            "text/html": [
              "<div>\n",
              "<style scoped>\n",
              "    .dataframe tbody tr th:only-of-type {\n",
              "        vertical-align: middle;\n",
              "    }\n",
              "\n",
              "    .dataframe tbody tr th {\n",
              "        vertical-align: top;\n",
              "    }\n",
              "\n",
              "    .dataframe thead th {\n",
              "        text-align: right;\n",
              "    }\n",
              "</style>\n",
              "<table border=\"1\" class=\"dataframe\">\n",
              "  <thead>\n",
              "    <tr style=\"text-align: right;\">\n",
              "      <th></th>\n",
              "      <th>Total</th>\n",
              "      <th>HP</th>\n",
              "      <th>Attack</th>\n",
              "      <th>Defense</th>\n",
              "      <th>Sp_Atk</th>\n",
              "      <th>Sp_Def</th>\n",
              "      <th>Speed</th>\n",
              "      <th>Generation</th>\n",
              "      <th>isLegendary</th>\n",
              "      <th>hasGender</th>\n",
              "      <th>Pr_Male</th>\n",
              "      <th>hasMegaEvolution</th>\n",
              "      <th>Height_m</th>\n",
              "      <th>Weight_kg</th>\n",
              "      <th>Catch_Rate</th>\n",
              "      <th>Color_Black</th>\n",
              "      <th>Color_Blue</th>\n",
              "      <th>Color_Brown</th>\n",
              "      <th>Color_Green</th>\n",
              "      <th>Color_Grey</th>\n",
              "      <th>Color_Pink</th>\n",
              "      <th>Color_Purple</th>\n",
              "      <th>Color_Red</th>\n",
              "      <th>Color_White</th>\n",
              "      <th>Color_Yellow</th>\n",
              "      <th>Egg_Group_1_Amorphous</th>\n",
              "      <th>Egg_Group_1_Bug</th>\n",
              "      <th>Egg_Group_1_Ditto</th>\n",
              "      <th>Egg_Group_1_Dragon</th>\n",
              "      <th>Egg_Group_1_Fairy</th>\n",
              "      <th>Egg_Group_1_Field</th>\n",
              "      <th>Egg_Group_1_Flying</th>\n",
              "      <th>Egg_Group_1_Grass</th>\n",
              "      <th>Egg_Group_1_Human-Like</th>\n",
              "      <th>Egg_Group_1_Mineral</th>\n",
              "      <th>Egg_Group_1_Monster</th>\n",
              "      <th>Egg_Group_1_Undiscovered</th>\n",
              "      <th>Egg_Group_1_Water_1</th>\n",
              "      <th>Egg_Group_1_Water_2</th>\n",
              "      <th>Egg_Group_1_Water_3</th>\n",
              "      <th>Egg_Group_2_0</th>\n",
              "      <th>Egg_Group_2_Amorphous</th>\n",
              "      <th>Egg_Group_2_Bug</th>\n",
              "      <th>Egg_Group_2_Dragon</th>\n",
              "      <th>Egg_Group_2_Fairy</th>\n",
              "      <th>Egg_Group_2_Field</th>\n",
              "      <th>Egg_Group_2_Flying</th>\n",
              "      <th>Egg_Group_2_Grass</th>\n",
              "      <th>Egg_Group_2_Human-Like</th>\n",
              "      <th>Egg_Group_2_Mineral</th>\n",
              "      <th>Egg_Group_2_Monster</th>\n",
              "      <th>Egg_Group_2_Water_1</th>\n",
              "      <th>Egg_Group_2_Water_2</th>\n",
              "      <th>Egg_Group_2_Water_3</th>\n",
              "      <th>Body_Style_bipedal_tailed</th>\n",
              "      <th>Body_Style_bipedal_tailless</th>\n",
              "      <th>Body_Style_four_wings</th>\n",
              "      <th>Body_Style_head_arms</th>\n",
              "      <th>Body_Style_head_base</th>\n",
              "      <th>Body_Style_head_legs</th>\n",
              "      <th>Body_Style_head_only</th>\n",
              "      <th>Body_Style_insectoid</th>\n",
              "      <th>Body_Style_multiple_bodies</th>\n",
              "      <th>Body_Style_quadruped</th>\n",
              "      <th>Body_Style_serpentine_body</th>\n",
              "      <th>Body_Style_several_limbs</th>\n",
              "      <th>Body_Style_two_wings</th>\n",
              "      <th>Body_Style_with_fins</th>\n",
              "    </tr>\n",
              "    <tr>\n",
              "      <th>Name</th>\n",
              "      <th></th>\n",
              "      <th></th>\n",
              "      <th></th>\n",
              "      <th></th>\n",
              "      <th></th>\n",
              "      <th></th>\n",
              "      <th></th>\n",
              "      <th></th>\n",
              "      <th></th>\n",
              "      <th></th>\n",
              "      <th></th>\n",
              "      <th></th>\n",
              "      <th></th>\n",
              "      <th></th>\n",
              "      <th></th>\n",
              "      <th></th>\n",
              "      <th></th>\n",
              "      <th></th>\n",
              "      <th></th>\n",
              "      <th></th>\n",
              "      <th></th>\n",
              "      <th></th>\n",
              "      <th></th>\n",
              "      <th></th>\n",
              "      <th></th>\n",
              "      <th></th>\n",
              "      <th></th>\n",
              "      <th></th>\n",
              "      <th></th>\n",
              "      <th></th>\n",
              "      <th></th>\n",
              "      <th></th>\n",
              "      <th></th>\n",
              "      <th></th>\n",
              "      <th></th>\n",
              "      <th></th>\n",
              "      <th></th>\n",
              "      <th></th>\n",
              "      <th></th>\n",
              "      <th></th>\n",
              "      <th></th>\n",
              "      <th></th>\n",
              "      <th></th>\n",
              "      <th></th>\n",
              "      <th></th>\n",
              "      <th></th>\n",
              "      <th></th>\n",
              "      <th></th>\n",
              "      <th></th>\n",
              "      <th></th>\n",
              "      <th></th>\n",
              "      <th></th>\n",
              "      <th></th>\n",
              "      <th></th>\n",
              "      <th></th>\n",
              "      <th></th>\n",
              "      <th></th>\n",
              "      <th></th>\n",
              "      <th></th>\n",
              "      <th></th>\n",
              "      <th></th>\n",
              "      <th></th>\n",
              "      <th></th>\n",
              "      <th></th>\n",
              "      <th></th>\n",
              "      <th></th>\n",
              "      <th></th>\n",
              "      <th></th>\n",
              "    </tr>\n",
              "  </thead>\n",
              "  <tbody>\n",
              "    <tr>\n",
              "      <th>bulbasaur</th>\n",
              "      <td>318</td>\n",
              "      <td>45</td>\n",
              "      <td>49</td>\n",
              "      <td>49</td>\n",
              "      <td>65</td>\n",
              "      <td>65</td>\n",
              "      <td>45</td>\n",
              "      <td>1</td>\n",
              "      <td>0</td>\n",
              "      <td>1</td>\n",
              "      <td>0.875</td>\n",
              "      <td>0</td>\n",
              "      <td>0.71</td>\n",
              "      <td>6.9</td>\n",
              "      <td>45</td>\n",
              "      <td>0</td>\n",
              "      <td>0</td>\n",
              "      <td>0</td>\n",
              "      <td>1</td>\n",
              "      <td>0</td>\n",
              "      <td>0</td>\n",
              "      <td>0</td>\n",
              "      <td>0</td>\n",
              "      <td>0</td>\n",
              "      <td>0</td>\n",
              "      <td>0</td>\n",
              "      <td>0</td>\n",
              "      <td>0</td>\n",
              "      <td>0</td>\n",
              "      <td>0</td>\n",
              "      <td>0</td>\n",
              "      <td>0</td>\n",
              "      <td>0</td>\n",
              "      <td>0</td>\n",
              "      <td>0</td>\n",
              "      <td>1</td>\n",
              "      <td>0</td>\n",
              "      <td>0</td>\n",
              "      <td>0</td>\n",
              "      <td>0</td>\n",
              "      <td>0</td>\n",
              "      <td>0</td>\n",
              "      <td>0</td>\n",
              "      <td>0</td>\n",
              "      <td>0</td>\n",
              "      <td>0</td>\n",
              "      <td>0</td>\n",
              "      <td>1</td>\n",
              "      <td>0</td>\n",
              "      <td>0</td>\n",
              "      <td>0</td>\n",
              "      <td>0</td>\n",
              "      <td>0</td>\n",
              "      <td>0</td>\n",
              "      <td>0</td>\n",
              "      <td>0</td>\n",
              "      <td>0</td>\n",
              "      <td>0</td>\n",
              "      <td>0</td>\n",
              "      <td>0</td>\n",
              "      <td>0</td>\n",
              "      <td>0</td>\n",
              "      <td>0</td>\n",
              "      <td>1</td>\n",
              "      <td>0</td>\n",
              "      <td>0</td>\n",
              "      <td>0</td>\n",
              "      <td>0</td>\n",
              "    </tr>\n",
              "    <tr>\n",
              "      <th>ivysaur</th>\n",
              "      <td>405</td>\n",
              "      <td>60</td>\n",
              "      <td>62</td>\n",
              "      <td>63</td>\n",
              "      <td>80</td>\n",
              "      <td>80</td>\n",
              "      <td>60</td>\n",
              "      <td>1</td>\n",
              "      <td>0</td>\n",
              "      <td>1</td>\n",
              "      <td>0.875</td>\n",
              "      <td>0</td>\n",
              "      <td>0.99</td>\n",
              "      <td>13.0</td>\n",
              "      <td>45</td>\n",
              "      <td>0</td>\n",
              "      <td>0</td>\n",
              "      <td>0</td>\n",
              "      <td>1</td>\n",
              "      <td>0</td>\n",
              "      <td>0</td>\n",
              "      <td>0</td>\n",
              "      <td>0</td>\n",
              "      <td>0</td>\n",
              "      <td>0</td>\n",
              "      <td>0</td>\n",
              "      <td>0</td>\n",
              "      <td>0</td>\n",
              "      <td>0</td>\n",
              "      <td>0</td>\n",
              "      <td>0</td>\n",
              "      <td>0</td>\n",
              "      <td>0</td>\n",
              "      <td>0</td>\n",
              "      <td>0</td>\n",
              "      <td>1</td>\n",
              "      <td>0</td>\n",
              "      <td>0</td>\n",
              "      <td>0</td>\n",
              "      <td>0</td>\n",
              "      <td>0</td>\n",
              "      <td>0</td>\n",
              "      <td>0</td>\n",
              "      <td>0</td>\n",
              "      <td>0</td>\n",
              "      <td>0</td>\n",
              "      <td>0</td>\n",
              "      <td>1</td>\n",
              "      <td>0</td>\n",
              "      <td>0</td>\n",
              "      <td>0</td>\n",
              "      <td>0</td>\n",
              "      <td>0</td>\n",
              "      <td>0</td>\n",
              "      <td>0</td>\n",
              "      <td>0</td>\n",
              "      <td>0</td>\n",
              "      <td>0</td>\n",
              "      <td>0</td>\n",
              "      <td>0</td>\n",
              "      <td>0</td>\n",
              "      <td>0</td>\n",
              "      <td>0</td>\n",
              "      <td>1</td>\n",
              "      <td>0</td>\n",
              "      <td>0</td>\n",
              "      <td>0</td>\n",
              "      <td>0</td>\n",
              "    </tr>\n",
              "    <tr>\n",
              "      <th>venusaur</th>\n",
              "      <td>525</td>\n",
              "      <td>80</td>\n",
              "      <td>82</td>\n",
              "      <td>83</td>\n",
              "      <td>100</td>\n",
              "      <td>100</td>\n",
              "      <td>80</td>\n",
              "      <td>1</td>\n",
              "      <td>0</td>\n",
              "      <td>1</td>\n",
              "      <td>0.875</td>\n",
              "      <td>1</td>\n",
              "      <td>2.01</td>\n",
              "      <td>100.0</td>\n",
              "      <td>45</td>\n",
              "      <td>0</td>\n",
              "      <td>0</td>\n",
              "      <td>0</td>\n",
              "      <td>1</td>\n",
              "      <td>0</td>\n",
              "      <td>0</td>\n",
              "      <td>0</td>\n",
              "      <td>0</td>\n",
              "      <td>0</td>\n",
              "      <td>0</td>\n",
              "      <td>0</td>\n",
              "      <td>0</td>\n",
              "      <td>0</td>\n",
              "      <td>0</td>\n",
              "      <td>0</td>\n",
              "      <td>0</td>\n",
              "      <td>0</td>\n",
              "      <td>0</td>\n",
              "      <td>0</td>\n",
              "      <td>0</td>\n",
              "      <td>1</td>\n",
              "      <td>0</td>\n",
              "      <td>0</td>\n",
              "      <td>0</td>\n",
              "      <td>0</td>\n",
              "      <td>0</td>\n",
              "      <td>0</td>\n",
              "      <td>0</td>\n",
              "      <td>0</td>\n",
              "      <td>0</td>\n",
              "      <td>0</td>\n",
              "      <td>0</td>\n",
              "      <td>1</td>\n",
              "      <td>0</td>\n",
              "      <td>0</td>\n",
              "      <td>0</td>\n",
              "      <td>0</td>\n",
              "      <td>0</td>\n",
              "      <td>0</td>\n",
              "      <td>0</td>\n",
              "      <td>0</td>\n",
              "      <td>0</td>\n",
              "      <td>0</td>\n",
              "      <td>0</td>\n",
              "      <td>0</td>\n",
              "      <td>0</td>\n",
              "      <td>0</td>\n",
              "      <td>0</td>\n",
              "      <td>1</td>\n",
              "      <td>0</td>\n",
              "      <td>0</td>\n",
              "      <td>0</td>\n",
              "      <td>0</td>\n",
              "    </tr>\n",
              "    <tr>\n",
              "      <th>charmander</th>\n",
              "      <td>309</td>\n",
              "      <td>39</td>\n",
              "      <td>52</td>\n",
              "      <td>43</td>\n",
              "      <td>60</td>\n",
              "      <td>50</td>\n",
              "      <td>65</td>\n",
              "      <td>1</td>\n",
              "      <td>0</td>\n",
              "      <td>1</td>\n",
              "      <td>0.875</td>\n",
              "      <td>0</td>\n",
              "      <td>0.61</td>\n",
              "      <td>8.5</td>\n",
              "      <td>45</td>\n",
              "      <td>0</td>\n",
              "      <td>0</td>\n",
              "      <td>0</td>\n",
              "      <td>0</td>\n",
              "      <td>0</td>\n",
              "      <td>0</td>\n",
              "      <td>0</td>\n",
              "      <td>1</td>\n",
              "      <td>0</td>\n",
              "      <td>0</td>\n",
              "      <td>0</td>\n",
              "      <td>0</td>\n",
              "      <td>0</td>\n",
              "      <td>0</td>\n",
              "      <td>0</td>\n",
              "      <td>0</td>\n",
              "      <td>0</td>\n",
              "      <td>0</td>\n",
              "      <td>0</td>\n",
              "      <td>0</td>\n",
              "      <td>1</td>\n",
              "      <td>0</td>\n",
              "      <td>0</td>\n",
              "      <td>0</td>\n",
              "      <td>0</td>\n",
              "      <td>0</td>\n",
              "      <td>0</td>\n",
              "      <td>0</td>\n",
              "      <td>1</td>\n",
              "      <td>0</td>\n",
              "      <td>0</td>\n",
              "      <td>0</td>\n",
              "      <td>0</td>\n",
              "      <td>0</td>\n",
              "      <td>0</td>\n",
              "      <td>0</td>\n",
              "      <td>0</td>\n",
              "      <td>0</td>\n",
              "      <td>0</td>\n",
              "      <td>1</td>\n",
              "      <td>0</td>\n",
              "      <td>0</td>\n",
              "      <td>0</td>\n",
              "      <td>0</td>\n",
              "      <td>0</td>\n",
              "      <td>0</td>\n",
              "      <td>0</td>\n",
              "      <td>0</td>\n",
              "      <td>0</td>\n",
              "      <td>0</td>\n",
              "      <td>0</td>\n",
              "      <td>0</td>\n",
              "      <td>0</td>\n",
              "    </tr>\n",
              "    <tr>\n",
              "      <th>charmeleon</th>\n",
              "      <td>405</td>\n",
              "      <td>58</td>\n",
              "      <td>64</td>\n",
              "      <td>58</td>\n",
              "      <td>80</td>\n",
              "      <td>65</td>\n",
              "      <td>80</td>\n",
              "      <td>1</td>\n",
              "      <td>0</td>\n",
              "      <td>1</td>\n",
              "      <td>0.875</td>\n",
              "      <td>0</td>\n",
              "      <td>1.09</td>\n",
              "      <td>19.0</td>\n",
              "      <td>45</td>\n",
              "      <td>0</td>\n",
              "      <td>0</td>\n",
              "      <td>0</td>\n",
              "      <td>0</td>\n",
              "      <td>0</td>\n",
              "      <td>0</td>\n",
              "      <td>0</td>\n",
              "      <td>1</td>\n",
              "      <td>0</td>\n",
              "      <td>0</td>\n",
              "      <td>0</td>\n",
              "      <td>0</td>\n",
              "      <td>0</td>\n",
              "      <td>0</td>\n",
              "      <td>0</td>\n",
              "      <td>0</td>\n",
              "      <td>0</td>\n",
              "      <td>0</td>\n",
              "      <td>0</td>\n",
              "      <td>0</td>\n",
              "      <td>1</td>\n",
              "      <td>0</td>\n",
              "      <td>0</td>\n",
              "      <td>0</td>\n",
              "      <td>0</td>\n",
              "      <td>0</td>\n",
              "      <td>0</td>\n",
              "      <td>0</td>\n",
              "      <td>1</td>\n",
              "      <td>0</td>\n",
              "      <td>0</td>\n",
              "      <td>0</td>\n",
              "      <td>0</td>\n",
              "      <td>0</td>\n",
              "      <td>0</td>\n",
              "      <td>0</td>\n",
              "      <td>0</td>\n",
              "      <td>0</td>\n",
              "      <td>0</td>\n",
              "      <td>1</td>\n",
              "      <td>0</td>\n",
              "      <td>0</td>\n",
              "      <td>0</td>\n",
              "      <td>0</td>\n",
              "      <td>0</td>\n",
              "      <td>0</td>\n",
              "      <td>0</td>\n",
              "      <td>0</td>\n",
              "      <td>0</td>\n",
              "      <td>0</td>\n",
              "      <td>0</td>\n",
              "      <td>0</td>\n",
              "      <td>0</td>\n",
              "    </tr>\n",
              "  </tbody>\n",
              "</table>\n",
              "</div>"
            ],
            "text/plain": [
              "            Total  HP  ...  Body_Style_two_wings  Body_Style_with_fins\n",
              "Name                   ...                                            \n",
              "bulbasaur     318  45  ...                     0                     0\n",
              "ivysaur       405  60  ...                     0                     0\n",
              "venusaur      525  80  ...                     0                     0\n",
              "charmander    309  39  ...                     0                     0\n",
              "charmeleon    405  58  ...                     0                     0\n",
              "\n",
              "[5 rows x 68 columns]"
            ]
          },
          "metadata": {
            "tags": []
          },
          "execution_count": 160
        }
      ]
    },
    {
      "cell_type": "code",
      "metadata": {
        "id": "5BsHmWHCcAaS"
      },
      "source": [
        "data.to_csv('preprocessed_pokemon_data.csv', sep=',')"
      ],
      "execution_count": null,
      "outputs": []
    },
    {
      "cell_type": "markdown",
      "metadata": {
        "id": "FDsrbi3mouBl"
      },
      "source": [
        "# References\n",
        "\n",
        "- https://medium.com/@DataStevenson/logistic-regression-and-pokemon-945e954d84a3\n",
        "- `pokemon_alopez247.csv` from https://www.kaggle.com/alopez247/pokemon\n",
        "- [How to Test Machine Learning Code and Systems by Eugene Yan](https://eugeneyan.com/writing/testing-ml/)\n"
      ]
    }
  ]
}